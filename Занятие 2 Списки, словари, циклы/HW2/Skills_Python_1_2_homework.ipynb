{
  "nbformat": 4,
  "nbformat_minor": 0,
  "metadata": {
    "kernelspec": {
      "display_name": "Python 3 (system-wide)",
      "language": "python",
      "metadata": {
        "cocalc": {
          "description": "Python 3 programming language",
          "priority": 100,
          "url": "https://www.python.org/"
        }
      },
      "name": "python3",
      "resource_dir": "/ext/jupyter/kernels/python3"
    },
    "language_info": {
      "codemirror_mode": {
        "name": "ipython",
        "version": 3
      },
      "file_extension": ".py",
      "mimetype": "text/x-python",
      "name": "python",
      "nbconvert_exporter": "python",
      "pygments_lexer": "ipython3",
      "version": "3.8.3"
    },
    "colab": {
      "name": "Skills_Python_1.2_homework.ipynb",
      "provenance": [],
      "collapsed_sections": []
    }
  },
  "cells": [
    {
      "cell_type": "markdown",
      "source": [
        "\n",
        "#### Задача\n",
        "\n",
        "У нас есть список с 100 000 оплат с разной суммой, которые мы получили в прошлом.\n",
        "\n",
        "Руководитель хочет проверить, сколько выручки мы бы потеряли, если бы делали кэшбек 5% на все оплаты больше 8000 рублей.\n"
      ],
      "metadata": {
        "id": "sU8FdnY9jKfQ"
      }
    },
    {
      "cell_type": "markdown",
      "source": [
        ""
      ],
      "metadata": {
        "id": "5nJEZfFdka-R"
      }
    },
    {
      "cell_type": "code",
      "source": [
        "from google.colab import drive\n",
        "drive.mount('/content/drive')"
      ],
      "metadata": {
        "colab": {
          "base_uri": "https://localhost:8080/"
        },
        "id": "y2irUzYQyCxM",
        "outputId": "c5c6e6b5-810a-470b-f72b-aaf50b6c156e"
      },
      "execution_count": 1,
      "outputs": [
        {
          "output_type": "stream",
          "name": "stdout",
          "text": [
            "Drive already mounted at /content/drive; to attempt to forcibly remount, call drive.mount(\"/content/drive\", force_remount=True).\n"
          ]
        }
      ]
    },
    {
      "cell_type": "code",
      "source": [
        "#Подключаем python файл как модуль\n",
        "import sys\n",
        "sys.path.insert(0,'/content/drive/MyDrive/SkyPro/2')\n",
        "from payments_module import payments_list as payments #подключаемся к данным\n"
      ],
      "metadata": {
        "id": "Eek6vo2JyJAx"
      },
      "execution_count": 2,
      "outputs": []
    },
    {
      "cell_type": "markdown",
      "source": [
        "У нас есть список с 100 000 оплат с разной суммой, которые мы получили в прошлом.\n",
        "\n",
        "Руководитель хочет проверить, сколько выручки мы бы потеряли, если бы делали кэшбек 5% на все оплаты больше 8000 рублей."
      ],
      "metadata": {
        "id": "k0HH2dXR3j6m"
      }
    },
    {
      "cell_type": "code",
      "source": [
        "counter = 0 \n",
        "for i in payments:\n",
        "    if i >= 8000:\n",
        "        counter += 1\n",
        "print(counter)"
      ],
      "metadata": {
        "id": "YN_jeaxoy6EE",
        "colab": {
          "base_uri": "https://localhost:8080/"
        },
        "outputId": "10f09141-b7b3-48c5-cb6f-1d3fbf3eaabb"
      },
      "execution_count": 3,
      "outputs": [
        {
          "output_type": "stream",
          "name": "stdout",
          "text": [
            "21402\n"
          ]
        }
      ]
    },
    {
      "cell_type": "code",
      "source": [
        "#Интересно посчитать, сколько мы заработали всего на оплатах больше 8000.\n",
        "\n",
        "rev_more_8000 = 0\n",
        "for i in payments:\n",
        "  if i >= 8000:\n",
        "    rev_more_8000 += i\n",
        "print(rev_more_8000)"
      ],
      "metadata": {
        "id": "7O2ab2Yx3rMX",
        "colab": {
          "base_uri": "https://localhost:8080/"
        },
        "outputId": "b488324b-1a84-4e26-d61f-b1b0d57684e3"
      },
      "execution_count": 4,
      "outputs": [
        {
          "output_type": "stream",
          "name": "stdout",
          "text": [
            "191460400\n"
          ]
        }
      ]
    },
    {
      "cell_type": "code",
      "source": [
        "#Посчитаем, сколько мы заработали всего.\n",
        "was = 0\n",
        "for i in payments:\n",
        "  was += i\n",
        "print(was)"
      ],
      "metadata": {
        "id": "iEudNOYp4gnu",
        "colab": {
          "base_uri": "https://localhost:8080/"
        },
        "outputId": "1d8644f2-930a-4669-ac2f-c48bc0781dad"
      },
      "execution_count": 5,
      "outputs": [
        {
          "output_type": "stream",
          "name": "stdout",
          "text": [
            "529427000\n"
          ]
        }
      ]
    },
    {
      "cell_type": "code",
      "source": [
        "#Посчитаем, сколько мы заработали бы, если бы вернули кешбек на покупки > 8000.\n",
        "\n",
        "could_be = 0\n",
        "for i in payments:\n",
        "  if i >= 8000:\n",
        "    could_be += i * 0.95\n",
        "  else:\n",
        "    could_be += i\n",
        "print(could_be)"
      ],
      "metadata": {
        "id": "Er3FuCy44-Rv",
        "colab": {
          "base_uri": "https://localhost:8080/"
        },
        "outputId": "f91db5eb-e0cd-4f0d-825d-37ba38fa98f0"
      },
      "execution_count": 6,
      "outputs": [
        {
          "output_type": "stream",
          "name": "stdout",
          "text": [
            "519853980.0\n"
          ]
        }
      ]
    },
    {
      "cell_type": "code",
      "source": [
        "#Посчитаем разницу между was и could_be.\n",
        "\n",
        "print((1-(could_be/was))*100)"
      ],
      "metadata": {
        "id": "PzysMcXS6L2a",
        "colab": {
          "base_uri": "https://localhost:8080/"
        },
        "outputId": "ec84f856-3f1f-4a58-f349-6af8db34695d"
      },
      "execution_count": 7,
      "outputs": [
        {
          "output_type": "stream",
          "name": "stdout",
          "text": [
            "1.8081850755628293\n"
          ]
        }
      ]
    },
    {
      "cell_type": "markdown",
      "source": [
        "\n",
        "### Задача\n",
        "\n",
        "Нам прислали в одном списке по товарам данные о цене и валюте, в которой указана цена (доллары или рубли). Необходимо преобразовать все к рублям и подготовить список с ценами в рублях к дальнейшей загрузке на сайт.\n"
      ],
      "metadata": {
        "id": "ozGYIGI2EPMc"
      }
    },
    {
      "cell_type": "code",
      "source": [
        "from prices_module import prices_in_list as prices # подключаемся к данным"
      ],
      "metadata": {
        "id": "FLeZemcWCqwU"
      },
      "execution_count": 8,
      "outputs": []
    },
    {
      "cell_type": "code",
      "source": [
        "usd_rate = 76.65"
      ],
      "metadata": {
        "id": "xuX-XpQEFiwU"
      },
      "execution_count": 9,
      "outputs": []
    },
    {
      "cell_type": "code",
      "source": [
        "#Смотрим, с чем мы имеем дело.\n",
        "print(type(prices))"
      ],
      "metadata": {
        "id": "TbqqIrSLFo2r",
        "colab": {
          "base_uri": "https://localhost:8080/"
        },
        "outputId": "b5d633fa-ab8c-46f3-a975-f6ec06b94e92"
      },
      "execution_count": 10,
      "outputs": [
        {
          "output_type": "stream",
          "name": "stdout",
          "text": [
            "<class 'list'>\n"
          ]
        }
      ]
    },
    {
      "cell_type": "code",
      "source": [
        "#Cмотрим, что лежит в первом элементе.\n",
        "print(prices[0], ' ', type(prices[0]))"
      ],
      "metadata": {
        "id": "1KJjH7TcF2Io",
        "colab": {
          "base_uri": "https://localhost:8080/"
        },
        "outputId": "408f3e7d-35bb-43df-97f8-9fa60ab066fa"
      },
      "execution_count": 11,
      "outputs": [
        {
          "output_type": "stream",
          "name": "stdout",
          "text": [
            "[1000, 'RUR']   <class 'list'>\n"
          ]
        }
      ]
    },
    {
      "cell_type": "code",
      "source": [
        "#Cмотрим, что лежит в первом элементе первого элемента.\n",
        "print(prices[0][0], ' ', type(prices[0][0]))"
      ],
      "metadata": {
        "id": "wV_QlPFVGTX0",
        "colab": {
          "base_uri": "https://localhost:8080/"
        },
        "outputId": "3b414882-22b5-4132-9b80-072a0fae0020"
      },
      "execution_count": 12,
      "outputs": [
        {
          "output_type": "stream",
          "name": "stdout",
          "text": [
            "1000   <class 'int'>\n"
          ]
        }
      ]
    },
    {
      "cell_type": "code",
      "source": [
        "#Cмотрим, что лежит во втором элементе первого элемента.\n",
        "print(prices[0][1], ' ', type(prices[0][1]))"
      ],
      "metadata": {
        "id": "Wy-vI-_eGrbm",
        "colab": {
          "base_uri": "https://localhost:8080/"
        },
        "outputId": "90aad870-fa89-4f39-a24d-076ff49a78ab"
      },
      "execution_count": 13,
      "outputs": [
        {
          "output_type": "stream",
          "name": "stdout",
          "text": [
            "RUR   <class 'str'>\n"
          ]
        }
      ]
    },
    {
      "cell_type": "code",
      "source": [
        "prices"
      ],
      "metadata": {
        "id": "aiUA39THKMLU",
        "colab": {
          "base_uri": "https://localhost:8080/"
        },
        "outputId": "c4472e4b-6621-4b66-df79-cf09fdd88a81"
      },
      "execution_count": 14,
      "outputs": [
        {
          "output_type": "execute_result",
          "data": {
            "text/plain": [
              "[[1000, 'RUR'],\n",
              " [900, 'RUR'],\n",
              " [600, 'RUR'],\n",
              " [800, 'RUR'],\n",
              " [600, 'RUR'],\n",
              " [800, 'RUR'],\n",
              " [600, 'RUR'],\n",
              " [1000, 'RUR'],\n",
              " [1000, 'RUR'],\n",
              " [700, 'RUR'],\n",
              " [700, 'RUR'],\n",
              " [600, 'RUR'],\n",
              " [800, 'RUR'],\n",
              " [800, 'RUR'],\n",
              " [600, 'RUR'],\n",
              " [900, 'RUR'],\n",
              " [700, 'RUR'],\n",
              " [1000, 'RUR'],\n",
              " [900, 'RUR'],\n",
              " [600, 'RUR'],\n",
              " [700, 'RUR'],\n",
              " [1000, 'RUR'],\n",
              " [1000, 'RUR'],\n",
              " [800, 'RUR'],\n",
              " [600, 'RUR'],\n",
              " [700, 'RUR'],\n",
              " [900, 'RUR'],\n",
              " [600, 'RUR'],\n",
              " [700, 'RUR'],\n",
              " [800, 'RUR'],\n",
              " [800, 'RUR'],\n",
              " [600, 'RUR'],\n",
              " [700, 'RUR'],\n",
              " [900, 'RUR'],\n",
              " [1000, 'RUR'],\n",
              " [700, 'RUR'],\n",
              " [700, 'RUR'],\n",
              " [1000, 'RUR'],\n",
              " [900, 'RUR'],\n",
              " [600, 'RUR'],\n",
              " [700, 'RUR'],\n",
              " [700, 'RUR'],\n",
              " [800, 'RUR'],\n",
              " [800, 'RUR'],\n",
              " [700, 'RUR'],\n",
              " [800, 'RUR'],\n",
              " [700, 'RUR'],\n",
              " [600, 'RUR'],\n",
              " [1000, 'RUR'],\n",
              " [900, 'RUR'],\n",
              " [900, 'RUR'],\n",
              " [800, 'RUR'],\n",
              " [900, 'RUR'],\n",
              " [600, 'RUR'],\n",
              " [700, 'RUR'],\n",
              " [900, 'RUR'],\n",
              " [600, 'RUR'],\n",
              " [800, 'RUR'],\n",
              " [900, 'RUR'],\n",
              " [900, 'RUR'],\n",
              " [700, 'RUR'],\n",
              " [800, 'RUR'],\n",
              " [700, 'RUR'],\n",
              " [700, 'RUR'],\n",
              " [1000, 'RUR'],\n",
              " [800, 'RUR'],\n",
              " [1000, 'RUR'],\n",
              " [1000, 'RUR'],\n",
              " [800, 'RUR'],\n",
              " [600, 'RUR'],\n",
              " [1000, 'RUR'],\n",
              " [1000, 'RUR'],\n",
              " [700, 'RUR'],\n",
              " [700, 'RUR'],\n",
              " [900, 'RUR'],\n",
              " [800, 'RUR'],\n",
              " [800, 'RUR'],\n",
              " [600, 'RUR'],\n",
              " [700, 'RUR'],\n",
              " [900, 'RUR'],\n",
              " [800, 'RUR'],\n",
              " [1000, 'RUR'],\n",
              " [600, 'RUR'],\n",
              " [700, 'RUR'],\n",
              " [600, 'RUR'],\n",
              " [600, 'RUR'],\n",
              " [800, 'RUR'],\n",
              " [600, 'RUR'],\n",
              " [800, 'RUR'],\n",
              " [600, 'RUR'],\n",
              " [1000, 'RUR'],\n",
              " [900, 'RUR'],\n",
              " [600, 'RUR'],\n",
              " [1000, 'RUR'],\n",
              " [600, 'RUR'],\n",
              " [800, 'RUR'],\n",
              " [900, 'RUR'],\n",
              " [600, 'RUR'],\n",
              " [600, 'RUR'],\n",
              " [700, 'RUR'],\n",
              " [1000, 'RUR'],\n",
              " [1000, 'RUR'],\n",
              " [700, 'RUR'],\n",
              " [1000, 'RUR'],\n",
              " [900, 'RUR'],\n",
              " [1000, 'RUR'],\n",
              " [900, 'RUR'],\n",
              " [800, 'RUR'],\n",
              " [900, 'RUR'],\n",
              " [900, 'RUR'],\n",
              " [1000, 'RUR'],\n",
              " [900, 'RUR'],\n",
              " [700, 'RUR'],\n",
              " [1000, 'RUR'],\n",
              " [900, 'RUR'],\n",
              " [600, 'RUR'],\n",
              " [700, 'RUR'],\n",
              " [600, 'RUR'],\n",
              " [900, 'RUR'],\n",
              " [600, 'RUR'],\n",
              " [1000, 'RUR'],\n",
              " [700, 'RUR'],\n",
              " [800, 'RUR'],\n",
              " [800, 'RUR'],\n",
              " [1000, 'RUR'],\n",
              " [800, 'RUR'],\n",
              " [600, 'RUR'],\n",
              " [1000, 'RUR'],\n",
              " [600, 'RUR'],\n",
              " [800, 'RUR'],\n",
              " [900, 'RUR'],\n",
              " [900, 'RUR'],\n",
              " [800, 'RUR'],\n",
              " [800, 'RUR'],\n",
              " [700, 'RUR'],\n",
              " [600, 'RUR'],\n",
              " [1000, 'RUR'],\n",
              " [800, 'RUR'],\n",
              " [1000, 'RUR'],\n",
              " [800, 'RUR'],\n",
              " [600, 'RUR'],\n",
              " [800, 'RUR'],\n",
              " [1000, 'RUR'],\n",
              " [900, 'RUR'],\n",
              " [800, 'RUR'],\n",
              " [600, 'RUR'],\n",
              " [700, 'RUR'],\n",
              " [700, 'RUR'],\n",
              " [900, 'RUR'],\n",
              " [800, 'RUR'],\n",
              " [600, 'RUR'],\n",
              " [600, 'RUR'],\n",
              " [800, 'RUR'],\n",
              " [900, 'RUR'],\n",
              " [800, 'RUR'],\n",
              " [800, 'RUR'],\n",
              " [700, 'RUR'],\n",
              " [600, 'RUR'],\n",
              " [700, 'RUR'],\n",
              " [700, 'RUR'],\n",
              " [600, 'RUR'],\n",
              " [700, 'RUR'],\n",
              " [800, 'RUR'],\n",
              " [900, 'RUR'],\n",
              " [800, 'RUR'],\n",
              " [900, 'RUR'],\n",
              " [900, 'RUR'],\n",
              " [900, 'RUR'],\n",
              " [900, 'RUR'],\n",
              " [800, 'RUR'],\n",
              " [600, 'RUR'],\n",
              " [1000, 'RUR'],\n",
              " [800, 'RUR'],\n",
              " [1000, 'RUR'],\n",
              " [1000, 'RUR'],\n",
              " [700, 'RUR'],\n",
              " [800, 'RUR'],\n",
              " [600, 'RUR'],\n",
              " [900, 'RUR'],\n",
              " [1000, 'RUR'],\n",
              " [900, 'RUR'],\n",
              " [1000, 'RUR'],\n",
              " [900, 'RUR'],\n",
              " [700, 'RUR'],\n",
              " [900, 'RUR'],\n",
              " [600, 'RUR'],\n",
              " [900, 'RUR'],\n",
              " [600, 'RUR'],\n",
              " [1000, 'RUR'],\n",
              " [900, 'RUR'],\n",
              " [1000, 'RUR'],\n",
              " [800, 'RUR'],\n",
              " [1000, 'RUR'],\n",
              " [800, 'RUR'],\n",
              " [700, 'RUR'],\n",
              " [800, 'RUR'],\n",
              " [900, 'RUR'],\n",
              " [900, 'RUR'],\n",
              " [1000, 'RUR'],\n",
              " [1000, 'RUR'],\n",
              " [600, 'RUR'],\n",
              " [800, 'RUR'],\n",
              " [700, 'RUR'],\n",
              " [800, 'RUR'],\n",
              " [900, 'RUR'],\n",
              " [1000, 'RUR'],\n",
              " [800, 'RUR'],\n",
              " [900, 'RUR'],\n",
              " [600, 'RUR'],\n",
              " [600, 'RUR'],\n",
              " [700, 'RUR'],\n",
              " [800, 'RUR'],\n",
              " [1000, 'RUR'],\n",
              " [700, 'RUR'],\n",
              " [800, 'RUR'],\n",
              " [600, 'RUR'],\n",
              " [700, 'RUR'],\n",
              " [600, 'RUR'],\n",
              " [700, 'RUR'],\n",
              " [900, 'RUR'],\n",
              " [600, 'RUR'],\n",
              " [800, 'RUR'],\n",
              " [600, 'RUR'],\n",
              " [800, 'RUR'],\n",
              " [1000, 'RUR'],\n",
              " [700, 'RUR'],\n",
              " [700, 'RUR'],\n",
              " [1000, 'RUR'],\n",
              " [1000, 'RUR'],\n",
              " [700, 'RUR'],\n",
              " [1000, 'RUR'],\n",
              " [1000, 'RUR'],\n",
              " [600, 'RUR'],\n",
              " [700, 'RUR'],\n",
              " [1000, 'RUR'],\n",
              " [1000, 'RUR'],\n",
              " [800, 'RUR'],\n",
              " [800, 'RUR'],\n",
              " [900, 'RUR'],\n",
              " [600, 'RUR'],\n",
              " [600, 'RUR'],\n",
              " [700, 'RUR'],\n",
              " [900, 'RUR'],\n",
              " [900, 'RUR'],\n",
              " [1000, 'RUR'],\n",
              " [900, 'RUR'],\n",
              " [600, 'RUR'],\n",
              " [800, 'RUR'],\n",
              " [800, 'RUR'],\n",
              " [600, 'RUR'],\n",
              " [1000, 'RUR'],\n",
              " [700, 'RUR'],\n",
              " [900, 'RUR'],\n",
              " [1000, 'RUR'],\n",
              " [800, 'RUR'],\n",
              " [700, 'RUR'],\n",
              " [700, 'RUR'],\n",
              " [1000, 'RUR'],\n",
              " [1000, 'RUR'],\n",
              " [1000, 'RUR'],\n",
              " [700, 'RUR'],\n",
              " [600, 'RUR'],\n",
              " [600, 'RUR'],\n",
              " [1000, 'RUR'],\n",
              " [700, 'RUR'],\n",
              " [900, 'RUR'],\n",
              " [900, 'RUR'],\n",
              " [600, 'RUR'],\n",
              " [600, 'RUR'],\n",
              " [900, 'RUR'],\n",
              " [600, 'RUR'],\n",
              " [1000, 'RUR'],\n",
              " [600, 'RUR'],\n",
              " [800, 'RUR'],\n",
              " [1000, 'RUR'],\n",
              " [600, 'RUR'],\n",
              " [900, 'RUR'],\n",
              " [1000, 'RUR'],\n",
              " [900, 'RUR'],\n",
              " [800, 'RUR'],\n",
              " [600, 'RUR'],\n",
              " [700, 'RUR'],\n",
              " [800, 'RUR'],\n",
              " [800, 'RUR'],\n",
              " [900, 'RUR'],\n",
              " [800, 'RUR'],\n",
              " [1000, 'RUR'],\n",
              " [900, 'RUR'],\n",
              " [700, 'RUR'],\n",
              " [700, 'RUR'],\n",
              " [1000, 'RUR'],\n",
              " [900, 'RUR'],\n",
              " [800, 'RUR'],\n",
              " [900, 'RUR'],\n",
              " [600, 'RUR'],\n",
              " [700, 'RUR'],\n",
              " [600, 'RUR'],\n",
              " [1000, 'RUR'],\n",
              " [900, 'RUR'],\n",
              " [1000, 'RUR'],\n",
              " [900, 'RUR'],\n",
              " [1000, 'RUR'],\n",
              " [700, 'RUR'],\n",
              " [900, 'RUR'],\n",
              " [600, 'RUR'],\n",
              " [1000, 'RUR'],\n",
              " [1000, 'RUR'],\n",
              " [800, 'RUR'],\n",
              " [700, 'RUR'],\n",
              " [800, 'RUR'],\n",
              " [800, 'RUR'],\n",
              " [800, 'RUR'],\n",
              " [900, 'RUR'],\n",
              " [600, 'RUR'],\n",
              " [800, 'RUR'],\n",
              " [800, 'RUR'],\n",
              " [800, 'RUR'],\n",
              " [1000, 'RUR'],\n",
              " [700, 'RUR'],\n",
              " [700, 'RUR'],\n",
              " [600, 'RUR'],\n",
              " [1000, 'RUR'],\n",
              " [1000, 'RUR'],\n",
              " [1000, 'RUR'],\n",
              " [1000, 'RUR'],\n",
              " [900, 'RUR'],\n",
              " [700, 'RUR'],\n",
              " [600, 'RUR'],\n",
              " [800, 'RUR'],\n",
              " [700, 'RUR'],\n",
              " [1000, 'RUR'],\n",
              " [900, 'RUR'],\n",
              " [600, 'RUR'],\n",
              " [700, 'RUR'],\n",
              " [800, 'RUR'],\n",
              " [900, 'RUR'],\n",
              " [600, 'RUR'],\n",
              " [900, 'RUR'],\n",
              " [900, 'RUR'],\n",
              " [900, 'RUR'],\n",
              " [900, 'RUR'],\n",
              " [600, 'RUR'],\n",
              " [1000, 'RUR'],\n",
              " [700, 'RUR'],\n",
              " [700, 'RUR'],\n",
              " [700, 'RUR'],\n",
              " [1000, 'RUR'],\n",
              " [700, 'RUR'],\n",
              " [700, 'RUR'],\n",
              " [1000, 'RUR'],\n",
              " [700, 'RUR'],\n",
              " [600, 'RUR'],\n",
              " [700, 'RUR'],\n",
              " [800, 'RUR'],\n",
              " [1000, 'RUR'],\n",
              " [600, 'RUR'],\n",
              " [600, 'RUR'],\n",
              " [900, 'RUR'],\n",
              " [700, 'RUR'],\n",
              " [600, 'RUR'],\n",
              " [700, 'RUR'],\n",
              " [600, 'RUR'],\n",
              " [900, 'RUR'],\n",
              " [700, 'RUR'],\n",
              " [1000, 'RUR'],\n",
              " [900, 'RUR'],\n",
              " [1000, 'RUR'],\n",
              " [900, 'RUR'],\n",
              " [700, 'RUR'],\n",
              " [600, 'RUR'],\n",
              " [1000, 'RUR'],\n",
              " [700, 'RUR'],\n",
              " [1000, 'RUR'],\n",
              " [600, 'RUR'],\n",
              " [800, 'RUR'],\n",
              " [800, 'RUR'],\n",
              " [800, 'RUR'],\n",
              " [900, 'RUR'],\n",
              " [900, 'RUR'],\n",
              " [900, 'RUR'],\n",
              " [800, 'RUR'],\n",
              " [1000, 'RUR'],\n",
              " [1000, 'RUR'],\n",
              " [700, 'RUR'],\n",
              " [1000, 'RUR'],\n",
              " [600, 'RUR'],\n",
              " [1000, 'RUR'],\n",
              " [600, 'RUR'],\n",
              " [900, 'RUR'],\n",
              " [1000, 'RUR'],\n",
              " [600, 'RUR'],\n",
              " [600, 'RUR'],\n",
              " [900, 'RUR'],\n",
              " [900, 'RUR'],\n",
              " [900, 'RUR'],\n",
              " [900, 'RUR'],\n",
              " [1000, 'RUR'],\n",
              " [700, 'RUR'],\n",
              " [900, 'RUR'],\n",
              " [600, 'RUR'],\n",
              " [900, 'RUR'],\n",
              " [900, 'RUR'],\n",
              " [700, 'RUR'],\n",
              " [1000, 'RUR'],\n",
              " [800, 'RUR'],\n",
              " [700, 'RUR'],\n",
              " [600, 'RUR'],\n",
              " [700, 'RUR'],\n",
              " [900, 'RUR'],\n",
              " [900, 'RUR'],\n",
              " [900, 'RUR'],\n",
              " [700, 'RUR'],\n",
              " [700, 'RUR'],\n",
              " [900, 'RUR'],\n",
              " [1000, 'RUR'],\n",
              " [800, 'RUR'],\n",
              " [1000, 'RUR'],\n",
              " [700, 'RUR'],\n",
              " [700, 'RUR'],\n",
              " [600, 'RUR'],\n",
              " [600, 'RUR'],\n",
              " [600, 'RUR'],\n",
              " [1000, 'RUR'],\n",
              " [600, 'RUR'],\n",
              " [800, 'RUR'],\n",
              " [800, 'RUR'],\n",
              " [1000, 'RUR'],\n",
              " [800, 'RUR'],\n",
              " [900, 'RUR'],\n",
              " [800, 'RUR'],\n",
              " [700, 'RUR'],\n",
              " [600, 'RUR'],\n",
              " [900, 'RUR'],\n",
              " [600, 'RUR'],\n",
              " [1000, 'RUR'],\n",
              " [900, 'RUR'],\n",
              " [1000, 'RUR'],\n",
              " [900, 'RUR'],\n",
              " [900, 'RUR'],\n",
              " [800, 'RUR'],\n",
              " [1000, 'RUR'],\n",
              " [1000, 'RUR'],\n",
              " [900, 'RUR'],\n",
              " [800, 'RUR'],\n",
              " [700, 'RUR'],\n",
              " [1000, 'RUR'],\n",
              " [1000, 'RUR'],\n",
              " [900, 'RUR'],\n",
              " [900, 'RUR'],\n",
              " [900, 'RUR'],\n",
              " [600, 'RUR'],\n",
              " [900, 'RUR'],\n",
              " [700, 'RUR'],\n",
              " [1000, 'RUR'],\n",
              " [1000, 'RUR'],\n",
              " [1000, 'RUR'],\n",
              " [1000, 'RUR'],\n",
              " [800, 'RUR'],\n",
              " [700, 'RUR'],\n",
              " [600, 'RUR'],\n",
              " [700, 'RUR'],\n",
              " [900, 'RUR'],\n",
              " [700, 'RUR'],\n",
              " [900, 'RUR'],\n",
              " [900, 'RUR'],\n",
              " [600, 'RUR'],\n",
              " [900, 'RUR'],\n",
              " [900, 'RUR'],\n",
              " [900, 'RUR'],\n",
              " [800, 'RUR'],\n",
              " [1000, 'RUR'],\n",
              " [600, 'RUR'],\n",
              " [1000, 'RUR'],\n",
              " [800, 'RUR'],\n",
              " [1000, 'RUR'],\n",
              " [1000, 'RUR'],\n",
              " [800, 'RUR'],\n",
              " [800, 'RUR'],\n",
              " [800, 'RUR'],\n",
              " [900, 'RUR'],\n",
              " [600, 'RUR'],\n",
              " [600, 'RUR'],\n",
              " [700, 'RUR'],\n",
              " [700, 'RUR'],\n",
              " [600, 'RUR'],\n",
              " [800, 'RUR'],\n",
              " [800, 'RUR'],\n",
              " [600, 'RUR'],\n",
              " [600, 'RUR'],\n",
              " [700, 'RUR'],\n",
              " [900, 'RUR'],\n",
              " [600, 'RUR'],\n",
              " [600, 'RUR'],\n",
              " [800, 'RUR'],\n",
              " [900, 'RUR'],\n",
              " [900, 'RUR'],\n",
              " [1000, 'RUR'],\n",
              " [600, 'RUR'],\n",
              " [1000, 'RUR'],\n",
              " [600, 'RUR'],\n",
              " [600, 'RUR'],\n",
              " [800, 'RUR'],\n",
              " [600, 'RUR'],\n",
              " [800, 'RUR'],\n",
              " [1000, 'RUR'],\n",
              " [700, 'RUR'],\n",
              " [700, 'RUR'],\n",
              " [1000, 'RUR'],\n",
              " [600, 'RUR'],\n",
              " [700, 'RUR'],\n",
              " [700, 'RUR'],\n",
              " [800, 'RUR'],\n",
              " [800, 'RUR'],\n",
              " [1000, 'RUR'],\n",
              " [700, 'RUR'],\n",
              " [900, 'RUR'],\n",
              " [1000, 'RUR'],\n",
              " [1000, 'RUR'],\n",
              " [700, 'RUR'],\n",
              " [700, 'RUR'],\n",
              " [1000, 'RUR'],\n",
              " [1000, 'RUR'],\n",
              " [1000, 'RUR'],\n",
              " [900, 'RUR'],\n",
              " [1000, 'RUR'],\n",
              " [800, 'RUR'],\n",
              " [700, 'RUR'],\n",
              " [600, 'RUR'],\n",
              " [1000, 'RUR'],\n",
              " [600, 'RUR'],\n",
              " [900, 'RUR'],\n",
              " [600, 'RUR'],\n",
              " [600, 'RUR'],\n",
              " [600, 'RUR'],\n",
              " [600, 'RUR'],\n",
              " [600, 'RUR'],\n",
              " [900, 'RUR'],\n",
              " [800, 'RUR'],\n",
              " [1000, 'RUR'],\n",
              " [700, 'RUR'],\n",
              " [1000, 'RUR'],\n",
              " [600, 'RUR'],\n",
              " [900, 'RUR'],\n",
              " [1000, 'RUR'],\n",
              " [900, 'RUR'],\n",
              " [800, 'RUR'],\n",
              " [1000, 'RUR'],\n",
              " [600, 'RUR'],\n",
              " [600, 'RUR'],\n",
              " [600, 'RUR'],\n",
              " [700, 'RUR'],\n",
              " [700, 'RUR'],\n",
              " [1000, 'RUR'],\n",
              " [600, 'RUR'],\n",
              " [900, 'RUR'],\n",
              " [900, 'RUR'],\n",
              " [800, 'RUR'],\n",
              " [600, 'RUR'],\n",
              " [700, 'RUR'],\n",
              " [900, 'RUR'],\n",
              " [800, 'RUR'],\n",
              " [900, 'RUR'],\n",
              " [900, 'RUR'],\n",
              " [800, 'RUR'],\n",
              " [900, 'RUR'],\n",
              " [1000, 'RUR'],\n",
              " [900, 'RUR'],\n",
              " [1000, 'RUR'],\n",
              " [900, 'RUR'],\n",
              " [900, 'RUR'],\n",
              " [600, 'RUR'],\n",
              " [900, 'RUR'],\n",
              " [1000, 'RUR'],\n",
              " [900, 'RUR'],\n",
              " [900, 'RUR'],\n",
              " [1000, 'RUR'],\n",
              " [900, 'RUR'],\n",
              " [1000, 'RUR'],\n",
              " [600, 'RUR'],\n",
              " [900, 'RUR'],\n",
              " [900, 'RUR'],\n",
              " [900, 'RUR'],\n",
              " [1000, 'RUR'],\n",
              " [1000, 'RUR'],\n",
              " [900, 'RUR'],\n",
              " [700, 'RUR'],\n",
              " [900, 'RUR'],\n",
              " [1000, 'RUR'],\n",
              " [800, 'RUR'],\n",
              " [900, 'RUR'],\n",
              " [700, 'RUR'],\n",
              " [900, 'RUR'],\n",
              " [600, 'RUR'],\n",
              " [800, 'RUR'],\n",
              " [1000, 'RUR'],\n",
              " [600, 'RUR'],\n",
              " [1000, 'RUR'],\n",
              " [1000, 'RUR'],\n",
              " [600, 'RUR'],\n",
              " [600, 'RUR'],\n",
              " [1000, 'RUR'],\n",
              " [600, 'RUR'],\n",
              " [900, 'RUR'],\n",
              " [800, 'RUR'],\n",
              " [900, 'RUR'],\n",
              " [700, 'RUR'],\n",
              " [600, 'RUR'],\n",
              " [700, 'RUR'],\n",
              " [900, 'RUR'],\n",
              " [1000, 'RUR'],\n",
              " [700, 'RUR'],\n",
              " [1000, 'RUR'],\n",
              " [700, 'RUR'],\n",
              " [900, 'RUR'],\n",
              " [700, 'RUR'],\n",
              " [1000, 'RUR'],\n",
              " [900, 'RUR'],\n",
              " [1000, 'RUR'],\n",
              " [600, 'RUR'],\n",
              " [700, 'RUR'],\n",
              " [700, 'RUR'],\n",
              " [700, 'RUR'],\n",
              " [1000, 'RUR'],\n",
              " [800, 'RUR'],\n",
              " [600, 'RUR'],\n",
              " [600, 'RUR'],\n",
              " [900, 'RUR'],\n",
              " [800, 'RUR'],\n",
              " [800, 'RUR'],\n",
              " [700, 'RUR'],\n",
              " [1000, 'RUR'],\n",
              " [900, 'RUR'],\n",
              " [900, 'RUR'],\n",
              " [900, 'RUR'],\n",
              " [800, 'RUR'],\n",
              " [700, 'RUR'],\n",
              " [800, 'RUR'],\n",
              " [1000, 'RUR'],\n",
              " [900, 'RUR'],\n",
              " [600, 'RUR'],\n",
              " [800, 'RUR'],\n",
              " [800, 'RUR'],\n",
              " [700, 'RUR'],\n",
              " [900, 'RUR'],\n",
              " [600, 'RUR'],\n",
              " [800, 'RUR'],\n",
              " [600, 'RUR'],\n",
              " [1000, 'RUR'],\n",
              " [900, 'RUR'],\n",
              " [600, 'RUR'],\n",
              " [700, 'RUR'],\n",
              " [1000, 'RUR'],\n",
              " [900, 'RUR'],\n",
              " [900, 'RUR'],\n",
              " [1000, 'RUR'],\n",
              " [900, 'RUR'],\n",
              " [700, 'RUR'],\n",
              " [600, 'RUR'],\n",
              " [900, 'RUR'],\n",
              " [600, 'RUR'],\n",
              " [800, 'RUR'],\n",
              " [800, 'RUR'],\n",
              " [700, 'RUR'],\n",
              " [600, 'RUR'],\n",
              " [600, 'RUR'],\n",
              " [700, 'RUR'],\n",
              " [600, 'RUR'],\n",
              " [600, 'RUR'],\n",
              " [900, 'RUR'],\n",
              " [700, 'RUR'],\n",
              " [900, 'RUR'],\n",
              " [900, 'RUR'],\n",
              " [700, 'RUR'],\n",
              " [1000, 'RUR'],\n",
              " [700, 'RUR'],\n",
              " [1000, 'RUR'],\n",
              " [600, 'RUR'],\n",
              " [900, 'RUR'],\n",
              " [800, 'RUR'],\n",
              " [700, 'RUR'],\n",
              " [700, 'RUR'],\n",
              " [700, 'RUR'],\n",
              " [900, 'RUR'],\n",
              " [900, 'RUR'],\n",
              " [900, 'RUR'],\n",
              " [900, 'RUR'],\n",
              " [800, 'RUR'],\n",
              " [900, 'RUR'],\n",
              " [600, 'RUR'],\n",
              " [900, 'RUR'],\n",
              " [900, 'RUR'],\n",
              " [600, 'RUR'],\n",
              " [800, 'RUR'],\n",
              " [800, 'RUR'],\n",
              " [700, 'RUR'],\n",
              " [800, 'RUR'],\n",
              " [700, 'RUR'],\n",
              " [600, 'RUR'],\n",
              " [1000, 'RUR'],\n",
              " [900, 'RUR'],\n",
              " [900, 'RUR'],\n",
              " [1000, 'RUR'],\n",
              " [1000, 'RUR'],\n",
              " [700, 'RUR'],\n",
              " [600, 'RUR'],\n",
              " [600, 'RUR'],\n",
              " [900, 'RUR'],\n",
              " [800, 'RUR'],\n",
              " [1000, 'RUR'],\n",
              " [1000, 'RUR'],\n",
              " [700, 'RUR'],\n",
              " [700, 'RUR'],\n",
              " [800, 'RUR'],\n",
              " [600, 'RUR'],\n",
              " [600, 'RUR'],\n",
              " [1000, 'RUR'],\n",
              " [1000, 'RUR'],\n",
              " [1000, 'RUR'],\n",
              " [700, 'RUR'],\n",
              " [900, 'RUR'],\n",
              " [1000, 'RUR'],\n",
              " [600, 'RUR'],\n",
              " [600, 'RUR'],\n",
              " [1000, 'RUR'],\n",
              " [800, 'RUR'],\n",
              " [1000, 'RUR'],\n",
              " [900, 'RUR'],\n",
              " [1000, 'RUR'],\n",
              " [900, 'RUR'],\n",
              " [700, 'RUR'],\n",
              " [600, 'RUR'],\n",
              " [800, 'RUR'],\n",
              " [600, 'RUR'],\n",
              " [800, 'RUR'],\n",
              " [700, 'RUR'],\n",
              " [1000, 'RUR'],\n",
              " [800, 'RUR'],\n",
              " [700, 'RUR'],\n",
              " [800, 'RUR'],\n",
              " [900, 'RUR'],\n",
              " [800, 'RUR'],\n",
              " [600, 'RUR'],\n",
              " [600, 'RUR'],\n",
              " [700, 'RUR'],\n",
              " [700, 'RUR'],\n",
              " [900, 'RUR'],\n",
              " [800, 'RUR'],\n",
              " [1000, 'RUR'],\n",
              " [900, 'RUR'],\n",
              " [600, 'RUR'],\n",
              " [1000, 'RUR'],\n",
              " [1000, 'RUR'],\n",
              " [700, 'RUR'],\n",
              " [700, 'RUR'],\n",
              " [1000, 'RUR'],\n",
              " [1000, 'RUR'],\n",
              " [800, 'RUR'],\n",
              " [1000, 'RUR'],\n",
              " [1000, 'RUR'],\n",
              " [600, 'RUR'],\n",
              " [900, 'RUR'],\n",
              " [700, 'RUR'],\n",
              " [900, 'RUR'],\n",
              " [600, 'RUR'],\n",
              " [600, 'RUR'],\n",
              " [700, 'RUR'],\n",
              " [800, 'RUR'],\n",
              " [1000, 'RUR'],\n",
              " [900, 'RUR'],\n",
              " [800, 'RUR'],\n",
              " [600, 'RUR'],\n",
              " [900, 'RUR'],\n",
              " [800, 'RUR'],\n",
              " [700, 'RUR'],\n",
              " [900, 'RUR'],\n",
              " [900, 'RUR'],\n",
              " [800, 'RUR'],\n",
              " [600, 'RUR'],\n",
              " [700, 'RUR'],\n",
              " [600, 'RUR'],\n",
              " [800, 'RUR'],\n",
              " [600, 'RUR'],\n",
              " [700, 'RUR'],\n",
              " [900, 'RUR'],\n",
              " [900, 'RUR'],\n",
              " [600, 'RUR'],\n",
              " [600, 'RUR'],\n",
              " [800, 'RUR'],\n",
              " [600, 'RUR'],\n",
              " [800, 'RUR'],\n",
              " [1000, 'RUR'],\n",
              " [1000, 'RUR'],\n",
              " [700, 'RUR'],\n",
              " [1000, 'RUR'],\n",
              " [800, 'RUR'],\n",
              " [1000, 'RUR'],\n",
              " [900, 'RUR'],\n",
              " [900, 'RUR'],\n",
              " [600, 'RUR'],\n",
              " [900, 'RUR'],\n",
              " [1000, 'RUR'],\n",
              " [800, 'RUR'],\n",
              " [700, 'RUR'],\n",
              " [900, 'RUR'],\n",
              " [900, 'RUR'],\n",
              " [700, 'RUR'],\n",
              " [800, 'RUR'],\n",
              " [1000, 'RUR'],\n",
              " [1000, 'RUR'],\n",
              " [700, 'RUR'],\n",
              " [600, 'RUR'],\n",
              " [800, 'RUR'],\n",
              " [800, 'RUR'],\n",
              " [600, 'RUR'],\n",
              " [700, 'RUR'],\n",
              " [800, 'RUR'],\n",
              " [900, 'RUR'],\n",
              " [800, 'RUR'],\n",
              " [700, 'RUR'],\n",
              " [800, 'RUR'],\n",
              " [700, 'RUR'],\n",
              " [600, 'RUR'],\n",
              " [900, 'RUR'],\n",
              " [1000, 'RUR'],\n",
              " [700, 'RUR'],\n",
              " [600, 'RUR'],\n",
              " [700, 'RUR'],\n",
              " [800, 'RUR'],\n",
              " [800, 'RUR'],\n",
              " [1000, 'RUR'],\n",
              " [900, 'RUR'],\n",
              " [800, 'RUR'],\n",
              " [1000, 'RUR'],\n",
              " [800, 'RUR'],\n",
              " [900, 'RUR'],\n",
              " [800, 'RUR'],\n",
              " [700, 'RUR'],\n",
              " [800, 'RUR'],\n",
              " [800, 'RUR'],\n",
              " [900, 'RUR'],\n",
              " [700, 'RUR'],\n",
              " [600, 'RUR'],\n",
              " [800, 'RUR'],\n",
              " [700, 'RUR'],\n",
              " [800, 'RUR'],\n",
              " [800, 'RUR'],\n",
              " [700, 'RUR'],\n",
              " [900, 'RUR'],\n",
              " [700, 'RUR'],\n",
              " [700, 'RUR'],\n",
              " [700, 'RUR'],\n",
              " [800, 'RUR'],\n",
              " [800, 'RUR'],\n",
              " [800, 'RUR'],\n",
              " [600, 'RUR'],\n",
              " [700, 'RUR'],\n",
              " [900, 'RUR'],\n",
              " [600, 'RUR'],\n",
              " [600, 'RUR'],\n",
              " [600, 'RUR'],\n",
              " [800, 'RUR'],\n",
              " [700, 'RUR'],\n",
              " [900, 'RUR'],\n",
              " [700, 'RUR'],\n",
              " [900, 'RUR'],\n",
              " [800, 'RUR'],\n",
              " [700, 'RUR'],\n",
              " [1000, 'RUR'],\n",
              " [600, 'RUR'],\n",
              " [700, 'RUR'],\n",
              " [900, 'RUR'],\n",
              " [700, 'RUR'],\n",
              " [1000, 'RUR'],\n",
              " [1000, 'RUR'],\n",
              " [700, 'RUR'],\n",
              " [1000, 'RUR'],\n",
              " [800, 'RUR'],\n",
              " [800, 'RUR'],\n",
              " [700, 'RUR'],\n",
              " [900, 'RUR'],\n",
              " [1000, 'RUR'],\n",
              " [700, 'RUR'],\n",
              " [800, 'RUR'],\n",
              " [1000, 'RUR'],\n",
              " [700, 'RUR'],\n",
              " [800, 'RUR'],\n",
              " [900, 'RUR'],\n",
              " [900, 'RUR'],\n",
              " [800, 'RUR'],\n",
              " [1000, 'RUR'],\n",
              " [1000, 'RUR'],\n",
              " [700, 'RUR'],\n",
              " [600, 'RUR'],\n",
              " [800, 'RUR'],\n",
              " [1000, 'RUR'],\n",
              " [700, 'RUR'],\n",
              " [800, 'RUR'],\n",
              " [900, 'RUR'],\n",
              " [800, 'RUR'],\n",
              " [600, 'RUR'],\n",
              " [1000, 'RUR'],\n",
              " [600, 'RUR'],\n",
              " [600, 'RUR'],\n",
              " [600, 'RUR'],\n",
              " [1000, 'RUR'],\n",
              " [600, 'RUR'],\n",
              " [900, 'RUR'],\n",
              " [900, 'RUR'],\n",
              " [600, 'RUR'],\n",
              " [600, 'RUR'],\n",
              " [600, 'RUR'],\n",
              " [700, 'RUR'],\n",
              " [600, 'RUR'],\n",
              " [600, 'RUR'],\n",
              " [900, 'RUR'],\n",
              " [600, 'RUR'],\n",
              " [1000, 'RUR'],\n",
              " [700, 'RUR'],\n",
              " [1000, 'RUR'],\n",
              " [900, 'RUR'],\n",
              " [700, 'RUR'],\n",
              " [900, 'RUR'],\n",
              " [600, 'RUR'],\n",
              " [600, 'RUR'],\n",
              " [900, 'RUR'],\n",
              " [900, 'RUR'],\n",
              " [800, 'RUR'],\n",
              " [1000, 'RUR'],\n",
              " [600, 'RUR'],\n",
              " [600, 'RUR'],\n",
              " [700, 'RUR'],\n",
              " [700, 'RUR'],\n",
              " [600, 'RUR'],\n",
              " [900, 'RUR'],\n",
              " [700, 'RUR'],\n",
              " [700, 'RUR'],\n",
              " [800, 'RUR'],\n",
              " [1000, 'RUR'],\n",
              " [600, 'RUR'],\n",
              " [800, 'RUR'],\n",
              " [600, 'RUR'],\n",
              " [700, 'RUR'],\n",
              " [900, 'RUR'],\n",
              " [900, 'RUR'],\n",
              " [900, 'RUR'],\n",
              " [600, 'RUR'],\n",
              " [800, 'RUR'],\n",
              " [700, 'RUR'],\n",
              " [1000, 'RUR'],\n",
              " [900, 'RUR'],\n",
              " [800, 'RUR'],\n",
              " [600, 'RUR'],\n",
              " [800, 'RUR'],\n",
              " [800, 'RUR'],\n",
              " [900, 'RUR'],\n",
              " [700, 'RUR'],\n",
              " [800, 'RUR'],\n",
              " [700, 'RUR'],\n",
              " [600, 'RUR'],\n",
              " [1000, 'RUR'],\n",
              " [800, 'RUR'],\n",
              " [700, 'RUR'],\n",
              " [800, 'RUR'],\n",
              " [700, 'RUR'],\n",
              " [900, 'RUR'],\n",
              " [1000, 'RUR'],\n",
              " [1000, 'RUR'],\n",
              " [1000, 'RUR'],\n",
              " [800, 'RUR'],\n",
              " [1000, 'RUR'],\n",
              " [900, 'RUR'],\n",
              " [900, 'RUR'],\n",
              " [700, 'RUR'],\n",
              " [1000, 'RUR'],\n",
              " [1000, 'RUR'],\n",
              " [600, 'RUR'],\n",
              " [800, 'RUR'],\n",
              " [600, 'RUR'],\n",
              " [1000, 'RUR'],\n",
              " [600, 'RUR'],\n",
              " [800, 'RUR'],\n",
              " [700, 'RUR'],\n",
              " [900, 'RUR'],\n",
              " [700, 'RUR'],\n",
              " [700, 'RUR'],\n",
              " [1000, 'RUR'],\n",
              " [800, 'RUR'],\n",
              " [800, 'RUR'],\n",
              " [900, 'RUR'],\n",
              " [600, 'RUR'],\n",
              " [600, 'RUR'],\n",
              " [900, 'RUR'],\n",
              " [600, 'RUR'],\n",
              " [1000, 'RUR'],\n",
              " [1000, 'RUR'],\n",
              " [600, 'RUR'],\n",
              " [600, 'RUR'],\n",
              " [900, 'RUR'],\n",
              " [900, 'RUR'],\n",
              " [800, 'RUR'],\n",
              " ...]"
            ]
          },
          "metadata": {},
          "execution_count": 14
        }
      ]
    },
    {
      "cell_type": "code",
      "source": [
        "#Теперь можем написать цикл преобразований.\n",
        "new_prices = []\n",
        "for i in prices:\n",
        "  if i[1] != 'RUR':\n",
        "    rur_prices = i[0] * usd_rate\n",
        "    new_prices.append(rur_prices)\n",
        "  else:\n",
        "    new_prices.append(i[0])\n",
        "prices = new_prices\n",
        "sum(prices)"
      ],
      "metadata": {
        "id": "nWAQUhFTJkEk",
        "colab": {
          "base_uri": "https://localhost:8080/"
        },
        "outputId": "5c60c46d-3838-40f6-fda9-ab0777ee4092"
      },
      "execution_count": 15,
      "outputs": [
        {
          "output_type": "execute_result",
          "data": {
            "text/plain": [
              "2833560.8000000184"
            ]
          },
          "metadata": {},
          "execution_count": 15
        }
      ]
    },
    {
      "cell_type": "code",
      "source": [
        "round(sum(prices),1)"
      ],
      "metadata": {
        "id": "RuMJN7EoM5bF",
        "colab": {
          "base_uri": "https://localhost:8080/"
        },
        "outputId": "a6df746f-3dec-4b64-e496-b4fdf9ab47bb"
      },
      "execution_count": 16,
      "outputs": [
        {
          "output_type": "execute_result",
          "data": {
            "text/plain": [
              "2833560.8"
            ]
          },
          "metadata": {},
          "execution_count": 16
        }
      ]
    },
    {
      "cell_type": "markdown",
      "source": [
        "\n",
        "### Задача\n",
        "\n",
        "Давайте вместе соберем из имеющихся у нас данных новый, чистый словарь.\n",
        "\n",
        "    Вместо кортежей, в качестве ключей положим просто идентификаторы пользователей\n",
        "    В качестве значений положим только почту\n",
        "\n",
        "* **Шаг 1. Вместо кортежей, в качестве ключей положим просто идентификаторы пользователей.**\n"
      ],
      "metadata": {
        "id": "Qr_dzf6GVd1J"
      }
    },
    {
      "cell_type": "code",
      "source": [
        "crm_info =  {\n",
        "('id:',86609):'клиент example@example.com готов к оплате',\n",
        "('id:',12588):'учение настроен позвитивно, positive_one@positiv.ru',\n",
        "('id:',19085):'only_mail@positiv.ru',\n",
        "('id:',42956):'от учебы отказался. negative@somemail.ru',\n",
        "('id:',38821):'our own app testing test@test.ru',\n",
        "('id:',47860):'повторная заявка от пользователя itsmeagail@spam.com',\n",
        "('id:',92172):''\n",
        "}\n"
      ],
      "metadata": {
        "id": "gXwDL3KxVngY"
      },
      "execution_count": 17,
      "outputs": []
    },
    {
      "cell_type": "code",
      "source": [
        "for i in crm_info.values(): # посмотрим на значения. Через итерирование смотреть гораздо удобнее\n",
        "    print(type(i), i)\n"
      ],
      "metadata": {
        "id": "oJZeg2VBVrsL",
        "colab": {
          "base_uri": "https://localhost:8080/"
        },
        "outputId": "4d569489-1077-4dba-b4a8-c73692671ca7"
      },
      "execution_count": 18,
      "outputs": [
        {
          "output_type": "stream",
          "name": "stdout",
          "text": [
            "<class 'str'> клиент example@example.com готов к оплате\n",
            "<class 'str'> учение настроен позвитивно, positive_one@positiv.ru\n",
            "<class 'str'> only_mail@positiv.ru\n",
            "<class 'str'> от учебы отказался. negative@somemail.ru\n",
            "<class 'str'> our own app testing test@test.ru\n",
            "<class 'str'> повторная заявка от пользователя itsmeagail@spam.com\n",
            "<class 'str'> \n"
          ]
        }
      ]
    },
    {
      "cell_type": "code",
      "source": [
        "new_crm = dict()                         # создадим новый словарь, переберем значения из нашего словаря\n",
        "for client, comment in crm_info.items(): # проитерируем наш словарь\n",
        "    client = client[1]                   # переопределеим ключи. Нам нужен только второй элемент кортежа\n",
        "    new_crm[client] = comment"
      ],
      "metadata": {
        "id": "L_ZWnupvWHmC"
      },
      "execution_count": 19,
      "outputs": []
    },
    {
      "cell_type": "code",
      "source": [
        "new_crm #посмотрим что получилось"
      ],
      "metadata": {
        "id": "sbj6kKMWWlNq",
        "colab": {
          "base_uri": "https://localhost:8080/"
        },
        "outputId": "f36ad6b2-7fae-494b-c2df-12c6a3311d07"
      },
      "execution_count": 20,
      "outputs": [
        {
          "output_type": "execute_result",
          "data": {
            "text/plain": [
              "{12588: 'учение настроен позвитивно, positive_one@positiv.ru',\n",
              " 19085: 'only_mail@positiv.ru',\n",
              " 38821: 'our own app testing test@test.ru',\n",
              " 42956: 'от учебы отказался. negative@somemail.ru',\n",
              " 47860: 'повторная заявка от пользователя itsmeagail@spam.com',\n",
              " 86609: 'клиент example@example.com готов к оплате',\n",
              " 92172: ''}"
            ]
          },
          "metadata": {},
          "execution_count": 20
        }
      ]
    },
    {
      "cell_type": "markdown",
      "source": [
        "**Шаг 2. В качестве значений положим только почту.**\n",
        "\n",
        "Сегодня мы уже доставали почты из списка, давайте вспомним, как мы это делали с использованием метода split()"
      ],
      "metadata": {
        "id": "an9hVRzUWuMr"
      }
    },
    {
      "cell_type": "code",
      "source": [
        "for client, comment in new_crm.items():\n",
        "  comment = comment.split(' ')\n",
        "  for element in comment:\n",
        "    if element.find('@') > 0:\n",
        "      new_crm[client] = element"
      ],
      "metadata": {
        "id": "GmyPsz8BWwoT"
      },
      "execution_count": 21,
      "outputs": []
    },
    {
      "cell_type": "code",
      "source": [
        "new_crm"
      ],
      "metadata": {
        "id": "GzeSrjfJYKmf",
        "colab": {
          "base_uri": "https://localhost:8080/"
        },
        "outputId": "f9f2b10a-da42-44ef-8ec5-bb85cb158537"
      },
      "execution_count": 22,
      "outputs": [
        {
          "output_type": "execute_result",
          "data": {
            "text/plain": [
              "{12588: 'positive_one@positiv.ru',\n",
              " 19085: 'only_mail@positiv.ru',\n",
              " 38821: 'test@test.ru',\n",
              " 42956: 'negative@somemail.ru',\n",
              " 47860: 'itsmeagail@spam.com',\n",
              " 86609: 'example@example.com',\n",
              " 92172: ''}"
            ]
          },
          "metadata": {},
          "execution_count": 22
        }
      ]
    },
    {
      "cell_type": "code",
      "source": [
        "crm_info"
      ],
      "metadata": {
        "id": "EJeBaOEUYnZY",
        "colab": {
          "base_uri": "https://localhost:8080/"
        },
        "outputId": "3035aaff-00ac-4034-adaa-288d354b8ece"
      },
      "execution_count": 23,
      "outputs": [
        {
          "output_type": "execute_result",
          "data": {
            "text/plain": [
              "{('id:', 12588): 'учение настроен позвитивно, positive_one@positiv.ru',\n",
              " ('id:', 19085): 'only_mail@positiv.ru',\n",
              " ('id:', 38821): 'our own app testing test@test.ru',\n",
              " ('id:', 42956): 'от учебы отказался. negative@somemail.ru',\n",
              " ('id:', 47860): 'повторная заявка от пользователя itsmeagail@spam.com',\n",
              " ('id:', 86609): 'клиент example@example.com готов к оплате',\n",
              " ('id:', 92172): ''}"
            ]
          },
          "metadata": {},
          "execution_count": 23
        }
      ]
    },
    {
      "cell_type": "markdown",
      "source": [
        "\n",
        "# Словари как мини-база данных\n",
        "\n",
        "То, что в значениях словарей могут лежать любые типы данных, позволяет использовать их в качестве баз данных.\n",
        "\n",
        "### Задача\n",
        "\n",
        "Соберем словарь, в котором ключом будет идентификатор пользователя, а значением — другой словарь с двумя значениями:\n",
        "\n",
        "    mail: почта\n",
        "    comment: текст комментария\n",
        "\n"
      ],
      "metadata": {
        "id": "tLm53K5WYqv0"
      }
    },
    {
      "cell_type": "code",
      "source": [
        "mini_db_crm = dict()                     # создадим новый словарь, переберем значения из нашего словаря\n",
        "\n",
        "for client, comment in crm_info.items(): # проитерируем наш словарь\n",
        "    client = client[1]                   # переопределеим ключи, нам нужен только второй элемент кортежа\n",
        "    comment_dict = dict()\n",
        "    mail = ''\n",
        "    for i in comment.split(' '):\n",
        "        if i.find('@') > 0:\n",
        "            mail = i\n",
        "    \n",
        "    comment_dict['mail'] = mail\n",
        "    comment_dict['comment'] = comment\n",
        "    mini_db_crm[client] = comment_dict   # положим в новый словарь пары id:список слов \n"
      ],
      "metadata": {
        "id": "dRfUmgy6hVOd"
      },
      "execution_count": 24,
      "outputs": []
    },
    {
      "cell_type": "code",
      "source": [
        "mini_db_crm"
      ],
      "metadata": {
        "id": "iT7wx-KPhZN7",
        "colab": {
          "base_uri": "https://localhost:8080/"
        },
        "outputId": "af96d0a8-7b6d-4e5b-c5b2-864349e97f80"
      },
      "execution_count": 25,
      "outputs": [
        {
          "output_type": "execute_result",
          "data": {
            "text/plain": [
              "{12588: {'comment': 'учение настроен позвитивно, positive_one@positiv.ru',\n",
              "  'mail': 'positive_one@positiv.ru'},\n",
              " 19085: {'comment': 'only_mail@positiv.ru', 'mail': 'only_mail@positiv.ru'},\n",
              " 38821: {'comment': 'our own app testing test@test.ru',\n",
              "  'mail': 'test@test.ru'},\n",
              " 42956: {'comment': 'от учебы отказался. negative@somemail.ru',\n",
              "  'mail': 'negative@somemail.ru'},\n",
              " 47860: {'comment': 'повторная заявка от пользователя itsmeagail@spam.com',\n",
              "  'mail': 'itsmeagail@spam.com'},\n",
              " 86609: {'comment': 'клиент example@example.com готов к оплате',\n",
              "  'mail': 'example@example.com'},\n",
              " 92172: {'comment': '', 'mail': ''}}"
            ]
          },
          "metadata": {},
          "execution_count": 25
        }
      ]
    },
    {
      "cell_type": "code",
      "source": [
        "mini_db_crm[12588]"
      ],
      "metadata": {
        "id": "HkX7Ppy8iA15",
        "colab": {
          "base_uri": "https://localhost:8080/"
        },
        "outputId": "ef504fa7-3fc9-4f91-bf9b-af3ec0927d20"
      },
      "execution_count": 26,
      "outputs": [
        {
          "output_type": "execute_result",
          "data": {
            "text/plain": [
              "{'comment': 'учение настроен позвитивно, positive_one@positiv.ru',\n",
              " 'mail': 'positive_one@positiv.ru'}"
            ]
          },
          "metadata": {},
          "execution_count": 26
        }
      ]
    },
    {
      "cell_type": "code",
      "source": [
        "mini_db_crm[12588]['mail']"
      ],
      "metadata": {
        "id": "-xyOlMbHiL1h",
        "colab": {
          "base_uri": "https://localhost:8080/",
          "height": 35
        },
        "outputId": "ebde4b37-4f5e-4532-820b-26003c8d3bec"
      },
      "execution_count": 27,
      "outputs": [
        {
          "output_type": "execute_result",
          "data": {
            "text/plain": [
              "'positive_one@positiv.ru'"
            ],
            "application/vnd.google.colaboratory.intrinsic+json": {
              "type": "string"
            }
          },
          "metadata": {},
          "execution_count": 27
        }
      ]
    },
    {
      "cell_type": "code",
      "source": [
        "for i in mini_db_crm.values():\n",
        "  print(i['mail'])"
      ],
      "metadata": {
        "id": "zvYPfmRBiQJV",
        "colab": {
          "base_uri": "https://localhost:8080/"
        },
        "outputId": "62a0286f-8e48-4ac0-c94e-76822dbf0880"
      },
      "execution_count": 28,
      "outputs": [
        {
          "output_type": "stream",
          "name": "stdout",
          "text": [
            "example@example.com\n",
            "positive_one@positiv.ru\n",
            "only_mail@positiv.ru\n",
            "negative@somemail.ru\n",
            "test@test.ru\n",
            "itsmeagail@spam.com\n",
            "\n"
          ]
        }
      ]
    },
    {
      "cell_type": "markdown",
      "source": [
        "\n",
        "### Задача\n",
        "\n",
        "В модуле queries лежит 1000 поисковых запросов в google, через которые пользователи попадали на страницу skyeng.\n",
        "\n",
        "Давайте разберем код, который рассчитывает, сколько слов обычно встречается в запросе, через который пользователи попадают к нам на страницу.\n"
      ],
      "metadata": {
        "id": "xbFr34JVjVy-"
      }
    },
    {
      "cell_type": "code",
      "source": [
        "from queries import queries"
      ],
      "metadata": {
        "id": "pxcP_qdejYtO"
      },
      "execution_count": 29,
      "outputs": []
    },
    {
      "cell_type": "code",
      "source": [
        "print(len(queries))\n",
        "print(queries[0:10])"
      ],
      "metadata": {
        "id": "D6giGpcWjcwn",
        "colab": {
          "base_uri": "https://localhost:8080/"
        },
        "outputId": "34f489a4-a4ff-4320-845e-5b8428fd0d17"
      },
      "execution_count": 30,
      "outputs": [
        {
          "output_type": "stream",
          "name": "stdout",
          "text": [
            "1001\n",
            "['query', 'skyebg', 'английский скайенг', 'пробный урок английского', 'skyeng ry', 'онлайн школа английского языка цены', 'огги и тараканы', 'virginia evans 6 класс', 'разговорные клубы skyeng', 'жила была царевна']\n"
          ]
        }
      ]
    },
    {
      "cell_type": "code",
      "source": [
        "result = dict()\n",
        "\n",
        "for i in queries:\n",
        "  words_count = len(i.split(' '))\n",
        "\n",
        "  if words_count not in result:\n",
        "    result[words_count] = 1\n",
        "  else:\n",
        "    result[words_count] += 1\n"
      ],
      "metadata": {
        "id": "8IyfW9D2j2_m"
      },
      "execution_count": 31,
      "outputs": []
    },
    {
      "cell_type": "code",
      "source": [
        "result"
      ],
      "metadata": {
        "id": "CARfOImOleDd",
        "colab": {
          "base_uri": "https://localhost:8080/"
        },
        "outputId": "f79d87bc-0419-4981-a905-74b0069ed163"
      },
      "execution_count": 32,
      "outputs": [
        {
          "output_type": "execute_result",
          "data": {
            "text/plain": [
              "{1: 59,\n",
              " 2: 209,\n",
              " 3: 268,\n",
              " 4: 224,\n",
              " 5: 118,\n",
              " 6: 58,\n",
              " 7: 23,\n",
              " 8: 27,\n",
              " 9: 7,\n",
              " 10: 3,\n",
              " 11: 2,\n",
              " 12: 1,\n",
              " 13: 1,\n",
              " 17: 1}"
            ]
          },
          "metadata": {},
          "execution_count": 32
        }
      ]
    },
    {
      "cell_type": "code",
      "source": [
        "for key, values in result.items():\n",
        "  print(f'Поисковых запросов, содержащих {key} слова: {values}')"
      ],
      "metadata": {
        "id": "qZGTpI7djn9Y",
        "colab": {
          "base_uri": "https://localhost:8080/"
        },
        "outputId": "d0c8a014-6c5f-4e57-e511-58d3d14b06bc"
      },
      "execution_count": 33,
      "outputs": [
        {
          "output_type": "stream",
          "name": "stdout",
          "text": [
            "Поисковых запросов, содержащих 1 слова: 59\n",
            "Поисковых запросов, содержащих 2 слова: 209\n",
            "Поисковых запросов, содержащих 3 слова: 268\n",
            "Поисковых запросов, содержащих 5 слова: 118\n",
            "Поисковых запросов, содержащих 4 слова: 224\n",
            "Поисковых запросов, содержащих 6 слова: 58\n",
            "Поисковых запросов, содержащих 8 слова: 27\n",
            "Поисковых запросов, содержащих 7 слова: 23\n",
            "Поисковых запросов, содержащих 10 слова: 3\n",
            "Поисковых запросов, содержащих 9 слова: 7\n",
            "Поисковых запросов, содержащих 11 слова: 2\n",
            "Поисковых запросов, содержащих 13 слова: 1\n",
            "Поисковых запросов, содержащих 17 слова: 1\n",
            "Поисковых запросов, содержащих 12 слова: 1\n"
          ]
        }
      ]
    },
    {
      "cell_type": "markdown",
      "metadata": {
        "id": "PxGqerOJx-xp"
      },
      "source": [
        "# Домашнее задание 1.2"
      ]
    },
    {
      "cell_type": "markdown",
      "metadata": {
        "id": "MOE_e9TpI6MN"
      },
      "source": [
        "👩‍🎓👨‍🎓 В этой домашке мы пошагово решим мини-кейс для отдела B2B. Но перед этим давай набьем руку в работе со словарями."
      ]
    },
    {
      "cell_type": "markdown",
      "metadata": {
        "id": "6H7dHwsKJi2g"
      },
      "source": [
        "### Подготовительное задание – практикум по словарям\n",
        "\n",
        "*Перед тем, как начать работу над кейсом, потренируемся в использовании словарей. Это поможет тебе при решении кейса.*\n",
        "\n",
        "1. Создай пустой словарь `dict_emails`\n",
        "2. Добавь туда ключ `gmail` со значением `andrei@gmail.com`\n",
        "3. Добавь по ключу `gmail` также элементы `viktoria@gmail.com` и `ella@gmail.com`, чтобы в значении оказались все три почты. Для этого используй список.\n",
        "4. Выведи каждый e-mail из словаря в новой строчке с помощью цикла `for`. \n",
        "*Если сомневаешься, как выполнить последний пункт, смело смотри шпаргалку (раздел \"Перебор ключей и значений в словаре в цикле for\")*"
      ]
    },
    {
      "cell_type": "code",
      "metadata": {
        "id": "kTaRMdhnJiW9",
        "colab": {
          "base_uri": "https://localhost:8080/"
        },
        "outputId": "f8c2397a-11c1-4e3d-9723-6d0e91933c77"
      },
      "source": [
        "# 1\n",
        "dict_emails = dict()\n",
        "\n",
        "# 2\n",
        "dict_emails['gmail'] = 'andrei@gmail.com'\n",
        "\n",
        "# 3\n",
        "# Hint: ключ словаря инициализируется одновременно с присвоением значения один раз, а его значение value можно менять\n",
        "dict_emails['gmail'] = ['andrei@gmail.com', 'viktoria@gmail', 'ella@gmail.com']\n",
        "\n",
        "# 4\n",
        "for value in dict_emails.values():\n",
        "  for v in value:\n",
        "    print(f'значение: {v}')"
      ],
      "execution_count": 34,
      "outputs": [
        {
          "output_type": "stream",
          "name": "stdout",
          "text": [
            "значение: andrei@gmail.com\n",
            "значение: viktoria@gmail\n",
            "значение: ella@gmail.com\n"
          ]
        }
      ]
    },
    {
      "cell_type": "code",
      "source": [
        "dict_emails"
      ],
      "metadata": {
        "id": "foN3jv8w64Ak",
        "colab": {
          "base_uri": "https://localhost:8080/"
        },
        "outputId": "65dd0c93-ddf6-4d8c-aa50-1c293beb7a80"
      },
      "execution_count": 35,
      "outputs": [
        {
          "output_type": "execute_result",
          "data": {
            "text/plain": [
              "{'gmail': ['andrei@gmail.com', 'viktoria@gmail', 'ella@gmail.com']}"
            ]
          },
          "metadata": {},
          "execution_count": 35
        }
      ]
    },
    {
      "cell_type": "markdown",
      "metadata": {
        "id": "qNg3pTqpnaqH"
      },
      "source": [
        "*Осталась последняя мини-тренировка , чтобы совсем уверенно чувствовать себя со словарями.*\n",
        "\n",
        "5. Добавь в словарь ключ `yandex` со значением `liza@yandex.ru`\n",
        "6. Из словаря `dict_emails` по ключу `yandex` вытащи значение."
      ]
    },
    {
      "cell_type": "code",
      "metadata": {
        "id": "JSk9vFoSnaqK",
        "colab": {
          "base_uri": "https://localhost:8080/",
          "height": 35
        },
        "outputId": "42d998c1-1525-4f44-df4d-f216ce31be4e"
      },
      "source": [
        "# 5\n",
        "dict_emails['yandex'] = 'liza@yandex.ru'\n",
        "\n",
        "# 6\n",
        "dict_emails['yandex']"
      ],
      "execution_count": 36,
      "outputs": [
        {
          "output_type": "execute_result",
          "data": {
            "text/plain": [
              "'liza@yandex.ru'"
            ],
            "application/vnd.google.colaboratory.intrinsic+json": {
              "type": "string"
            }
          },
          "metadata": {},
          "execution_count": 36
        }
      ]
    },
    {
      "cell_type": "markdown",
      "metadata": {
        "id": "IGqtedvNPEwJ"
      },
      "source": [
        "\n",
        "### Изучим кейс\n",
        "\n",
        "👩‍💻 Вероятно,  редкие доменные имена в почтах наших клиентов — это корпоративные адреса. Если в нашей базе много емейлов с корпоративными доменами, мы сможем использовать эти данные в B2B-продажах. 🤔 Ведь это означает, что офисные работники заинтересованы в обучении в Skyeng, и компании смогут сделать партнерку со Skyeng частью своей программы лояльности для сотрудников. \n",
        "\n",
        "Твоя задача: извлечь из клиентской базы домены почтовых адресов и посчитать их, а отдел B2B-продаж проанализирует редкие домены и подготовит коммерческие предложения для компаний, где работают эти клиенты. \n",
        "\n",
        "На пути выполнения этой задачи потренируйся подготавливать и исследовать сырые данные, потому что, как ты наверняка знаешь, 80% работы аналитика проходит именно в подготовке данных."
      ]
    },
    {
      "cell_type": "code",
      "metadata": {
        "id": "45IKdtr6x-yH"
      },
      "source": [
        "from crm_module import crm_in_list as crm # подключимся к данным, запустив ячейку с помощью shift+enter"
      ],
      "execution_count": 37,
      "outputs": []
    },
    {
      "cell_type": "markdown",
      "metadata": {
        "id": "nflD8tAWx-yJ"
      },
      "source": [
        "### Задание 1 \n",
        "Для начала давай изучим данные: какого они типа, какие элементы внутри. Изучи код ниже и напиши код, который выведет второй элемент первого элемента объекта `crm` и его тип."
      ]
    },
    {
      "cell_type": "code",
      "metadata": {
        "id": "lfKmEB1dnap0",
        "colab": {
          "base_uri": "https://localhost:8080/"
        },
        "outputId": "5691b91d-302d-431a-8e78-b72f116659f6"
      },
      "source": [
        "crm # посмотрим на данные"
      ],
      "execution_count": 38,
      "outputs": [
        {
          "output_type": "execute_result",
          "data": {
            "text/plain": [
              "[[510266, 'b0198ff4@mail.ru'],\n",
              " [882968, '5bda448e2@mail.ru'],\n",
              " [1446917, 'e860d3c@yandex.ru'],\n",
              " [237601, '17f1f367@mail.ru'],\n",
              " [79304, 'f408b395d@gmail.com'],\n",
              " [535956, '15fcf41fe@i-free.com'],\n",
              " [1657538, 'e13cbd939@mail.ru'],\n",
              " [43966, 'd4e8b4@mail.ru'],\n",
              " [2112521, '1763b7@mail.ru'],\n",
              " [1038965, '21b786@mail.ru'],\n",
              " [2249760, '15b4c1a@icloud.com'],\n",
              " [1474878, 'a3acf83@gmail.com'],\n",
              " [195620, 'df2e7d@tandem.ru'],\n",
              " [1864009, '02f8cffc@yandex.ru'],\n",
              " [1528616, 'eda64cc2@inbox.ru'],\n",
              " [1041604, 'e3cf5bd87@mail.ru'],\n",
              " [840954, '0a41d9@icloud.com'],\n",
              " [263543, 'da2257c@ukr.net'],\n",
              " [172471, 'd68b853@inbox.ru'],\n",
              " [792549, '30327e2a@gmail.com'],\n",
              " [1652015, '8a33be09@gmail.com'],\n",
              " [118222, 'f219cfd@mail.ru'],\n",
              " [1317474, '141b3fb@yum.com'],\n",
              " [2072985, '7e126b@mail.ru'],\n",
              " [1478949, 'b13295ab@gmail.com'],\n",
              " [2209096, 'd0a1eb4c@mail.ru'],\n",
              " [2369151, '5bca389@mail.ru'],\n",
              " [672160, '8adb6b69c@gmail.com'],\n",
              " [2073238, 'e02e5b@gmail.com'],\n",
              " [2199184, '573ed1@mail.ru'],\n",
              " [271652, '0f0e85@gmail.com'],\n",
              " [223828, '6ba7de8c9@gmail.com'],\n",
              " [618002, '78c7ce463@gmail.com'],\n",
              " [702625, 'a91ddf2@mail.ru'],\n",
              " [852768, 'fc0be04@bk.ru'],\n",
              " [1223847, 'fee67d9@icloud.com'],\n",
              " [194644, 'c58e6a0@mail.ru'],\n",
              " [1183072, '5f5a051b@gmail.com'],\n",
              " [1610959, 'd57f6ef5c@mail.ru'],\n",
              " [621545, 'be0b80@qq.com'],\n",
              " [2051784, '35f10d@gmail.com'],\n",
              " [1472622, 'f6bf0c0e2@mail.ru'],\n",
              " [150032, 'fbf3ea40@yandex.ru'],\n",
              " [2078255, '8756266af@gmail.com'],\n",
              " [848933, '993881d9@inbox.lv'],\n",
              " [1063587, '221d01@gmail.com'],\n",
              " [836072, '46c9f40@yandex.com'],\n",
              " [1522653, '4d5fc07@inbox.ru'],\n",
              " [1395734, 'e30bf9de@gmail.com'],\n",
              " [1853545, '7f20d9@gmail.com'],\n",
              " [233672, '7fee3a@mail.ru'],\n",
              " [2051190, '7cacc9@gmail.com'],\n",
              " [1536824, '8430758ba@inbox.ru'],\n",
              " [1613478, '624cf314@yandex.ru'],\n",
              " [2265959, '905e049c3@mail.ru'],\n",
              " [1174400, '5a29b06@gmail.com'],\n",
              " [1802421, '52522b@veeam.com'],\n",
              " [1269395, '2f21568c@mail.ru'],\n",
              " [1059932, 'b21cef@mail.ru'],\n",
              " [62678, 'dab3e3175@yandex.ru'],\n",
              " [2248020, '0dc56bd32@gmail.com'],\n",
              " [1577293, '03cf97@list.ru'],\n",
              " [1128362, '6a663f@gmail.com'],\n",
              " [766288, '54b4cd3@list.ru'],\n",
              " [1060211, 'd921104@mail.ru'],\n",
              " [1275538, '85f76fe@gmail.com'],\n",
              " [1519821, '2f2d94f7c@gmail.com'],\n",
              " [2388810, 'c51db8@gmail.com'],\n",
              " [1311660, 'c5a95a@gmail.com'],\n",
              " [685020, 'b8d9a29@gmail.com'],\n",
              " [1935772, '152077@gmail.com'],\n",
              " [406187, '8a07c1d@gmail.com'],\n",
              " [1487670, 'a755bc3c@bk.ru'],\n",
              " [488673, '08ddcb748@gmail.com'],\n",
              " [2255192, '920f38bd1@gmail.com'],\n",
              " [1509602, 'e89dfd94@mail.ru'],\n",
              " [1745765, '0ee53cc9e@mail.ru'],\n",
              " [1033130, 'a107322@gmail.com'],\n",
              " [638881, 'bc5c18@mail.ru'],\n",
              " [1790529, '7cd1861@gmail.com'],\n",
              " [1161547, 'c33712@gmail.com'],\n",
              " [559692, '0ae9d97@yahoo.com'],\n",
              " [721305, 'b7b46edd@gmail.com'],\n",
              " [485459, '8d84b1c@gmail.com'],\n",
              " [1022255, '797b2d19@mail.ru'],\n",
              " [1611158, 'ede324d@gmail.com'],\n",
              " [1523891, 'd5b0a5b0@mail.ru'],\n",
              " [2214679, 'fcb308562@gmail.com'],\n",
              " [969486, '5af5c4@inbox.lv'],\n",
              " [2109065, '92d778@yandex.ru'],\n",
              " [215117, 'ee5c7fa3@mail.ru'],\n",
              " [878377, 'dfbfd9@yandex.ru'],\n",
              " [1029510, '0525d8e56@gmail.com'],\n",
              " [401143, 'c209a1d@mail.ru'],\n",
              " [2095042, '511a62@gmail.com'],\n",
              " [509225, 'ca688f304@mail.ru'],\n",
              " [1499933, '8c0a4e69f@gmail.com'],\n",
              " [1051915, '6675b96ce@gmail.com'],\n",
              " [593299, '9757be3b@list.ru'],\n",
              " [2266223, 'd13d8df@gmail.com'],\n",
              " [1454755, '10f0ff9aa@yandex.ru'],\n",
              " [1838312, '432cd63d@gmail.com'],\n",
              " [301351, '39902e266@yandex.ru'],\n",
              " [2128859, '0278adf@mail.ru'],\n",
              " [2320442, '0d7b1bfa@gmail.com'],\n",
              " [842733, '96f934@list.ru'],\n",
              " [1244942, '398695fa@mail.ru'],\n",
              " [191997, '9a94ad8@gmail.com'],\n",
              " [572864, 'b34f6c0@bk.ru'],\n",
              " [2196219, 'a75c6f8@gmail.com'],\n",
              " [70991, '05bcb0ef@mail.ru'],\n",
              " [2221399, '44a555d@gmail.com'],\n",
              " [2068695, '77adb5@gmail.com'],\n",
              " [2132309, 'bef114835@mail.ru'],\n",
              " [368711, 'c64c0c8d4@gmail.com'],\n",
              " [2147834, 'e7dd59@ya.ru'],\n",
              " [2058873, '22a7b164@mail.ru'],\n",
              " [317821, '441dc9003@mail.ru'],\n",
              " [393580, '55c31f9@gmail.com'],\n",
              " [1026989, 'a3d7f9@yandex.ru'],\n",
              " [2387919, '18b7866@gmail.com'],\n",
              " [2094795, '43a856@mail.ru'],\n",
              " [1219408, 'b0fa34f1@mail.com'],\n",
              " [138728, '712086001@mail.ru'],\n",
              " [1488731, '9d068ae@ya.ru'],\n",
              " [1291573, '69a7c6433@mail.ru'],\n",
              " [925970, 'c1fb32591@list.ru'],\n",
              " [556496, 'f15e1fe@gmail.com'],\n",
              " [1346571, 'ebb8d76@gmail.com'],\n",
              " [1156697, '8160277c@bk.ru'],\n",
              " [1659401, '6bca8ba@mail.ru'],\n",
              " [1761802, '2c83696bb@mail.ru'],\n",
              " [836715, '431a7083@mail.ru'],\n",
              " [555775, '14a3934@mail.ru'],\n",
              " [1963244, 'e6d123d@mail.ru'],\n",
              " [425479, 'bedf4cb4f@yandex.ru'],\n",
              " [1933600, '7c0e7e@gmail.com'],\n",
              " [2269506, 'e31043e@gmail.com'],\n",
              " [219911, 'af343d5c9@yandex.ru'],\n",
              " [237387, 'da9d9e76@list.ru'],\n",
              " [1911054, '075232@gmail.com'],\n",
              " [2385402, 'c320ea3a2@gmail.com'],\n",
              " [295093, 'ff9ecdc73@yandex.ru'],\n",
              " [1588507, 'fe0a5add@inbox.ru'],\n",
              " [585835, 'a7c467@mail.ru'],\n",
              " [1909941, 'e79b783b@yandex.ru'],\n",
              " [1511759, '7ea1f5@gmail.com'],\n",
              " [1251883, '3a485e@mail.ru'],\n",
              " [431848, 'c6d323e@gmail.com'],\n",
              " [811430, '5d31626@rambler.ru'],\n",
              " [525992, '927f3d3d8@gmail.com'],\n",
              " [403651, '81f7938@mail.ru'],\n",
              " [478963, 'bcd70ba@mail.ru'],\n",
              " [263836, '4591c4283@mail.ru'],\n",
              " [777932, '4a220a3e5@mail.ru'],\n",
              " [1739800, '5399143@mail.ru'],\n",
              " [1709532, '7c81c8@bk.ru'],\n",
              " [1031555, '1795fe@gmail.com'],\n",
              " [1256915, 'da06b1ee@gmail.com'],\n",
              " [2325384, '86b2f6@mail.ru'],\n",
              " [1793785, 'b60b587e@mail.ru'],\n",
              " [102364, '7eba49@gmail.com'],\n",
              " [9372, '8f54dd3@mail.ru'],\n",
              " [672171, '066fe8@list.ru'],\n",
              " [1828205, 'a98dd253@gmail.com'],\n",
              " [417135, '371d5809@yandex.ru'],\n",
              " [1311594, 'e2e0fc7aa@gmail.com'],\n",
              " [2181869, '4793e4@gmail.com'],\n",
              " [1416083, '54d54a126@ex.ru'],\n",
              " [2376163, '922cde9bd@atomrus.ru'],\n",
              " [985120, '7cefef6@mail.ru'],\n",
              " [1142374, 'ebfb3a@gmail.com'],\n",
              " [105648, '1f357c2@mail.ru'],\n",
              " [723592, 'a13e0431@mail.ru'],\n",
              " [200612, 'db7514@inbox.ru'],\n",
              " [10362, '1d0ccf192@mail.ru'],\n",
              " [1978247, '6a647f@gmail.com'],\n",
              " [2200676, 'ad7f47@gmail.com'],\n",
              " [223746, '117bd0a0@gmail.com'],\n",
              " [1133401, 'e44e6147e@gmail.com'],\n",
              " [1049255, '3406f5@mail.ru'],\n",
              " [1040263, '1ebfe4c94@mai.ru'],\n",
              " [1609086, 'fc058f40@mail.ru'],\n",
              " [696278, 'f089eb65@gmail.com'],\n",
              " [1535069, '4b930ac@mail.ru'],\n",
              " [1962451, 'ae0f29@gmail.com'],\n",
              " [411292, '7fb5d8@yandex.ru'],\n",
              " [1653237, '6ab5c2e@rngoil.ru'],\n",
              " [2140820, '2e63536cb@qw.km'],\n",
              " [2090469, 'd3f75e3@yandex.ru'],\n",
              " [1503564, '06dbca50e@mail.ru'],\n",
              " [1747359, '79a94d623@yandex.ru'],\n",
              " [1252515, '71f31a5@icloud.com'],\n",
              " [1219908, 'a407ac@gmail.com'],\n",
              " [341680, 'ee97869@mail.ru'],\n",
              " [1379383, 'f6f30434@yandex.ru'],\n",
              " [1306189, '2b2c3de4@mail.ru'],\n",
              " [1522026, 'c0680bd@yandex.ru'],\n",
              " [2280057, 'aad6bc@gmail.com'],\n",
              " [1585382, '9259e54f@yandex.ru'],\n",
              " [1837435, '67c3892@gmail.com'],\n",
              " [901595, '842907@gmail.com'],\n",
              " [1017310, '65c36bc@gmail.com'],\n",
              " [596422, 'a8760a0d@mail.ru'],\n",
              " [1206315, '3cf4fa@mail.ru'],\n",
              " [270364, '018daf2@gmail.com'],\n",
              " [1693755, 'b77a2f3@gmail.coom'],\n",
              " [249342, 'ea895f@mail.ru'],\n",
              " [1149542, 'de348db8d@gmail.com'],\n",
              " [280732, '2a0870@hotmail.com'],\n",
              " [797697, 'c76e25b3@mail.ru'],\n",
              " [2221198, '6bfda49@mail.ru'],\n",
              " [837655, '0ddbac3@mail.ru'],\n",
              " [1417529, '93d46a@icloud.com'],\n",
              " [119090, 'dd12c7492@mail.ru'],\n",
              " [2396246, 'b147be@gmail.com'],\n",
              " [1282355, '8186e3729@icloud.com'],\n",
              " [983831, '11442d@yandex.ru'],\n",
              " [2223722, '53ca9f@yandex.ru'],\n",
              " [130172, '15e679@gmail.com'],\n",
              " [2047574, '7835bb560@gmail.com'],\n",
              " [223734, '5bcdc5967@mail.ru'],\n",
              " [1125101, '46bf35e4@gmail.com'],\n",
              " [2111855, '6cc9111@mail.ru'],\n",
              " [1778624, '6394be0@gmail.com'],\n",
              " [2000425, '1ee08b6d5@mail.ru'],\n",
              " [1317148, 'c313540@mail.ru'],\n",
              " [1201335, 'a8b2c06@ibox.ru'],\n",
              " [1899777, '7b8dd4923@gmail.com'],\n",
              " [2008469, 'dd875e58e@gmail.com'],\n",
              " [2393649, '9c2cd65@mail.ru'],\n",
              " [1404641, '6668f3c@mail.ru'],\n",
              " [2270382, '2f230460@gmail.com'],\n",
              " [1345370, 'b76d4e@gmail.com'],\n",
              " [177017, '76154b@ya.ru'],\n",
              " [1246311, 'a7887e@gmail.com'],\n",
              " [1191287, '58bd4ea@mail.ru'],\n",
              " [1110139, '102c69ef@mail.ru'],\n",
              " [2108877, '6c44916@gmail.com'],\n",
              " [1148965, '375ca6@gmail.com'],\n",
              " [621834, 'cdaf62@gmail.com'],\n",
              " [1032238, '94947b2@gmail.com'],\n",
              " [1619523, '7ceb96@mail.ru'],\n",
              " [1366433, '3b7d57039@gmail.com'],\n",
              " [1170845, '3e8877@gmail.com'],\n",
              " [2031591, 'e3fad3dd@gmail.com'],\n",
              " [328849, '879b92@egat.co.th'],\n",
              " [1652398, '095517b@yandex.ru'],\n",
              " [719691, 'eba4532@gmail.com'],\n",
              " [1449295, 'ce7185@mail.ru'],\n",
              " [930467, '91686e2@gmail.com'],\n",
              " [1026670, '46252aa@gmail.com'],\n",
              " [1362253, '7c92a21b@mail.ru'],\n",
              " [1800388, 'b51d9f173@gmail.com'],\n",
              " [1721841, '5d075a30@mail.ru'],\n",
              " [2358115, '5e202b7@gmail.com'],\n",
              " [159971, '399c092c@gmail.com'],\n",
              " [1523119, '8b76e7c@gmail.com'],\n",
              " [1004134, '0de6d510@bk.ru'],\n",
              " [594660, '4bcf5e229@mail.ru'],\n",
              " [1827593, '9e84b83@yandex.ru'],\n",
              " [1639087, 'a2a4a935@yandex.ru'],\n",
              " [1794340, '229815@yandex.ru'],\n",
              " [2075390, 'ecba56@yandex.ru'],\n",
              " [2221950, '23683304@ukr.net'],\n",
              " [99791, '8c33ef4@mail.ru'],\n",
              " [1977787, 'e826598@gmail.com'],\n",
              " [1796155, 'ef6f038@mail.ru'],\n",
              " [1482243, '26f3f8d@gmail.com'],\n",
              " [483836, 'e11bad@gmail.com'],\n",
              " [1731545, 'a4a58e6@gmail.com'],\n",
              " [2294021, 'a8b2d1@gmail.com'],\n",
              " [1929796, 'b64aefe@gmail.com'],\n",
              " [315087, 'cdca9036@mail.ru'],\n",
              " [1515205, '703e8e@kinross.com'],\n",
              " [303531, '2cd94f@icloud.com'],\n",
              " [1520181, 'e13877@mail.ru'],\n",
              " [182361, '4568e19@yandex.ru'],\n",
              " [2303911, '720fba@gmail.com'],\n",
              " [996142, 'd8fb53@mail.ru'],\n",
              " [2361821, '03dd33@ya.ru'],\n",
              " [2041131, '9760ab2@list.ru'],\n",
              " [966582, '5f81e58@gmail.com'],\n",
              " [124437, '1c71ca20d@mail.ru'],\n",
              " [1869436, '8f6d86@gmail.com'],\n",
              " [253333, '892cbbca@yandex.ru'],\n",
              " [1504954, 'ead857f@mail.ru'],\n",
              " [1054311, '42d9aa97e@mail.ru'],\n",
              " [113492, '4d7e65@mail.ru'],\n",
              " [2031452, '6c2bdde32@gmail.com'],\n",
              " [1042776, 'e0603c9d@gmail.com'],\n",
              " [2192672, '0735204@gmail.com'],\n",
              " [2225599, 'bd039ae5@yandex.ru'],\n",
              " [255996, 'fae5c4fb3@inbox.ru'],\n",
              " [1811273, 'f0bb06@mail.ru'],\n",
              " [540846, '4bd41bad@gmail.com'],\n",
              " [2058449, '87814a@yandex.ru'],\n",
              " [1039026, '3fd8a2e@mail.ru'],\n",
              " [2136959, '4182670c@gmail.com'],\n",
              " [1827009, 'f81a78@gmail.com'],\n",
              " [633304, '55428a0@gmail.com'],\n",
              " [1525121, '9475fc1bf@mail.ru'],\n",
              " [1173068, 'd0c10203@mail.ru'],\n",
              " [190667, '2e5b8de52@gmail.com'],\n",
              " [1073596, 'e3796bd@icloud.com'],\n",
              " [1074929, '97c0c30@list.ru'],\n",
              " [547135, '7e0d056@gmail.com'],\n",
              " [360380, '77e52f8@gmail.com'],\n",
              " [1958298, 'd4289997@mail.ru'],\n",
              " [1747787, 'ed0a7ab@yandex.ru'],\n",
              " [2134150, 'eb9c9d210@gmail.com'],\n",
              " [1936213, 'cfb69091f@gmail.com'],\n",
              " [525378, 'fdc4de68@gmail.com'],\n",
              " [2220824, '5eb8a62@ya.ru'],\n",
              " [1841962, '59338a0@mail.ru'],\n",
              " [430950, '5176e9708@gmail.com'],\n",
              " [376210, 'b73f8463f@gmail.com'],\n",
              " [639014, 'c8c22035@gmail.com'],\n",
              " [2120070, '5b219ccd2@mail.ru'],\n",
              " [1278301, '7eb7b1@mail.ru'],\n",
              " [1964921, 'f921bb37@gmail.com'],\n",
              " [131537, 'd5c725a@mail.com'],\n",
              " [1342296, '5ba5dba@gmail.com'],\n",
              " [754222, '20eba52c@yandex.ru'],\n",
              " [1481842, '9b86f6@inbox.ru'],\n",
              " [171588, 'e205d2@gmail.com'],\n",
              " [405030, 'c6f31c6@gmail.com'],\n",
              " [1788164, 'd649745ea@mail.ru'],\n",
              " [1066671, 'fa1a5f7@gmail.com'],\n",
              " [386029, '9dde828@mail.ru'],\n",
              " [1191937, '343f1166@gmail.com'],\n",
              " [1726935, '958023@mail.ru'],\n",
              " [314090, '2e6be51df@gmail.com'],\n",
              " [995475, '33d96c2@mail.ru'],\n",
              " [2027022, 'db713c@gmail.com'],\n",
              " [845180, '94ab6b1b2@gmail.com'],\n",
              " [322721, '7719e5ed2@gmail.com'],\n",
              " [404067, 'c3491ba@yandex.ru'],\n",
              " [1754746, 'c4fd20f76@gmail.com'],\n",
              " [2153422, 'cd9115@gmail.com'],\n",
              " [444309, '633a139@yandex.ru'],\n",
              " [2093909, 'ee9f38cb@gmail.com'],\n",
              " [266633, '6146dd924@yandex.ru'],\n",
              " [596346, '991bbc6@mail.ru'],\n",
              " [58357, 'fcea3a@yandex.ru'],\n",
              " [904747, '6ce8f9@gmail.com'],\n",
              " [887332, 'f201d87c@mail.ru'],\n",
              " [67983, 'b3c149@gmail.com'],\n",
              " [2003444, '7452e52c@gmail.com'],\n",
              " [570477, 'fb7903977@mail.ru'],\n",
              " [1118159, '19988e373@gmail.com1'],\n",
              " [1319220, '9ceecad@gmail.com'],\n",
              " [986307, 'e6ea6ae0@inbox.ru'],\n",
              " [2166511, 'de7ae66@mail.ru'],\n",
              " [1834107, 'd6de923@icloud.com'],\n",
              " [1080492, '844d2f7f0@gmail.com'],\n",
              " [1286222, '681bbb932@yandex.ru'],\n",
              " [1356318, '704a939@mail.ru'],\n",
              " [1457397, '7001995@ya.ru'],\n",
              " [1444698, 'ba97720f9@yandex.ru'],\n",
              " [1899011, 'de774a@mail.ru'],\n",
              " [961812, '98a54400@mail.ru'],\n",
              " [999605, '67335d89@mail.ru'],\n",
              " [288295, '597fd97@mail.ru'],\n",
              " [818180, '508d1d15@mail.ru'],\n",
              " [1986835, '9afc861@gmail.com'],\n",
              " [2308637, '110597c6@gmail.com'],\n",
              " [959494, '8921b7dd2@gmail.com'],\n",
              " [1192091, '85b58d09@mail.ru'],\n",
              " [1580267, '84b99458@gmail.com'],\n",
              " [811142, '5aeb51@mail.ru'],\n",
              " [435769, '86fe6791d@mail.ru'],\n",
              " [614403, '63f62f42@gmail.com'],\n",
              " [1638940, '4711f632e@gmail.com'],\n",
              " [1076960, '62c82b604@mail.ru'],\n",
              " [52462, 'ba90c23@gmail.com'],\n",
              " [1046809, '2be0039@yandex.ru'],\n",
              " [399954, '11657a44@gmail.com'],\n",
              " [163919, '5749122@yandex.ru'],\n",
              " [1627540, '65ce320@yandex.ru'],\n",
              " [2014480, 'd5e3dd89@mail.ru'],\n",
              " [914875, '6be3ab@ya.ru'],\n",
              " [2026200, 'd0f535f@gmail.com'],\n",
              " [1132835, '6b7274@bk.ru'],\n",
              " [1819471, '8728b4@gmail.com'],\n",
              " [282040, '82a823@gmail.com'],\n",
              " [306536, '97ae55a7@gmail.com'],\n",
              " [2392520, '85eb28@gmail.com'],\n",
              " [239915, '87ad55@gmail.com'],\n",
              " [324156, 'a80de2@mail.ru'],\n",
              " [648257, 'dac956c4a@yandex.ru'],\n",
              " [1588637, '1434ec@mail.ry'],\n",
              " [580458, 'a045dad@gmail.com'],\n",
              " [2263110, 'f6ba4a6@gmail.com'],\n",
              " [1197318, '70fec18@yandex.ru'],\n",
              " [2287892, 'a07e7636c@gmail.com'],\n",
              " [1900859, '85be4be2@gmail.com'],\n",
              " [604450, 'cc9fb2a2a@yandex.ru'],\n",
              " [1828595, '84114a726@mail.ru'],\n",
              " [1679570, '254be3f3@mail.ru'],\n",
              " [1179451, '415db9242@gmail.com'],\n",
              " [1583530, '86d9d94c2@mail.ru'],\n",
              " [1630794, 'cc69d1cc@gmail.com'],\n",
              " [2269529, '9728d4@yandex.ru'],\n",
              " [615510, 'c1350bc57@gmail.com'],\n",
              " [1012282, 'b60bd2d@gmail.com'],\n",
              " [2276724, 'ca91cf1@mail.ru'],\n",
              " [1644824, 'da17d255@gmail.com'],\n",
              " [576741, '0131ee3f3@mail.ru'],\n",
              " [1426330, '4427f6aa@bk.ru'],\n",
              " [17883, 'b7ee4be@mail.ru'],\n",
              " [2264218, 'fd385afe9@gmail.com'],\n",
              " [1539970, '86fa77@gmail.com'],\n",
              " [1521024, '56f339@upr.mnsk.rw.by'],\n",
              " [1233500, '4b9bc5@gmail.com'],\n",
              " [248575, 'baff39@bk.ru'],\n",
              " [1785814, 'a3cc455@yandex.ru'],\n",
              " [2196564, '11555f9e@mail.ru'],\n",
              " [1392575, 'db7144a@gmail.com'],\n",
              " [1195498, '5a9df017@gmail.com'],\n",
              " [943291, '707ca1d4c@yandex.ru'],\n",
              " [922962, '4327670b9@bk.ru'],\n",
              " [909003, '317e604b@bigbadaboom.com'],\n",
              " [2043313, 'd80cc2@yandex.ru'],\n",
              " [1937842, '1d2aa30@icloud.com'],\n",
              " [745481, 'ea68c0@rambler.ru'],\n",
              " [1393733, '050f3b@inbox.ru'],\n",
              " [330040, '51d8ba@mail.ru'],\n",
              " [2070585, '20c38c433@icloud.com'],\n",
              " [870128, '2f92b7d2b@gmail.com'],\n",
              " [2187199, 'a007dce63@mail.ru'],\n",
              " [76141, 'd054e0@list.ru'],\n",
              " [2159305, 'ca984a2@mail.ru'],\n",
              " [2128386, 'e478c479e@mail.ru'],\n",
              " [1775993, '1a0288@yandex.ru'],\n",
              " [1536955, '5035a9@mail.ru'],\n",
              " [1780173, '48638b6f@mail.ru'],\n",
              " [177001, 'c237f68@mail.ru'],\n",
              " [793407, 'b5becf@mail.ru'],\n",
              " [1523407, 'c1c70ae@yandex.ru'],\n",
              " [1111955, 'ab85ffe8@gmail.com'],\n",
              " [1704735, 'c08b93ca@gmail.com'],\n",
              " [2310111, '936f08df@gmail.com'],\n",
              " [775148, '7af7256@mail.ru'],\n",
              " [352532, '85078c096@mail.ru'],\n",
              " [1423018, 'c6d4641b@gmail.com'],\n",
              " [602876, '6b9385@gmail.com'],\n",
              " [531289, '25bff3@bk.ru'],\n",
              " [220654, '74e4a2@yandex.ru'],\n",
              " [735409, '7cddf2f@gmail.com'],\n",
              " [2376333, '5ae21533@vayner.ru'],\n",
              " [75796, '753d8193@mail.ru'],\n",
              " [407644, '3e2ce272@mail.ru'],\n",
              " [1285830, '2944800@gmail.com'],\n",
              " [941386, '5a015c7b0@mail.ru'],\n",
              " [583484, '6f2ccf15@gmail.com'],\n",
              " [166407, 'f0a123@gmail.com'],\n",
              " [820935, '611292a@gmail.com'],\n",
              " [2304432, 'e54cdd9c@mail.ru'],\n",
              " [430175, '3d7de6@mail.ru'],\n",
              " [1600744, '48fc1a@mail.ru'],\n",
              " [109991, 'ca5dc69@mail.ru'],\n",
              " [1018271, 'dd302f94@manychat.com'],\n",
              " [1199001, '5e7657e@gmail.com'],\n",
              " [548314, '9a7fbc0@gmail.com'],\n",
              " [1999733, 'ad636ff1@gmail.com'],\n",
              " [2401216, 'a8ff3b4@yandex.ru'],\n",
              " [2328270, '388082d3@inbox.ru'],\n",
              " [2211422, '0f1c8a@mail.ru'],\n",
              " [1844647, 'eb7ed8b@yandex.ru'],\n",
              " [320695, 'e23e188@gmail.com'],\n",
              " [950886, '94fb1e44@mail.ru'],\n",
              " [2177797, 'f612e0d0@gmail.com'],\n",
              " [927753, 'a218bd5f@krastsvetmet.ru'],\n",
              " [350743, '382587@mail.ru'],\n",
              " [445506, '0cfb54c@gmail.com'],\n",
              " [1353051, '0c920c04@gmail.com'],\n",
              " [219829, 'dad234d@gmail.com'],\n",
              " [1594105, '91c157a80@mail.ru'],\n",
              " [1356052, 'e62126992@inbox.ru'],\n",
              " [375191, '8eb00d47c@yandex.ru'],\n",
              " [2186246, 'ffaaf53@gmail.com'],\n",
              " [853058, '5e6d0a@gmail.com'],\n",
              " [538707, '86d1b66f@index.ru'],\n",
              " [1017231, 'ef024ac@gmail.com'],\n",
              " [1555623, '21f351@gmail.com'],\n",
              " [52373, '3ad10cae@mail.ru'],\n",
              " [1592880, 'eacfb2d3c@gmail.com'],\n",
              " [1618634, '90ff18258@gmail.com'],\n",
              " [2316498, 'f20de4@gmail.com'],\n",
              " [387701, '1e160367@gmail.ru'],\n",
              " [1507816, '44ad580@mail.ru'],\n",
              " [1444773, '52f6f4292@mail.ru'],\n",
              " [803064, 'e19734@mail.ru'],\n",
              " [2205991, 'c48fb12b@gmail.com'],\n",
              " [2082364, '1e7416a10@mail.ru'],\n",
              " [1370192, 'a5edc24e@gmail.com'],\n",
              " [1757184, 'e5a98d9a@gmail.com'],\n",
              " [823750, 'a5d9251@yandex.ru'],\n",
              " [1697916, '7516a26f@gmail.com'],\n",
              " [1133062, '69a916@ya.ru'],\n",
              " [1366499, '6115a7b1a@gmail.com'],\n",
              " [2138910, '4280ead@gmail.com'],\n",
              " [540257, '7e886e@yandex.ru'],\n",
              " [901814, 'ff1b85da@yandex.ru'],\n",
              " [1016348, '0cae217@mail.ru'],\n",
              " [1464624, '99ad028d@gmail.com'],\n",
              " [2339369, '1fddadb56@gmail.com'],\n",
              " [641394, '102510@gmail.com'],\n",
              " [2114955, '75b735@gmail.com'],\n",
              " [1301348, 'a089645fe@gmail.com'],\n",
              " [1125796, '713254@mail.ru'],\n",
              " [270665, '2f83b8f@yandex.ru'],\n",
              " [975791, 'd1fa1f9b@rambler.ru'],\n",
              " [1662844, '571534c@seznam.cz'],\n",
              " [929396, '50b6de861@rambler.ru'],\n",
              " [2148774, '0835522@gmail.com'],\n",
              " [1355108, 'a90e5dc81@gmail.com'],\n",
              " [730685, 'a53c249@yandex.ru'],\n",
              " [1055207, 'aed4b05@mail.ru'],\n",
              " [134814, '3441b89@gamail.com'],\n",
              " [1104023, '8a3b8d@mail.ru'],\n",
              " [870814, '8647dbb1c@gmail.com'],\n",
              " [822836, 'e57aebd5@yandex.ru'],\n",
              " [1898924, 'a069dee1@mail.ru'],\n",
              " [1885392, 'aaf38ba@croc.ru'],\n",
              " [490037, '76c426@gmail.com'],\n",
              " [2319871, '58cf02528@gmail.com'],\n",
              " [1233428, '8d3de0@mail.ru'],\n",
              " [1037307, 'e9232f60a@gmail.com'],\n",
              " [636722, 'e4e29eb51@mail.ru'],\n",
              " [1484642, '1c3178@gmail.com'],\n",
              " [1980485, '04edd64@mail.ru'],\n",
              " [1502770, 'c9a0f187@yandex.ru'],\n",
              " [650854, '86207d04f@gmail.com'],\n",
              " [503965, '7a2e93b8@gmail.com'],\n",
              " [755803, '0aeefac8@gmail.com'],\n",
              " [2208786, '45b3ed@mail.ru'],\n",
              " [2324872, '2361a6dd@gmail.com'],\n",
              " [99308, '8514039c@yandex.ru'],\n",
              " [344843, 'b919eeca7@yandex.ru'],\n",
              " [1783414, '381eb175@gmail.com'],\n",
              " [88559, 'a8417781@mail.ru'],\n",
              " [144149, '5327d1b@gmail.com'],\n",
              " [827784, '2d8d9032@gmail.com'],\n",
              " [1852644, '907978@gmail.com'],\n",
              " [2145404, '6ae0a276@gmail.com'],\n",
              " [2369763, '986f6d633@icloud.com'],\n",
              " [1764599, '25a738@yandex.ru'],\n",
              " [1647283, '84e8dcb73@gmail.com'],\n",
              " [666638, 'bdd44236@mail.ru'],\n",
              " [1259413, '73f5b66c@mail.ru'],\n",
              " [756844, 'eb296e93@yandex.ru'],\n",
              " [1829468, 'a116af9@icloud.com'],\n",
              " [1993604, '13ce00280@fircroft.com'],\n",
              " [2297870, '6010d3f4@gmail.com'],\n",
              " [183926, '16dddcd@gmail.com'],\n",
              " [1605481, '8bb1452@gmail.com'],\n",
              " [360300, '7c8c07d@rambler.ru'],\n",
              " [786193, '0f6454@gmail.com'],\n",
              " [526668, '63e71582@gmail.com'],\n",
              " [1122402, 'cf4b8b@yandex.ru'],\n",
              " [236300, '8d9e34c6@gmail.com'],\n",
              " [2299933, 'e81fdbf@bk.ru'],\n",
              " [391860, 'de31e8f5@gmail.com'],\n",
              " [1137446, 'b0352db@rambler.ru'],\n",
              " [2296700, '37c4e3ff7@mail.ru'],\n",
              " [2249719, 'e8a93b4@mail.ru'],\n",
              " [995431, '0df17c00@yandex.ru'],\n",
              " [655210, '8269871@gmail.com'],\n",
              " [2384514, 'c3fdb3@gmail.com'],\n",
              " [692126, '0dd2a047d@gmail.com'],\n",
              " [2103633, '6ca2b65a@mail.ru'],\n",
              " [462628, 'e130e5e@asd.it'],\n",
              " [1033048, '63b3f2c@gmail.com'],\n",
              " [83695, 'cad65bad@yandex.ru'],\n",
              " [928948, '67c98386@gmail.com'],\n",
              " [2210014, '5fe52e4@gmail.com'],\n",
              " [1541904, 'ac91e50a@mail.ru'],\n",
              " [117136, '5f3996b09@mail.ru'],\n",
              " [2036497, 'df5cc8ed3@mail.ru'],\n",
              " [1409415, 'e9c3108@mail.ru'],\n",
              " [1596761, '40165e3e4@yandex.ru'],\n",
              " [2302191, 'e3f6fc19@rambler.ru'],\n",
              " [619779, 'ecfff5f@gmail.com'],\n",
              " [607127, '2b0bf8e4b@mail.ru'],\n",
              " [37250, 'e3667943d@mail.ru'],\n",
              " [1698391, '225abd@gmail.com'],\n",
              " [2034262, '0946042@mail.ru'],\n",
              " [2191018, 'dafa6f9ef@mail.ru'],\n",
              " [2000159, 'd4f704f@gmail.com'],\n",
              " [1411908, 'cbb9d4@yandex.ru'],\n",
              " [966429, '8101d8d@outlook.com'],\n",
              " [707349, 'c06d18e97@mail.ru'],\n",
              " [1469712, 'b1228b24@mail.ru'],\n",
              " [1439169, '1b41b52@gmail.com'],\n",
              " [2325296, 'a34888ab@gmail.com'],\n",
              " [1459792, '760e0f5e@yandex.ru'],\n",
              " [798189, 'abef9a049@provectus.com'],\n",
              " [879065, 'd7d632@i.ua'],\n",
              " [826879, '57370115@ya.ru'],\n",
              " [1427640, '2ad5c2@mail.ru'],\n",
              " [149736, '37fae8d@mail.ru'],\n",
              " [2014990, 'd9b9b7@mail.ru'],\n",
              " [586468, '8f89d2618@gmail.com'],\n",
              " [914697, 'cf28e2@mail.ru'],\n",
              " [163272, 'bea4643@gmail.com'],\n",
              " [108294, '0c7ee1c@mail.com'],\n",
              " [1918784, '3f6da6699@gmail.com'],\n",
              " [2110358, '9546fdc@yandex.ru'],\n",
              " [2083313, '0710291@gmail.com1'],\n",
              " [2269326, 'cf4e883@gmail.com'],\n",
              " [1942785, '9d17190c6@mail.ru'],\n",
              " [2215714, 'e0fac2e@gmail.com'],\n",
              " [338696, 'bc68ab5@mail.ru'],\n",
              " [376854, '149b6bcbb@gmail.com'],\n",
              " [1628845, '4a7b7f34c@mail.ru'],\n",
              " [1602126, '8812bed9@gmail.com'],\n",
              " [118389, '60656920a@gmail.com'],\n",
              " [1610625, 'f3a898@gmail.com'],\n",
              " [2020731, '5e5fb2e39@gmail.com'],\n",
              " [206056, '3386070@gmail.com'],\n",
              " [1235018, 'daa118@gmail.com'],\n",
              " [1484256, 'a335a02@gmail.com'],\n",
              " [790378, '03a96f3b@bk.ru'],\n",
              " [423772, 'bc0dbb627@mail.ru'],\n",
              " [1660035, '65b218@gmail.com'],\n",
              " [1942069, '05cbf5b@gmail.com'],\n",
              " [1865705, '158ab62b@gmail.com'],\n",
              " [1875269, 'f3c4fde5@mail.ru'],\n",
              " [1826495, '62fef3@mail.ru'],\n",
              " [2187211, '930b0493@gmail.com'],\n",
              " [52125, 'c32e3a@yandex.ru'],\n",
              " [1930168, 'a96f422@mail.ru'],\n",
              " [829504, 'd0070ec@tut.by'],\n",
              " [156499, '76097b1@mail.ru'],\n",
              " [53261, '312471@bk.ru'],\n",
              " [411567, '91761e@mail.ru'],\n",
              " [370121, '6cf182b80@ukr.net'],\n",
              " [1016571, '0599cf@gmail.com'],\n",
              " [140444, 'a1cbc05bb@gmail.com'],\n",
              " [1707643, '79bd61dc0@mail.ru'],\n",
              " [1050749, '702acfc0c@gmail.com'],\n",
              " [27117, 'd452ea17@yandex.ru'],\n",
              " [304092, 'ed2b3ad2d@gmail.com'],\n",
              " [166913, 'e34fc94ac@gmail.com'],\n",
              " [1287719, '417d6bb@yandex.ru'],\n",
              " [1496930, '6189ca@gmail.com'],\n",
              " [2033458, 'fd353cf8f@mail.ru'],\n",
              " [257168, '1051f50@gmail.com'],\n",
              " [972387, 'f78082b5b@mail.ru'],\n",
              " [598441, 'cbe5a25@gmail.com'],\n",
              " [544788, '13ca1150@gmail.com'],\n",
              " [77700, '4fb5055@gmail.com'],\n",
              " [40913, 'eb9fd83@mail.ru'],\n",
              " [548625, '5e4fff8@gmail.com'],\n",
              " [467345, '569c63a56@mail.ru'],\n",
              " [1986355, '5d139af05@gmail.com'],\n",
              " [1636108, '65980c@hilti.com'],\n",
              " [297360, 'fd7fb678d@mail.ru'],\n",
              " [1045788, '3a1ee3e3@yandex.ru'],\n",
              " [310717, '876424f7@mail.ru'],\n",
              " [2405617, '44b4e4e5@bk.ru'],\n",
              " [236131, '4ca1c2@mail.ru'],\n",
              " [420385, 'b0811a@gmail.com'],\n",
              " [2352702, '22f4294c@gmail.com'],\n",
              " [144516, '0118e1c@mail.ru'],\n",
              " [1148616, '02d2e22@gmail.com'],\n",
              " [1517269, 'a6eaec79b@icloud.com'],\n",
              " [1255184, '6d338a@yandex.ru'],\n",
              " [2137417, '6a83961d3@gmail.com'],\n",
              " [2021776, '49d0f6@gmail.com'],\n",
              " [1870818, '30bf81@gmail.com'],\n",
              " [982477, '5ba3e8a67@mail.ru'],\n",
              " [95675, 'd7a4aea@mail.ru'],\n",
              " [2170759, '7193806@mail.ru'],\n",
              " [1706875, 'd080e953@yahoo.com'],\n",
              " [2040263, 'de47340b@mail.ru'],\n",
              " [1703644, '0a0c78e@yandex.ru'],\n",
              " [2155694, '962adf71@gmail.com'],\n",
              " [2309575, '2b98b698c@gmail.com'],\n",
              " [373318, '4869ad99d@gmail.com'],\n",
              " [1640275, 'ae4e29a7b@gmail.com'],\n",
              " [130391, 'fea182845@mail.ru'],\n",
              " [1153999, '24de62@rambler.ru'],\n",
              " [523784, 'bd52f2@gmail.com'],\n",
              " [1584115, 'b215b5@yandex.ru'],\n",
              " [489046, 'fe0bd2c92@yandex.ru'],\n",
              " [2326107, '8b8b9345@mail.ru'],\n",
              " [2034689, '54fdfbcec@yandex.ry'],\n",
              " [484595, '80b1d4a@mail.ru'],\n",
              " [288445, 'd22f8c@gmail.com'],\n",
              " [2136798, 'a136abbea@mail.ru'],\n",
              " [1899919, 'ba1041@mail.ru'],\n",
              " [2242356, 'f7d2b8d0@icloud.com'],\n",
              " [804392, '4071a0aee@gmail.com'],\n",
              " [1726451, '1688da@bk.ru'],\n",
              " [2025997, '91cd30@mail.ru'],\n",
              " [1047343, '8c15f5@icloud.com'],\n",
              " [2327683, 'c102cd65@gmail.com1'],\n",
              " [716908, '4ac149a@ramler.ru'],\n",
              " [942752, '0daa414@gmail.com'],\n",
              " [994512, '05a671c6@gmail.com'],\n",
              " [110217, '51dcb0a@gmail.com'],\n",
              " [1341255, 'ea2b4c84d@mail.ru'],\n",
              " [2334242, 'fd3988cd@gmail.com'],\n",
              " [1980599, 'a91aea0f8@gmail.com'],\n",
              " [950808, '0615c48@gmail.com'],\n",
              " [1927256, '6cbd85186@mail.ru'],\n",
              " [810899, '9cc2a096@gmail.com'],\n",
              " [1920775, 'c922a9267@gmail.com'],\n",
              " [1105187, '91106ec2@mail.ru'],\n",
              " [768307, 'be1548ee8@ukr.net'],\n",
              " [740919, 'b25b110d@mail.ru'],\n",
              " [124512, '28eb55@gmail.com'],\n",
              " [1625923, '3d9219c4@gmail.com'],\n",
              " [586682, '779add7b5@rambler.ru'],\n",
              " [842685, 'b4e5c8@rambler.ru'],\n",
              " [325869, 'd77bb78@yandex.ru'],\n",
              " [2269204, 'b7fba2b@icloud.com'],\n",
              " [1430544, 'a9878b@gmail.com'],\n",
              " [542739, '78944cad@gmail.com'],\n",
              " [2038607, '4877c66@yandex.ru'],\n",
              " [27161, '53afea@yandex.com'],\n",
              " [706966, 'b4999d4@mail.ru'],\n",
              " [152200, '5360cc7e@gmail.com'],\n",
              " [2311212, 'af8fcfee3@yandex.ru'],\n",
              " [1880625, 'bbdc8730d@gmail.com'],\n",
              " [2149577, '0a9b399f@bk.ru'],\n",
              " [239364, '9cc4ffc28@yandex.ru'],\n",
              " [2284109, '2c7d3b5@mail.ru'],\n",
              " [2020867, 'd18a39062@gmail.com'],\n",
              " [17309, '77b7a05@gmail.com'],\n",
              " [1380562, '8ddf2f@bk.ru'],\n",
              " [1428385, '806954cec@gmail.com'],\n",
              " [433700, '1d59ced@bk.ru'],\n",
              " [1473945, '05f06a83@mail.ru'],\n",
              " [205323, '1a7afde3@gmail.com'],\n",
              " [975608, 'e4a5f49@rambler.ru'],\n",
              " [1826719, '2f658df4@gmail.com'],\n",
              " [1517570, 'e2f051f1d@yandex.ru'],\n",
              " [368382, '5cb627ce3@mail.ru'],\n",
              " [584754, '650937e@yandex.ru'],\n",
              " [828554, '34a4a5a@bk.ru'],\n",
              " [873437, 'aaba00@hotmail.com'],\n",
              " [1785277, '58fab2046@mail.ru'],\n",
              " [2254793, '43cb756d@gmail.com'],\n",
              " [1730744, '7a17d2d7@gmail.com'],\n",
              " [776199, '8cbe6775@gmail.com'],\n",
              " [1654177, '70f3e245f@mail.ru'],\n",
              " [1757722, 'b4819a4@mail.ru'],\n",
              " [927060, '60463f30@gmail.com'],\n",
              " [342855, '902e0c02@rb.com'],\n",
              " [1328730, '2461476ab@bk.ru'],\n",
              " [692244, '3f5e2109@mail.ru'],\n",
              " [2002355, 'dfed987@mail.ru'],\n",
              " [1680612, '547557@bnpparibas.com'],\n",
              " [1955012, '72b531704@yandex.ru'],\n",
              " [1538235, 'dd31edf20@mail.ru'],\n",
              " [461127, '6067ec842@mail.ru'],\n",
              " [940648, '45931f@mail.ru'],\n",
              " [1676347, '2109470ee@gmail.com'],\n",
              " [1905547, '47bc130@gmail.com'],\n",
              " [1114958, '0865983@ukr.net'],\n",
              " [1279433, '5d206ff@gmail.com'],\n",
              " [217985, '06d5e31@rambler.ru'],\n",
              " [842809, 'b876f7@mail.ru'],\n",
              " [1352550, 'b65edacf@mail.ru'],\n",
              " [228506, 'f52999@inbox.ru'],\n",
              " [128158, '0b6ee1@gmail.com'],\n",
              " [1861434, '5aee0b@gmail.com'],\n",
              " [291362, '729665@mail.ru'],\n",
              " [261402, '311b32a0@gmail.com'],\n",
              " [2119714, '268a11dee@gmail.com'],\n",
              " [1947152, '6283ea@mail.ru'],\n",
              " [1512672, '2f92e6@bk.ru'],\n",
              " [2393384, '3dcca5@gmail.com'],\n",
              " [1233747, '19a0bb3@yandex.ru'],\n",
              " [1654924, '7312b19d@mail.ru'],\n",
              " [681101, '759367@gmail.com'],\n",
              " [1150727, '818eed0b@gmail.com'],\n",
              " [86678, '08af6e8@mail.ru'],\n",
              " [337583, 'dc9553b@yandex.ru'],\n",
              " [1263508, '421435280@mail.com'],\n",
              " [2395418, 'ec3098243@yandex.ru'],\n",
              " [83811, '5864f9@yandex.ru'],\n",
              " [1117721, '259dd5@gmail.com'],\n",
              " [1547999, 'c8f296c@gmail.com'],\n",
              " [2285030, 'de56859@mail.ru'],\n",
              " [1883946, '96524657@gmail.com'],\n",
              " [427054, '8229ffb@bk.ru'],\n",
              " [952201, 'bf26c3@gmail.com'],\n",
              " [1878597, '2763b3bdb@gmail.com'],\n",
              " [1604692, '4319d024@gmail.com'],\n",
              " [939076, '4a8719a8@gmail.com'],\n",
              " [1976096, '337bb3b09@gmail.com'],\n",
              " [356239, '528b99cc3@mail.ru'],\n",
              " [830667, 'cbb80225@mail.ru'],\n",
              " [1466369, 'e53919d5@yandex.ru'],\n",
              " [978029, 'ad5333@bigbadaboom.com'],\n",
              " [1010490, 'af70a3b@mail.ru'],\n",
              " [645268, '21232f297@wweb.kz'],\n",
              " [1971515, 'ae56e6d@mail.ru'],\n",
              " [2124098, '89501b007@gmail.com'],\n",
              " [1732024, '00e0ef939@gmail.com'],\n",
              " [1032384, 'fe7c69@rambler.ru'],\n",
              " [227275, '15fd48e@gmail.com'],\n",
              " [2203206, 'e23638@yandex.ru'],\n",
              " [1814580, '7837af@mail.ru'],\n",
              " [831437, '542f0325@gmail.com'],\n",
              " [1242173, '63375a50@yandex.ru'],\n",
              " [1708465, '27c9d51@pr3.eu'],\n",
              " [688427, '59dcb45d@mail.com'],\n",
              " [915379, 'de82a3c@mail.ru'],\n",
              " [668504, '00430b61@gmail.com'],\n",
              " [629437, '6834ef@yandex.ru'],\n",
              " [306324, '78fcf1f0@mail.ru'],\n",
              " [1596743, '04dd7d@gmail.com'],\n",
              " [399462, '378674e@gmail.com'],\n",
              " [309173, '30acb9402@mail.ru'],\n",
              " [1524082, 'c24f0849@mail.ru'],\n",
              " [1073602, '9649d4b@rambler.ru'],\n",
              " [78383, '94ffcd@mail.ru'],\n",
              " [2300425, 'dd95eab5e@gmail.com'],\n",
              " [1462251, '284db1f4@gmail.com'],\n",
              " [1618531, 'f671dffd@yandex.ry'],\n",
              " [2240828, 'cb079b@gmail.com'],\n",
              " [2264292, 'dd25a8146@mail.ru'],\n",
              " [1320374, 'a542be8@gmail.com'],\n",
              " [1166532, 'f9b9ab@mail.ru'],\n",
              " [647761, '5a6a547d@mail.ru'],\n",
              " [130446, '2988bb@mail.ru'],\n",
              " [843660, '8ac79ef@gmail.com'],\n",
              " [813699, '07125658f@gmail.com'],\n",
              " [2089358, 'b989b4d6@yandex.ru'],\n",
              " [1281144, 'bf92df@yandex.ru'],\n",
              " [622453, '27bda01e@yandex.ru'],\n",
              " [1215613, '36e7fed3f@gmail.com'],\n",
              " [1586187, '1dd89d@yandex.ru'],\n",
              " [1576130, '97d891@gmail.com'],\n",
              " [1157435, '32722d@mail.ru'],\n",
              " [1602471, 'ecd80c@mail.ru'],\n",
              " [1069576, '74dc06a@mail.ru'],\n",
              " [1482827, '9ee1504@gmail.com'],\n",
              " [62445, '0068b2e7@nm.ru'],\n",
              " [817751, '10bbfd5a@mail.ru'],\n",
              " [255249, 'd49d5b54@yandex.ru'],\n",
              " [256702, '6299eb2f@mail.ru'],\n",
              " [1122711, '8ca90f@mail.ru'],\n",
              " [2144714, 'fe267e@gmail.com'],\n",
              " [1800589, '7b9aa16@gmail.com'],\n",
              " [1371060, 'c85322dc4@gmail.com'],\n",
              " [994407, 'c327fc78@gmail.com'],\n",
              " [1042030, 'a6a5e7@yandex.ru'],\n",
              " [360419, 'cb3f1bd94@bk.ru'],\n",
              " [1600628, '9914451@inbox.ru'],\n",
              " [525118, 'a4f9e0f3@bk.ru'],\n",
              " [510592, '6affcba@gmail.com'],\n",
              " [1839334, 'e704bcdb@yandex.ru'],\n",
              " [1029987, 'f33409@mail.ru'],\n",
              " [354755, 'e0e33931e@rambler.ru'],\n",
              " [200260, '27769df5@yandex.ru'],\n",
              " [1888282, '4cc9a8e@gmail.com'],\n",
              " [2238878, '5119f572@yandex.ru'],\n",
              " [753288, '8eb522a@12storeez.com'],\n",
              " [1880665, 'd1fc5f7@gmail.com'],\n",
              " [351232, 'f33f302d9@gmail.com'],\n",
              " [2017533, '21a8d9@gmail.com'],\n",
              " [1763487, '10a1d8dd7@gmail.com'],\n",
              " [1579403, '2dbf89@mail.ru'],\n",
              " [282614, '23cf20@decathlon.com'],\n",
              " [753343, '9c3b8d@msn.com'],\n",
              " [2211519, '7f09e5@gmail.com'],\n",
              " [693779, '5564d9d@yandex.ru'],\n",
              " [740892, '3db5ee01@list.ru'],\n",
              " [526500, '39feb0@rambler.ru'],\n",
              " [1198124, 'ae7b0c@gmail.com'],\n",
              " [1106105, '33a9e83e8@mail.ru'],\n",
              " [1139038, '3e9585a50@mail.ru'],\n",
              " [15104, 'b834f5b42@gmail.com'],\n",
              " [1908923, 'de0338@gmail.com'],\n",
              " [2350837, '8e742f3@mail.ru'],\n",
              " [1496257, 'e333e7@mail.ru'],\n",
              " [184291, 'd9295a@gmail.com'],\n",
              " [2150746, 'b7f893cd@gmail.com'],\n",
              " [1985237, '790068@a-sign.ru'],\n",
              " [89758, 'fd889b6e@gmail.con'],\n",
              " [1293931, '72c70a199@gmail.com'],\n",
              " [2093143, 'd6574f@gmail.com'],\n",
              " [1991076, '8995cce@gmail.com'],\n",
              " [755610, '76d893c1@gmail.com'],\n",
              " [441359, '7e03ab7b@gmail.com'],\n",
              " [1640869, 'f89267@yandex.ru'],\n",
              " [1560822, 'dd8d1d1a1@yandex.ru'],\n",
              " [2254779, 'dfc871e30@bk.ru'],\n",
              " [1185664, '0e00ef0c@e1.ru'],\n",
              " [1833650, 'c213cb@yandex.ru'],\n",
              " [779755, '835063d@mail.ru'],\n",
              " [922956, '2d7dbf0e2@gmail.com'],\n",
              " [30874, '36acaac5@yandex.ru'],\n",
              " [1846855, '7643008c7@yandex.ru'],\n",
              " [1450740, 'a741f46@gmail.com'],\n",
              " [929699, 'd9ec150@gmail.com'],\n",
              " [2287519, 'ec4f92e@icloud.com'],\n",
              " [2237037, 'a18bdcb@yandex.ru'],\n",
              " [496772, '5e4bc5a@mail.ru'],\n",
              " [2368245, '1bfeaf@gmail.com'],\n",
              " [1860033, '930b9aa@gmail.com'],\n",
              " [457389, '0860693@gmail.com'],\n",
              " [1161085, '1585305@bk.ru'],\n",
              " [845357, '9e4ee3a@mail.ru'],\n",
              " [1065022, '9280c7@mail.ru'],\n",
              " [665253, 'ed955ff0@yandex.ru'],\n",
              " [2156865, '2d15d9@mail.ru'],\n",
              " [1502016, '6a44c0e8@yandex.ru'],\n",
              " [1666284, 'f63e646@mail.ru'],\n",
              " [1597564, 'cfbd70@yandex.ru'],\n",
              " [2023959, 'a948a7f6@mail.ru'],\n",
              " [1298096, 'fedf8c3@inbox.ru'],\n",
              " [406143, 'b8fa91@gmail.com'],\n",
              " [2343328, 'b993a5f4d@gmail.com'],\n",
              " [1359296, '927c316@gmail.com'],\n",
              " [1778342, '02261b7@mail.ru'],\n",
              " [72564, '9f58502e2@mail.ru'],\n",
              " [1924153, 'beb611a@mail.ru'],\n",
              " [873787, 'dcd4f437a@mail.ru'],\n",
              " [815714, 'a634ffad@gmail.com'],\n",
              " [2114991, '0b79e6@gmail.com'],\n",
              " [733581, '7abf385bf@mail.ru'],\n",
              " [251700, '645c8c7@mail.ru'],\n",
              " [1938726, '5f8b48@yandex.ru'],\n",
              " [1642137, '22566647a@mail.ru'],\n",
              " [1340032, 'ed6c1e@mail.ru'],\n",
              " [1277966, 'de9341789@gmail.com'],\n",
              " [1787001, '47c40e8@yandex.ru'],\n",
              " [2183716, '95f041fc0@gmail.com'],\n",
              " [1297758, 'd9ef9a@mail.ru'],\n",
              " [1791226, '218989df@gmail.com'],\n",
              " [891650, 'e9ab82ef4@mail.ru'],\n",
              " [1412880, '07eaaca4@yandex.com'],\n",
              " [1108869, '5f55dd7@gmail.com'],\n",
              " [2039325, '44404ed5@gmail.com'],\n",
              " [1445750, '539bf48@usa.com'],\n",
              " [2293601, 'b8b4b4c7@bk.ru'],\n",
              " [884783, '4774e5619@mail.ru'],\n",
              " [954495, '1c000f81@mail.ru'],\n",
              " [2404353, 'a0e29765@gmail.com'],\n",
              " [2077834, '6417f2@gmail.com'],\n",
              " [260358, 'feff75d26@gmail.com'],\n",
              " [403481, '71659b7e@yandex.ru'],\n",
              " [1904831, '60647d@gmail.com'],\n",
              " [2084740, '28ad330c@gmail.com'],\n",
              " [1146021, 'c15088d@gmail.com'],\n",
              " [686405, '2b27573@yandex.ru'],\n",
              " [1377313, '9ceecba2@gmail.com'],\n",
              " [2003428, 'd89c5c@mail.ru'],\n",
              " [963840, 'a65b6fe4@mail.ry'],\n",
              " [1911, 'f7219f@mail.ru'],\n",
              " [2184243, '6e392cf@bk.ru'],\n",
              " [1774368, '048042af@mail.ru'],\n",
              " [364298, '7df6cc68@gmail.com'],\n",
              " [1353928, 'f77da54b@mail.ru'],\n",
              " [1790546, '724b12ef0@gmail.com'],\n",
              " [523525, '9d3c8996@mail.ru'],\n",
              " [746391, '65f67916@hettich.ru'],\n",
              " [2105892, '9fcaa644@mail.ru'],\n",
              " [658206, '36aa1b32@gmail.com'],\n",
              " [1226924, '69ef126c8@mail.ru'],\n",
              " [539133, '19a15b2@yandex.ru'],\n",
              " [1636842, '0c7e39793@outlook.com'],\n",
              " [1888622, '3d78cd8@gmail.com'],\n",
              " [2010603, 'a95cab@rambler.ru'],\n",
              " [1613723, 'd566919@yandex.ru'],\n",
              " [1040060, '77dcbd@gmail.com'],\n",
              " [985768, 'b60f4cb4@mail.ru'],\n",
              " [1237129, 'bf978f79@gmail.com'],\n",
              " [722256, '073ef15@yandex.ru'],\n",
              " [1783124, '39b6eb29@mail.ru'],\n",
              " [790743, 'd108500@gmail.com'],\n",
              " [1038030, '3190bb1a@icloud.com'],\n",
              " [1803858, '06ad43@mail.ru'],\n",
              " [483729, '523510@mail.ru'],\n",
              " [1921327, '37e5197b6@yandex.ru'],\n",
              " [967173, '448bbd653@gmail.com'],\n",
              " [1284209, '7edae2f@inbox.ru'],\n",
              " [1892311, '22af03@playtika.com'],\n",
              " [634628, '9eb88830@gmail.com'],\n",
              " [844907, '39e415d8@mail.ru'],\n",
              " [1076381, '92ccee@mail.ru'],\n",
              " [1457307, '1c62a8348@gmail.com'],\n",
              " [2088186, 'f45ece96@mail.ru'],\n",
              " [1065646, '88c80be@gmail.com'],\n",
              " [956034, '2a0202f@gmail.com'],\n",
              " [1041819, 'f040a99@mail.ru'],\n",
              " [638413, '68432c@mail.ru'],\n",
              " [1367204, '4a70d9@gmail.com'],\n",
              " [516633, 'dad4c9@yandex.ru'],\n",
              " [1893396, 'a711af0@example.com'],\n",
              " [822195, '72cb54e@rambler.ru'],\n",
              " [307111, 'f3da9f3e4@mail.ru'],\n",
              " ...]"
            ]
          },
          "metadata": {},
          "execution_count": 38
        }
      ]
    },
    {
      "cell_type": "code",
      "metadata": {
        "id": "QIh0Lbokx-yK",
        "colab": {
          "base_uri": "https://localhost:8080/"
        },
        "outputId": "6d4f749f-cba6-41ca-89d9-48755fc89e3b"
      },
      "source": [
        "print((crm[0]), (type(crm[0]))) # смотрим, что лежит в первом элементе"
      ],
      "execution_count": 39,
      "outputs": [
        {
          "output_type": "stream",
          "name": "stdout",
          "text": [
            "[510266, 'b0198ff4@mail.ru'] <class 'list'>\n"
          ]
        }
      ]
    },
    {
      "cell_type": "code",
      "metadata": {
        "id": "sZ28NqAknap5",
        "colab": {
          "base_uri": "https://localhost:8080/"
        },
        "outputId": "b5f9e8dc-2af4-4393-e8af-64cd114f98b6"
      },
      "source": [
        "print((crm[0][0]), type(crm[0][0])) # смотрим, что лежит в первом элементе первого элемента"
      ],
      "execution_count": 40,
      "outputs": [
        {
          "output_type": "stream",
          "name": "stdout",
          "text": [
            "510266 <class 'int'>\n"
          ]
        }
      ]
    },
    {
      "cell_type": "code",
      "metadata": {
        "id": "ydqQZKpKnap7",
        "colab": {
          "base_uri": "https://localhost:8080/"
        },
        "outputId": "550a3bf0-9a38-404b-9e06-6907fb9e2780"
      },
      "source": [
        "# напиши код, который выведет второй элемент первого элемента объекта crm и его тип\n",
        "print((crm[0][1]), type(crm[0][1]))"
      ],
      "execution_count": 41,
      "outputs": [
        {
          "output_type": "stream",
          "name": "stdout",
          "text": [
            "b0198ff4@mail.ru <class 'str'>\n"
          ]
        }
      ]
    },
    {
      "cell_type": "markdown",
      "metadata": {
        "id": "iVETUr5Kx-yL"
      },
      "source": [
        "### Задание 2\n",
        "\n",
        "Теперь давай достанем из выгрузки список почт наших клиентов. Используя обращения по индексу и метод `.append`, это можно сделать в несколько строк. Дополни код ниже.\n",
        "1. Используй цикл `for in` для перебора элементов списка\n",
        "2. По индексу получи нужный элемент списка\n",
        "3. Метод `.append()` наполнит новый список нужными значениями\n",
        "\n",
        "\n",
        "\n"
      ]
    },
    {
      "cell_type": "code",
      "metadata": {
        "id": "eZt_YnUFx-yN",
        "colab": {
          "base_uri": "https://localhost:8080/"
        },
        "outputId": "dd0d890f-d293-466d-9fd7-3a8a88b34b61"
      },
      "source": [
        "# Hint: из предыдущего задания ты уже знаешь, в каком элементе списка хранится почта\n",
        "\n",
        "# создадим пустой список, куда будем складывать почты отдельно от остальных данных \n",
        "only_mail = []\n",
        "\n",
        "for i in crm:\n",
        "  only_mail.append(i[1])\n",
        "\n",
        "print(only_mail[0:5])\n",
        "\n"
      ],
      "execution_count": 42,
      "outputs": [
        {
          "output_type": "stream",
          "name": "stdout",
          "text": [
            "['b0198ff4@mail.ru', '5bda448e2@mail.ru', 'e860d3c@yandex.ru', '17f1f367@mail.ru', 'f408b395d@gmail.com']\n"
          ]
        }
      ]
    },
    {
      "cell_type": "markdown",
      "metadata": {
        "id": "KtzpYoEgx-yO"
      },
      "source": [
        "### Задание 3 \n",
        "\n",
        "Теперь создай новый список, в котором будут только домены почт после символа `«@»`. Обязательно назови этот список `domains`\n",
        "\n",
        "Тебе помогут строковые методы и метод `.append()`. Эта задача аналогична получению почты из строки — логика решения будет точно такая же. Как всегда, способов решить эту задачу несколько — выбирай тот, что тебе ближе.\n",
        "\n",
        "\n"
      ]
    },
    {
      "cell_type": "code",
      "metadata": {
        "id": "AQ2y4Ubqx-yO",
        "colab": {
          "base_uri": "https://localhost:8080/"
        },
        "outputId": "f18f3f4e-65c6-4e86-8ab8-e17d2336e519"
      },
      "source": [
        "# Hint: не забудь начать с пустого списка под названием domains, где окажутся только домены\n",
        "domains = []\n",
        "\n",
        "for i in only_mail:\n",
        "  f= i.split('@')\n",
        "  domains.append(f[1])\n",
        "print(domains[0:10])"
      ],
      "execution_count": 43,
      "outputs": [
        {
          "output_type": "stream",
          "name": "stdout",
          "text": [
            "['mail.ru', 'mail.ru', 'yandex.ru', 'mail.ru', 'gmail.com', 'i-free.com', 'mail.ru', 'mail.ru', 'mail.ru', 'mail.ru']\n"
          ]
        }
      ]
    },
    {
      "cell_type": "markdown",
      "metadata": {
        "id": "2Clsh-DWCBAg"
      },
      "source": [
        "### Задание 4\n",
        "\n",
        "Создадим копию наших доменов так, чтобы исходные данные не затерлись, а затем удалим все домены `skyeng.ru`. \n",
        "\n",
        "1. Ниже уже есть код, который копирует список, чтобы все операции, которые ты будешь проводить, не коснулись исходного списка и всегда можно было бы к нему обратиться.\n",
        "\n",
        "2. Используй цикл `while` для обработки каждого элемента списка\n",
        "\n",
        "3. Используй метод `remove()` для удаления лишних элементов \n",
        "\n",
        "❗️ Ниже использован новый метод работы со списками — `copy()`. Он создает копию списка, а не просто ссылается на исходный, как происходит при присваивании через оператор `=`. Ниже продемонстрирован синтаксис, а детали можно почитать в шпаргалке.\n",
        "\n",
        "🧩 Там же, в шпаргалке, есть и полезное дополнение о конструкциях операторов в циклах. Сделать задание можно как способом, что мы рассматривали на занятии, так и новым из шпаргалки. "
      ]
    },
    {
      "cell_type": "code",
      "metadata": {
        "id": "HPeuv5kBCzIO",
        "colab": {
          "base_uri": "https://localhost:8080/"
        },
        "outputId": "124a4b1c-8e58-4e74-df1c-2bbc28c8e9f7"
      },
      "source": [
        "copy_domains_number4 = domains.copy() # копируем список доменов из задания 3, чтобы последующие изменения не коснулись исходного списка. Этот код будет работать правильно, только если в задании 3 список доменок был назван domains\n",
        "\n",
        "# Hint: помни, что метод remove() удаляет лишь первое вхождение.\n",
        "  \n",
        "while 'skyeng.ru' in copy_domains_number4:\n",
        "  copy_domains_number4.remove('skyeng.ru')\n",
        "\n",
        "len(copy_domains_number4)"
      ],
      "execution_count": 44,
      "outputs": [
        {
          "output_type": "execute_result",
          "data": {
            "text/plain": [
              "49968"
            ]
          },
          "metadata": {},
          "execution_count": 44
        }
      ]
    },
    {
      "cell_type": "code",
      "source": [
        "to_find = 'skyeng.com'\n",
        "copy_domains_number4.count(to_find)"
      ],
      "metadata": {
        "id": "_uL-vLmCcYFt",
        "colab": {
          "base_uri": "https://localhost:8080/"
        },
        "outputId": "3bfc3438-cb5c-4cf3-bde5-8dbe4ac478da"
      },
      "execution_count": 45,
      "outputs": [
        {
          "output_type": "execute_result",
          "data": {
            "text/plain": [
              "2"
            ]
          },
          "metadata": {},
          "execution_count": 45
        }
      ]
    },
    {
      "cell_type": "markdown",
      "metadata": {
        "id": "c5kjLyWYx-yP"
      },
      "source": [
        "### Задание 5 \n",
        "В Skyeng также есть международный отдел – и почты его сотрудников имеют домен `skyeng.com`. Теперь напиши код, который будет удалять и почты с доментом `skyeng.ru`, и почты с доменом `skyeng.com`. Для проверки скопируем исходный список еще раз.\n",
        "\n"
      ]
    },
    {
      "cell_type": "code",
      "metadata": {
        "id": "TQbroqZEx-yQ",
        "colab": {
          "base_uri": "https://localhost:8080/"
        },
        "outputId": "29efc333-4635-4e90-f4c7-ec1d37cd2a70"
      },
      "source": [
        "copy_domains_number5 = domains.copy() # скопируем список доменов из задания 3 еще раз, чтобы убедиться, что наш код удаляет почты двоих домена\n",
        "\n",
        "# напиши свой код тут\n",
        "\n",
        "# while 'skyeng.ru' in copy_domains_number5:\n",
        "#   copy_domains_number5.remove('skyeng.ru')\n",
        "#   while 'skyeng.com' in copy_domains_number5:\n",
        "#     copy_domains_number5.remove('skyeng.com')\n",
        "\n",
        "for i in copy_domains_number5:\n",
        "  if i == 'skyeng.ru':\n",
        "    copy_domains_number5.remove(i)\n",
        "  if i == 'skyeng.com':\n",
        "    copy_domains_number5.remove(i)\n",
        "\n",
        "\n",
        "\n",
        "len(copy_domains_number5)"
      ],
      "execution_count": 68,
      "outputs": [
        {
          "output_type": "execute_result",
          "data": {
            "text/plain": [
              "49966"
            ]
          },
          "metadata": {},
          "execution_count": 68
        }
      ]
    },
    {
      "cell_type": "code",
      "source": [
        "to_find = 'skyeng.com'\n",
        "copy_domains_number5.count(to_find)"
      ],
      "metadata": {
        "id": "RRBO9yq0mkfp",
        "colab": {
          "base_uri": "https://localhost:8080/"
        },
        "outputId": "9e555f7a-f117-4042-e9ad-8f448fdd2ea0"
      },
      "execution_count": 47,
      "outputs": [
        {
          "output_type": "execute_result",
          "data": {
            "text/plain": [
              "0"
            ]
          },
          "metadata": {},
          "execution_count": 47
        }
      ]
    },
    {
      "cell_type": "markdown",
      "metadata": {
        "id": "JdgaHkC0x-yR"
      },
      "source": [
        "### Задание 6\n",
        "\n",
        "Создай список с уникальными доменами. \n",
        "\n",
        "Как обычно, можно решить эту задачу несколькими способами. Вот 2 возможных варианта.\n",
        "\n",
        "1. Ты можешь использовать более лаконичное решение – через множество. Если затрудняешься в решении через множество, обязательно посмотри шпаргалку.\n",
        "\n",
        "2. Также можно наполнить новый список с помощью метода `.pop()`, о котором мы говорили на занятии. Такое решение более заковыристое, но хорошо тренирует продумывание логики кода. "
      ]
    },
    {
      "cell_type": "code",
      "metadata": {
        "id": "MH_RrIfTx-yS",
        "colab": {
          "base_uri": "https://localhost:8080/"
        },
        "outputId": "e7670c94-4384-4a3a-9dff-25cf570516f1"
      },
      "source": [
        "# Hint для решения через pop(): если ты инициализируешь словарь/список/множество, приравнивая его к другому, новый объект будет ссылаться на тот же участок памяти, что и старый. Но есть метод, который позволяет копировать объект, не ссылаясь на него.\n",
        "#https://pythonru.com/primery/kak-poluchit-unikalnye-jelementy-spiska-python\n",
        "\n",
        "\n",
        "unic_domain = list()\n",
        "# напиши здесь свой код\n",
        "my_set = set(copy_domains_number5)\n",
        "unic_domain = list(my_set)\n",
        "\n",
        "print(len(unic_domain))"
      ],
      "execution_count": 48,
      "outputs": [
        {
          "output_type": "stream",
          "name": "stdout",
          "text": [
            "1830\n"
          ]
        }
      ]
    },
    {
      "cell_type": "code",
      "source": [
        "unic_domain2 = list()\n",
        "\n",
        "for i in copy_domains_number5: \n",
        "  if i not in unic_domain2: \n",
        "    unic_domain2.append(i)\n",
        "\n",
        "print(len(unic_domain))"
      ],
      "metadata": {
        "colab": {
          "base_uri": "https://localhost:8080/"
        },
        "id": "D82dxsF2YEkC",
        "outputId": "045dcbe1-e57c-4e7b-96a9-46175613eb9e"
      },
      "execution_count": 49,
      "outputs": [
        {
          "output_type": "stream",
          "name": "stdout",
          "text": [
            "1830\n"
          ]
        }
      ]
    },
    {
      "cell_type": "code",
      "source": [
        "unic_domain3 = []\n",
        "\n",
        "while len(copy_domains_number5) > 0:\n",
        "    my = copy_domains_number5.pop()\n",
        "    if my not in unic_domain3:\n",
        "        unic_domain3.append(my)\n",
        "\n",
        "\n",
        "print(len(unic_domain3))\n",
        "    "
      ],
      "metadata": {
        "colab": {
          "base_uri": "https://localhost:8080/"
        },
        "id": "pfy6N3kfsCgi",
        "outputId": "67405990-34e7-4a73-ba61-a72d53f5f9b3"
      },
      "execution_count": 50,
      "outputs": [
        {
          "output_type": "stream",
          "name": "stdout",
          "text": [
            "1830\n"
          ]
        }
      ]
    },
    {
      "cell_type": "markdown",
      "metadata": {
        "id": "YRgB4fCyx-yV"
      },
      "source": [
        "### Задание 7\n",
        "\n",
        "Посчитай количество вхождений каждого домена. Здесь стоит использовать код, который написан в прошлых заданиях, а также воспользоваться структурой словарь. Подумай, что должно быть ключом, а что – значением.\n",
        "\n",
        "1. Создай словарь\n",
        "\n",
        "2. Напиши цикл, который будет считать количество вхождений каждого домена\n"
      ]
    },
    {
      "cell_type": "code",
      "metadata": {
        "id": "0mfDYQDMx-yV"
      },
      "source": [
        "# Hint: количество вхождений элемента в список можно посчитать методом count()\n",
        "\n",
        "copy_domains_number6 = domains.copy()"
      ],
      "execution_count": 54,
      "outputs": []
    },
    {
      "cell_type": "code",
      "source": [
        "dict_domain = dict.fromkeys(copy_domains_number6, 1)\n",
        "\n",
        "print(dict_domain)"
      ],
      "metadata": {
        "colab": {
          "base_uri": "https://localhost:8080/"
        },
        "id": "K5F3Qc8gGNyJ",
        "outputId": "e4e17b3b-b3cc-476f-b424-ef1f80a64c21"
      },
      "execution_count": 57,
      "outputs": [
        {
          "output_type": "stream",
          "name": "stdout",
          "text": [
            "{'mail.ru': 1, 'yandex.ru': 1, 'gmail.com': 1, 'i-free.com': 1, 'icloud.com': 1, 'tandem.ru': 1, 'inbox.ru': 1, 'ukr.net': 1, 'yum.com': 1, 'bk.ru': 1, 'qq.com': 1, 'inbox.lv': 1, 'yandex.com': 1, 'veeam.com': 1, 'list.ru': 1, 'yahoo.com': 1, 'ya.ru': 1, 'mail.com': 1, 'rambler.ru': 1, 'ex.ru': 1, 'atomrus.ru': 1, 'mai.ru': 1, 'rngoil.ru': 1, 'qw.km': 1, 'gmail.coom': 1, 'hotmail.com': 1, 'ibox.ru': 1, 'egat.co.th': 1, 'kinross.com': 1, 'gmail.com1': 1, 'mail.ry': 1, 'upr.mnsk.rw.by': 1, 'bigbadaboom.com': 1, 'vayner.ru': 1, 'manychat.com': 1, 'krastsvetmet.ru': 1, 'index.ru': 1, 'gmail.ru': 1, 'seznam.cz': 1, 'gamail.com': 1, 'croc.ru': 1, 'fircroft.com': 1, 'asd.it': 1, 'outlook.com': 1, 'provectus.com': 1, 'i.ua': 1, 'tut.by': 1, 'hilti.com': 1, 'yandex.ry': 1, 'ramler.ru': 1, 'rb.com': 1, 'bnpparibas.com': 1, 'wweb.kz': 1, 'pr3.eu': 1, 'nm.ru': 1, '12storeez.com': 1, 'decathlon.com': 1, 'msn.com': 1, 'a-sign.ru': 1, 'gmail.con': 1, 'e1.ru': 1, 'usa.com': 1, 'hettich.ru': 1, 'playtika.com': 1, 'example.com': 1, 'ik-mercury.ru': 1, 'qq.sl': 1, 'qmail.com': 1, '2107school.ru': 1, 'yamed.ru': 1, 'picksell.ru': 1, 'cloud.ru': 1, 'sbcglobal.net': 1, 'ss.ru': 1, 'test.email7': 1, 'a.bc': 1, 'dl-trans.ru': 1, 'yandex-team.ru': 1, 'euroml.ru': 1, 'lift.ru': 1, 'divisadero.es': 1, 'puig.com': 1, 'autodata.ru': 1, 'furgon-mk.ru': 1, 'kambalov.ru': 1, 'outlook.es': 1, 'akdn.org': 1, 'truckerpath.com': 1, 'rarus.ru': 1, 'aeroidea.ru': 1, 'gmal.com': 1, 'namba.kg': 1, 'guruenglish.ru': 1, 'skyeng.ru': 1, 'mail.ru.il': 1, 'gmaiI.com': 1, 'lanit.ru': 1, 'fas.gov.ru': 1, 'mediacom.com': 1, 'leomax.ru': 1, 'uniqlo.ru': 1, 'inbox.lt': 1, 'jmail.com': 1, '2018mail.ru': 1, 'yaidex.ru': 1, 'freenet.de': 1, 'test.ru': 1, 'gmobis.com': 1, 'camozzi.ru': 1, 'nspk.ru': 1, 'yahoo.com.tr': 1, 'its.jnj.com': 1, 'diageo.com': 1, 'tele2.ru': 1, 'bi.zone': 1, 'test.com': 1, 'danfoss.com': 1, 'vershinin.ru': 1, 'gamil.com': 1, 'roltas.lt': 1, 'yahoo.es': 1, 'meta.ua': 1, 'appodeal.com': 1, 'my.com': 1, 'ginali.ru': 1, 'metro-cc.ru': 1, 'ctb.ru': 1, 'gmail.comm': 1, 'ru.storck.com': 1, 'me.com': 1, 'yandex.kz': 1, 'mail.ru2': 1, 'dot-mail.top': 1, 'sogaz-clinic.ru': 1, 'hessh.sdh': 1, 'specta.com': 1, 'hm.com': 1, 'motot4ik.ru': 1, 'jkdfhgkjfdg.gg': 1, 'spbrealty.ru': 1, 'gmail1.com': 1, 'bike4u.ru': 1, 'live.com': 1, 'alfai.ru': 1, 'peleng-group.ru': 1, 'ensm.ru': 1, 'sigma-it.ru': 1, 'siemens.com': 1, 'nu.edu.kz': 1, 'plaut.com': 1, 'aviasales.ru': 1, 'murmantara.ru': 1, 'tt.tt1': 1, 'tut.bu': 1, 'oneinc.ru': 1, 'open.ru': 1, 'rj-games.com': 1, 'mail.ri': 1, 'abv.bg': 1, 'atlascopco.com': 1, 'inh-spm.ru': 1, 'hillspet.com': 1, 'osttpm.ru': 1, 'testtest.sadf': 1, 'phystech.edu': 1, 'grr.la': 1, 'yandex.ua': 1, 'fsdf.df': 1, 'site.ru': 1, 'protonmail.com': 1, 'kus.com.kz': 1, 'ngs.ru': 1, 'enazadev.ru': 1, 'yandeks.ru': 1, 'sfedu.ru': 1, 'fidelium10.com': 1, 'gmil.com': 1, 'profcon.by': 1, 'app100.mail.carrotquest.io': 1, 'eriell.com': 1, 'rzdz.ru': 1, 'dizain.work': 1, 'surfcoffee.ru': 1, 'tutu.ru': 1, 'infoin.ru': 1, 'dnevnik.ru': 1, 'sharklasers.com': 1, 'gmx.de': 1, 'abbott.com': 1, 'just-for.com': 1, 'biofabrica.pro': 1, 'rt.ru': 1, 'cloin.com': 1, 'icvladimir.ru': 1, 'severstal-ssc.ru': 1, 'corp.mail.ru': 1, 'severstal.com': 1, 'lamoda.ru': 1, 'covidien.com': 1, 'rg-rus.ru': 1, 'emex.ru': 1, 'quantori.com': 1, 'virueterealty.com': 1, 'v-catering.ru': 1, 'walla.com': 1, 'new-gorod.ru': 1, 'iridium-russia.com': 1, 'mgpu.ru': 1, 'ra-slon.ru': 1, 'raiffeisen-life.ru': 1, 'cloud.com': 1, 'top-career.ru': 1, 'kk.nn': 1, 'worldskills.ru': 1, 'mail.ua': 1, '94mail.ru': 1, 'live.ru': 1, 'arlift.ru': 1, 'energomost.com': 1, 'icloud.ru': 1, 'sochi.com': 1, 'list.ru2': 1, 'softline.com': 1, 'dgsdgs.sdg': 1, '2yandex.ru': 1, 'tehada.com': 1, 'mobiogroup.com': 1, 'ozon.travel': 1, 'cchellenic.com': 1, 'narod.ru': 1, 'ucloud.com': 1, 'azercell.com': 1, 'grafitus.lt': 1, 'mazars.ru': 1, 'artlu.ru': 1, 'trbvn.com': 1, 'rtural.ru': 1, 'gmail.co': 1, 'mal.ry': 1, 'gmail.test': 1, 'binka.me': 1, 'stplus.ru': 1, '074gmail.com': 1, 'maul.ru': 1, 'edfg.tf': 1, 'yandex.by': 1, 'alfabank.ru': 1, 'cci.com.kz': 1, 'bruker.com': 1, 'papajohns.ru': 1, 'ro.ru': 1, 'dc2b.ru': 1, 'iec-spb.ru': 1, 'gmail.gom': 1, 'hoya-lens.ru': 1, 'malinator.com': 1, 'soloviev.me': 1, 'mail.bg': 1, '-1968': 1, 'storiqa.com': 1, 'spk.ru': 1, 'x5.ru': 1, 'astd.ru': 1, 'bb.ru': 1, 'unilever.com': 1, 'gmil.som': 1, 'rgrauto.ru': 1, 'gmeil.com': 1, 'axa.es': 1, 'inloud.com': 1, 'mts.by': 1, 'traceair.net': 1, 'group-ib.com': 1, 'gmailm.com': 1, 'dlsvet.ru': 1, 'gmail.com2': 1, 'serrycamp.com': 1, 'egstelecom.ru': 1, 'mail.ee': 1, 'gmai.com': 1, 'takeda.com': 1, 'dgdfg.ru': 1, 'qq.ag': 1, 'et.ru': 1, 'norbit.ru': 1, 'efsol.ru': 1, 'avilon.ru': 1, 'sborisov.ru': 1, 'uralkali.com': 1, 'zeppelin.com': 1, 'drodo.com': 1, 'bogatyrev.me': 1, 'altium.com': 1, 'daetopravda.ru': 1, 'bigmir.net': 1, 'mail4gmail.com': 1, 'web-geeks.ru': 1, 'dorogov-mentor.com': 1, 'agile-coach.ru': 1, 'lenta.ru': 1, 'kuklin.pro': 1, 'maximatelecom.ru': 1, 'mailnator.com': 1, 'test.te': 1, 'fromru.com': 1, 'umail.uz': 1, 'vscenergo.ru': 1, 'rpharm.ru': 1, 'doksignal.ru': 1, 'pcbsoft.ru': 1, '2017gmail.com': 1, 'skdayeng.ru': 1, 'mail.ru1': 1, 'getnada.com': 1, 'hyundai.ru': 1, 'damir24.ru': 1, 'boehringer-ingelheim.com': 1, 'cft.ru': 1, 'gett.com': 1, 'bit2tube.com': 1, 'aplana.com': 1, 'chmw.ru': 1, 'nornik.ru': 1, 'kama-crystal.com': 1, 'akado-ural.ru': 1, '3mail.ru': 1, 'uandex.ru': 1, 'strauss-group.ru': 1, 'lesaffre.com': 1, 'daoffice.ru': 1, 'saurida.lt': 1, 'sddsf.ru': 1, 'asuproject.ru': 1, 'maik.ru': 1, 'ggggg.email.com': 1, 'business-time76.ru': 1, 'g5e.com': 1, 'mario.ua': 1, 'protomail.com': 1, 'perestroika30.ru': 1, 'googlemail.com': 1, 'vladimirnikandrov.me': 1, 'peri.ru': 1, 'admitad.com': 1, 'zabudko.ru': 1, 'xy2.info': 1, 'mts.ru': 1, 'ivolatility.com': 1, 'dodopizza.com': 1, 'lubimova.com': 1, 'gmaildod.com': 1, 'doc-mail.net': 1, 'sportmaster.ru': 1, 'sas.com': 1, 'metalline.ru': 1, 'navicons.ru': 1, 'sibmail.com': 1, 'asics.com': 1, 'p33.org': 1, 'shennun-tea.ru': 1, 'nwytg.com': 1, 'gcore.lu': 1, 'korusconsulting.ru': 1, 'subto.ru': 1, 'polyus.com': 1, 'gmail.com.com.com.com': 1, 'yahoo.ru': 1, 'ynadex.ru': 1, 'baltika.com': 1, 'ydbdbd.ru': 1, 'gmail.com11': 1, 'email.com': 1, 'lennybot.me': 1, 'yandex.r': 1, 'naver.com': 1, 'colpal.com': 1, 'hjsjdfksdjfh8389.ru': 1, 'kng.beeline.ru': 1, 'mail-cart.com': 1, 'ivcgroup.com': 1, 'meel.ry': 1, 'fjlkfsljk.ru': 1, 'hybrid.ru': 1, 'ak.ru': 1, 'gmile.com': 1, 'yahoo.it': 1, 'popup.ru': 1, 'cytanet.com.cy': 1, 'ya.ryyydd': 1, 'sberbank-tele.com': 1, 'dmigom.ru': 1, 'gmail.vom': 1, 'novard.ru': 1, 'dvfu.ru': 1, 'libero.it': 1, 'hot-wifi.ru': 1, 'kist.ru': 1, 'tt.ru': 1, 'lenta.com': 1, 'domrf.ru': 1, 'orange.com': 1, 'list.tu': 1, 'legionfarm.com': 1, 'rencons.com': 1, 'skyeng.r': 1, 'edu.tatar.ru': 1, 'noaction.ru': 1, 'myttk.ru': 1, 'yahoo.co.uk': 1, 'reactive-agency.ru': 1, 'poltank.com': 1, 'ukr.net.ua': 1, 'rambker.ru': 1, 'kcc.com': 1, 'securitas.pl': 1, 'gmail.cm': 1, 'invox.ru': 1, 'tandh.ru': 1, 'shell.com': 1, 'g.mail.ru': 1, 'palfinger.com': 1, 'rabler.ru': 1, 'icloude.com': 1, 'gryazeboy.ru': 1, 'nordgold.com': 1, 'yahdec.ru': 1, 'cheb.ru': 1, 'biocad.ru': 1, 'pharmtrend.ru': 1, 'dostavista.ru': 1, 'trotsko.fastmail.fm': 1, 'yamoney.ru': 1, 'human-resource.ru': 1, 'adecco.ru': 1, 'hlebozavod9.ru12': 1, 'yaxdex.ru': 1, 'beercard.ru': 1, 'daimler.com': 1, 'wargaming.net': 1, 'leroymerlin.ru': 1, 'danone.com': 1, 'novateh.ru': 1, 'test1212122112121221212.ru': 1, 'db.com': 1, 'apo-rus.com': 1, 'adidas.com': 1, 'oilfund.az': 1, 'auchan.ru': 1, 'airliquide.com': 1, 'nordavia.ru1': 1, 'emkspb.ru': 1, 'edu.hse.ru3': 1, 'bc.com': 1, '30gmail.com': 1, 'rucontent.ru': 1, 'yandex.ru2': 1, 'gmacl.com': 1, 're.te': 1, 'sadfd.dd': 1, 'koriphey.ru': 1, 'topperfil.es': 1, 'gen.tech': 1, 'srosl.ru': 1, 'web.de': 1, 'argos-m.ru': 1, 'iclout.com': 1, 'krc.karelia.ru': 1, 'volga.rt.ru': 1, 'zvet.ru': 1, 'festial.e': 1, 'test.tests': 1, 'unity.ru': 1, 'culinaryon.com': 1, 'ural.rt.ru': 1, 'egeg.ru': 1, 'prospectacy.ru': 1, 'ts.fujitsu.com': 1, 'exkurs.ru': 1, 'askonalife.com': 1, 'pridemarketing.ru': 1, 'sdsdfdtest.ru': 1, 'itech-art.com': 1, 'vtb.ru': 1, '1768gmail.com': 1, 'isisis.ry': 1, 's1987.ru': 1, 'test.rtrtrt': 1, 'tts.ru': 1, 'mail.ru11': 1, 'hotbox.ru': 1, 'email.ru': 1, 'mali.ru': 1, 'sladis.ru': 1, 'sobiraloff.ru': 1, 'kraftmilk.com': 1, 'aplica.ru': 1, 'spatium.ru': 1, 'acslog.ru': 1, 'loud.com': 1, '10mail.org': 1, 'aviaberkut.ru': 1, 'mhshop.ru': 1, 'sktuote.ru': 1, 'modulbank.ru': 1, 'walla.co.il': 1, 'list.ru1': 1, 'test.kg': 1, 'p33.orgш': 1, 'yndex.ru': 1, 'yabloki19.ru': 1, 'sphere-ic.ru': 1, 'space307.com': 1, 'digitalizm.com': 1, 'osgrm.ru': 1, 'iprospect.ru': 1, 'kapitonov.org': 1, 'mskh.am': 1, 'carprice.ru': 1, 'retal.ru': 1, 'phoenix-llc.ru': 1, 'fizmat.kz': 1, 'gmaila.com': 1, 'вгд.ру': 1, 'erghg.ry': 1, 'ru.ibm.com': 1, 'nordavia.ru': 1, 'metaclay.com': 1, 'i-kompas.ru': 1, 'jugru.org': 1, 'ostrovok.ru': 1, 'ryy.ru': 1, 'asdasd.ru': 1, 'rr.rr': 1, 'pepsico.com': 1, 'bougakov.com': 1, 'inbow.ru': 1, 'kidzania.ru': 1, 'arview.pro': 1, 'hotmail.fr': 1, 'belugagroup.ru': 1, 'azurgames.com': 1, 'beeline.ru': 1, 'online.ua': 1, 'skyeng.com': 1, 'outliik.com': 1, 'havi.com': 1, 'mgppu.ru': 1, 'lis.ru': 1, 'erg.kz': 1, 'ub.edu': 1, 'zvezdnaya.ru': 1, 'runex.ru': 1, 'ru.knightfrank.com': 1, 'idealscorp.com': 1, 'outlook.ru': 1, 'ynade.ru': 1, 'askonalife.ru': 1, 'forafarm.ru': 1, 'divakovdance.ru': 1, 'tbenergo.ru': 1, 'tulatochmash.ru': 1, 'henkel.com': 1, 'valeria.com': 1, 'gmail.kg': 1, 'huhtamaki.com': 1, 'renol.ru': 1, 'gaimal.con': 1, 'certit.ru': 1, 'institute-bm.com': 1, 'qq.qw': 1, 'virbac.me': 1, 'priberi.ru': 1, 'redmond.company': 1, 'azan.ru': 1, 'sdfjhs.ru': 1, 'gazprom-neft.ru': 1, 'bayaderagroup.com': 1, 'imbox.ru': 1, 'pokrovskiy.me': 1, '126.com': 1, 'horsgroup.com': 1, 'outluk.ru': 1, 'lppsa.com': 1, 'gmail.cim': 1, 'yandex.tu': 1, '1mail.ru': 1, 'mail.eu': 1, 'yahoo.fr': 1, 'ancor.ru': 1, 'tn.ru': 1, '3003mail.ru': 1, 'qq.hs': 1, 'angaratech.ru': 1, 'primezone.ru': 1, 'tmnovo.ru': 1, 'compel.ru': 1, 'baranchuk.com': 1, 'helenbloom.ru': 1, 'shire.com': 1, 'gmsil.com': 1, 'tk73.ru': 1, 'skyeng1.ru': 1, 'yahoo.ro': 1, 'hiq.ru': 1, 'pirelli.com': 1, 'monopoly.su': 1, 'iclound.com': 1, 'orange.fr': 1, 'it-kurs.com': 1, 'gmli.com': 1, 'ua.fm': 1, 'growtalent.ru': 1, 'inboz.ru': 1, 'inbox.ru2': 1, 'bl.ru': 1, 'factorymarket.com': 1, 'pernod-ricard.com': 1, 'maukl.ru': 1, 'gmail.kom': 1, 'gmaik.com': 1, 'urfu.me': 1, 'ays-club.ru': 1, 'tra.ai': 1, 'dngroup.ru': 1, 'drugnevest.ru': 1, 'sm-komandor.ru': 1, 'okc11.ru': 1, '1c.com': 1, 'incotex.ru': 1, 'gnail.com': 1, 'devnull.facebook.com': 1, 'vestar.net': 1, 'ralf.ru': 1, 'avi-pro.ru': 1, 'skyeng.ry': 1, 'ru.pvmgrp.com': 1, 'yahoo.com.br': 1, 'hotmail.de': 1, 'tester.ru': 1, 'tass.ru': 1, 'test.email255': 1, 'bodnar.ru': 1, 'hotmail.es': 1, 'bbr.ru': 1, 'maii.ru': 1, 'forbes.ru': 1, 'vumk.com': 1, 'bhu.kg': 1, 'sdtfhg.ru': 1, 'picaso-3d.ru': 1, 'english-smart.ru': 1, 'bmw.com': 1, 'rjejdj.dde': 1, 'stalcom.com': 1, 'yandrx.ru': 1, 'cashwagon.com': 1, 'kzn.beeline.ru': 1, 'icloud.mail': 1, 'alpari.org': 1, 'infovizion.ru': 1, 'method-agency.ru': 1, 'br.ru': 1, '72.ru': 1, 'vyatplita.ru': 1, 'qw.rp': 1, '2009.com': 1, 'yadex.ru': 1, 'dasglobal.ru': 1, 'qmail.ru': 1, 'dial-parts.ru': 1, 'egis.ru': 1, 'test.tt': 1, 'part-iskra.org': 1, 'ezweb.ne.jp': 1, 'amrest.eu': 1, 'live.co.uk': 1, 'ikea.com': 1, 'urengoy.ru': 1, 'hotmail.it': 1, 'niiegp.ru': 1, 'wmkc.ru': 1, 'school1465.ru': 1, 'ovbport.ru': 1, 'test.qq': 1, 'kbexpert.ru': 1, 'artpaints.ru': 1, 'askona.ru': 1, 'dell.com': 1, 'yesonline.su': 1, 'goods.ru': 1, 'test.email681': 1, 'electronicalabel.ru': 1, 'sdventures.com': 1, 'ds032.com': 1, 'petrovich.ru': 1, 'kokoskeria.com': 1, '139.com': 1, 'mama.ru': 1, 'ihoo.com': 1, 'list.ruu': 1, 'klkf.ru': 1, 'fadente.es': 1, 'mjr.ru': 1, 'mail.ru0': 1, '156.com': 1, 'asap.msk.ru': 1, 'mgimo.ru': 1, 'vseinstrumenti.ru': 1, 'shaw.ca': 1, 'xandex.ru': 1, 'nissan.ru': 1, 'chumov.ru': 1, 'delvedeeper.com': 1, 'list.com': 1, 'ghsddsg.dsg': 1, 'indatalabs.com': 1, 'mail.ru123': 1, 'gmal.ru': 1, 'some.ru': 1, 'gmail.caws': 1, 'redmadrobot.com': 1, '279.ru': 1, 'knaufinsulation.com': 1, 'test.dfg': 1, 'boardriders.com': 1, 'price-media.ru': 1, 'lmail.com': 1, 'group2901.com': 1, 'iclaud.com': 1, 'parity.digital': 1, 'propellerads.net': 1, 'molodost.bz': 1, 'nail.ru': 1, 'eutelsat.com': 1, 'fgdfhgfd.ru': 1, 'ktkd.ru': 1, 'iclod.com': 1, 'dent.md': 1, 'moscow-leningradskaya.ru': 1, 'trendufa.ru': 1, 'calltouch.net': 1, 'veb-leasing.ru': 1, 'icoud.com': 1, 'school777.ru': 1, '2gmail.com': 1, 'sveza.com': 1, 'ves-media.com': 1, 'imail.ru': 1, 'ru.ey.com': 1, 'o3enzyme.com': 1, 'geropharm.com': 1, 'burgerking.ru': 1, 'meil.ru': 1, 'tdaero.ru': 1, 'interlingua.edu.ru': 1, 'globalprinting.ru': 1, 'skibinski.nsk.ru': 1, 'vichy.ru': 1, '98gmail.com': 1, 'isla.vc': 1, 'yahoo.co.jp': 1, 'facebook.com': 1, 'hansa.ru': 1, 'ottoruss.ru': 1, 'atomproekt.com': 1, 'heros3.com': 1, 'dwteam.ru': 1, 'libertyrus.ru': 1, 'azyfuy.ry': 1, 'junglejobs.ru': 1, 'mil.ru': 1, 'airastana.com': 1, 'geosplit.ru': 1, '2gis.ru': 1, 'wfff.qv': 1, 'qiwi.com': 1, 'ridzel.ru': 1, 'zimail.ru': 1, 'jdecoffee.com': 1, 'bshg.com': 1, 'afitness.ru': 1, 'fly-tech.ru': 1, 'awesta.ru': 1, 'jj.gh': 1, 'ua.ru': 1, 'russianpost.ru': 1, 'nrservice.ru': 1, 'gre.la': 1, 'yahoo.ca': 1, 'merkatorgroup.ru': 1, 'k.ru': 1, 'sogaz.ru': 1, 'rambler.com': 1, 'vingrad.ru': 1, 'ssscredit.ru': 1, 'olympus-europa.com': 1, 'unisender.com': 1, 'gymn1sam.ru': 1, 'trapezatour.md': 1, 'pochtamt.ru': 1, 'itechart-group.com': 1, 'nipt.ru': 1, 'vizart.tv': 1, 'airpush.com': 1, 'ferronordic.com': 1, 'globus.ru': 1, 'wemakefab.ru': 1, 'smartscribe.biz': 1, 'familyiv.com': 1, 'drgdfhh.ru': 1, 'effem.com': 1, 'mail.con': 1, 'pro1.ru': 1, 'zhaikmunai.kz': 1, 'im-agency.ru': 1, 'pk.ru': 1, 'maill.ru': 1, 'mmm.ru': 1, 'yandex.rux': 1, 'servier.com': 1, 'revolut.com': 1, 'maiil.ru': 1, 'vezet.ru': 1, 'fdlgkj.ruu': 1, 'dydysbbd.ru': 1, 'kharkov.ua': 1, 'ehl.ch': 1, 'il.com': 1, 'irisdigital.ru': 1, 'yanddx.ru': 1, 'gmaie.com': 1, 'gmale.com': 1, 'nationalropeways.ru': 1, 'vmani.com': 1, 'lobsterfilm.com': 1, 'wer.ru': 1, 'gotar.ru': 1, 'wp.pl': 1, 'itc-logistic.ru': 1, 'eldorado.ru': 1, 'el-com.ru': 1, 'elmi.ru': 1, 'mail2k.ru': 1, 'ge.com': 1, 'gmail.coam': 1, 'tsum.ru': 1, 'ekoniva.com': 1, 'festial.es': 1, 'yandex.ru1': 1, 'axzon.eu': 1, 'mustangtk.ru': 1, 'kru.ru': 1, 'aeroflot.ru': 1, 'maaaail.rru': 1, 'jet.msk': 1, 'slyeng.ru': 1, 'skyengo.ru': 1, 'mtglobal.ru': 1, 'surw.ru': 1, 'ser.ty': 1, 'molinator111.ru': 1, 'sch2009.net': 1, 'arbtr.legal': 1, 'mail.edu': 1, 'artox-media.ru': 1, 'alloka.ru': 1, 'fun-box.ru': 1, 'lexkeller.ru': 1, 'avrp.ru': 1, 'solgarvitamin.ru': 1, 'sdfsdf.com': 1, 'ghrh.gh': 1, 'ru.nestle.com': 1, 'corning.com': 1, 'cosmostone.ru': 1, 'googi.com': 1, 'mindbox.ru': 1, 'lge.com': 1, 'crm.st': 1, 'infosec.ru': 1, 'chelcom.ru': 1, 'loreal.com': 1, 'koskogoup.ru': 1, 'issart.com': 1, 'hotmail.gr1': 1, 'yauzacabel.ru': 1, 'tumo.org': 1, 'frtk.ru': 1, 'gm32ail.com': 1, 'lksdjfl.ru': 1, 'yasgku.org': 1, 'yangex.ru': 1, 'newmail.ru': 1, 'rusimport.ru': 1, 'id-logistics.com': 1, 'pflb.ru': 1, 'playgendary.com': 1, '74.ru': 1, 'resenergo.ru': 1, 'missionfoods.com': 1, 'polyusgold.com': 1, 'alice.it': 1, 'skyeng.co': 1, 'obi.ru': 1, 'svel.ru': 1, 'thomasint.ru': 1, 'richemont.com': 1, 'yandex,ru': 1, 'testovaya.ru': 1, 'misslo.com': 1, 'liftmarketing.ru': 1, 'poliada.pro': 1, 'bory.ru': 1, 'mailb.com': 1, 'testqwerty.com': 1, 'itup.tech': 1, 'skolkovo.ru': 1, 'iclud.com': 1, 'sovacapital.com': 1, 'roderk.ru': 1, 'sovcombank.ru': 1, 'wikrgroup.com': 1, 'therubin.ru': 1, 'dev.com': 1, 'kak.ru': 1, 'bek.ru': 1, 'gmaol.com': 1, 'uchinovoe.ru': 1, 'vkcode.ru': 1, 'pma.su': 1, 'hotmai.it': 1, 'alfa-transit.com': 1, 'tatar.ru': 1, '02gmail.ru': 1, 'papakaya.com': 1, 'smr.bcs.ru': 1, 'cushwake.com': 1, 'lika-tur.ru': 1, 'velesstroy.com': 1, 'ail.com': 1, 'devnullmail.com': 1, 'goldensim.ru': 1, 'gmail.comsa': 1, 'geops.ru': 1, 'testmail.ru': 1, 'yandeх.ru': 1, 'guerillamail.com': 1, 'perfobur.com': 1, 'kostomuksha.ru': 1, 'dataduck.com': 1, 'qq.hr': 1, 'tochka.com': 1, 'mail.fr': 1, 'konstanti.ru': 1, 'skyeng.rd': 1, 'areva.com': 1, '608gmail.com': 1, 'sibir.rt.ru': 1, 'fesco.com': 1, 'onego.ru': 1, 'litsey2.ru': 1, 'uchitelnik.ru': 1, 'beloyarka.com': 1, 'louder.ru': 1, 'email.it': 1, 'gmaii.com': 1, 'jilfond.ru': 1, 'bb.bb': 1, 'gmfdsfa3.com': 1, 'yanex.ru': 1, 'aall.ru': 1, 'mailsource.info': 1, 'ls.ru': 1, 'baskir.ru': 1, 'teux.ru': 1, '11gmail.com': 1, 'gmaill.com': 1, 'bk.during': 1, 'inbox.ru9': 1, 'emil.com': 1, 'difff.ru': 1, 'fleetcor.ru': 1, 'verra.ru': 1, 'gimail.com': 1, 'posterscope.ru': 1, 'fjskfd.ru': 1, 'fgh.ru': 1, 'morois.ru': 1, 'maiinator.com': 1, 'slb.com': 1, 'inn.ru': 1, 'accenture.com': 1, 'licey21.su': 1, 'alov.me': 1, 'tvel.ru': 1, 'uker.net': 1, 'dfgdfgdfg.ru': 1, 'qw.mi': 1, 'ovanesov.ru': 1, 'egor.im': 1, 'km.ru': 1, 'testdf.ru': 1, 'studio17.ru': 1, 'ics-it.ru': 1, 'gazzoff.net': 1, 'hhhhhaaappp.ej': 1, 'hhg.mail.ru': 1, 'yanbex.ru': 1, 'integrotechnologies.ru': 1, 'bakerhughes.com': 1, 'hitsec.ru': 1, 'vk.ru': 1, 'sale-pro.ru': 1, 'deltasolutions.ru': 1, 'radiodacha.ru': 1, 'gym1576.ru': 1, 'semrush.com': 1, 'mail1.ru': 1, 'gorkapstroy.ru': 1, 'pfz.su': 1, 'a-mega72.ru': 1, 'edinstvo-spb.ru': 1, 'dyson.com': 1, 'yahoo.de': 1, 'dasko1991.ru': 1, 'termomet.com': 1, 'fluidra.es': 1, 'painty.ru': 1, 'yendex.ru': 1, 'yundex.ru': 1, 'lantmannen.com': 1, 'mail.rua': 1, 'megafon.ru': 1, 'jami.ru': 1, 'odtrovok.ru': 1, 'pik.ru': 1, 'abp.am': 1, 'live.se': 1, 'dfsdf.df': 1, 'vyatsu.ru': 1, 'greensight.ru': 1, 'exemple.com': 1, 'icloud.co': 1, 'rosbank.ru': 1, 'svetlana-k.ru': 1, 'цппн.москва': 1, 'farma.amur.ru': 1, 'kraftheinz.com': 1, 'rarykin.ru': 1, 'uludag.edu.tr': 1, 'emotorwerks.com': 1, 'vstrade.kz': 1, 'mechanizm.io': 1, 'hot.ua': 1, 'vink.pro': 1, 'lbsnacks.ru': 1, 'kaizen.com': 1, 'oney.ru': 1, 'yopmail.com': 1, 'hurtlocker.pro': 1, 'yandax.ru': 1, 'ee.ru': 1, 'icloid.com': 1, 'vpleg.pro': 1, 'aol.com': 1, 'lknnitting.ru': 1, 'erfer.ru': 1, 'bolgoff.ru': 1, 'myfin.by': 1, 'tolyattinec.ru': 1, 'zakladka.com': 1, 'glenmarkpharma.com': 1, 'itv.ru': 1, 'bcc.ru': 1, 'shm.ru': 1, 'etotestirovanie.ru': 1, 'e-mail.co': 1, 'playrix.com': 1, 'vvv.ru': 1, 'bk.ru1': 1, 'svetburg.ru': 1, 'mikushko.com': 1, 'zeptolab.com': 1, 'toyotatt.ru': 1, 'shl.ru': 1, '8508icoud.com': 1, 'hotmail.co.uk': 1, 'mezenev.com': 1, 'turkstream.info': 1, 'evolutiongaming.com': 1, 'ronacher.eu': 1, 'studentmail.uws.ac.uk': 1, 'castorama.ru': 1, 'pachilly.com': 1, 'gail.com': 1, 'dddd.com': 1, 'gmail.vy': 1, 'hormail.com': 1, 'fjhsdjfhdsjfhds.rururu': 1, 'mailforspam.com': 1, 'r2ambler.ru': 1, 'gmsil.con': 1, 'frigoglass.com': 1, 'msil.ru': 1, 'gjkfgjk.com': 1, '89mail.ru': 1, '21vek.by': 1, 'lust.ru': 1, 'hmail.com': 1, 'hanmail.net': 1, 'jet.msk.su': 1, 'nortrans.org': 1, 'mail.ruz': 1, 'crocusgroup.ru': 1, 'ugelsh.ru': 1, 'elitacompany.ru': 1, 'premierzal.ru': 1, 'mal.ru': 1, 'alfa-bank.by': 1, 'cotyinc.com': 1, 'kinzerskiy.clinic': 1, 'g22mail.com': 1, 'digital-kick.com': 1, 'omc.ru': 1, 'studynet-group.com': 1, 'qq.ym': 1, 'skyeng89172538777.ru': 1, 'outlook.fr': 1, 'dfgdfg.rt': 1, 'jandex.ru': 1, '1blackmoon.com': 1, 'maillink.live': 1, 'icloud.con': 1, 'kz.anadoluefes.com': 1, 'unipro.energy': 1, 'urhen.com': 1, 'ruif.rurrrgg': 1, 'ickloud.com': 1, 'nrec.spb.ru': 1, 'rambler.ru2': 1, 'belkacar.ru': 1, 'ann.ru': 1, 'ru.dsv.com': 1, 'oboz.com.ua': 1, 'kg33.ru': 1, 'kpnu.edu.ua': 1, 'dachi-volga.ru': 1, 'qq.mf': 1, 'unako.com': 1, '100500miles.ru': 1, 'olegkazakov.com': 1, 'lafargeholcim.com': 1, 'hillel.ru': 1, 'fireart-d.com': 1, 'issnet.ru': 1, '095.com': 1, 'neuron.digital': 1, 'vobus.ru': 1, 'kazatomprom.kz': 1, 'olga.lv': 1, 'studentivan.ru': 1, 'ottepelart.ru': 1, 'kimep.kz': 1, 'mail.us': 1, 'flysmartavia.com': 1, 'test.test': 1, 'mail.r': 1, 'ur.rt.ru': 1, 'mayl.ru': 1, 'moldtelecom.md': 1, 'qiwi.tech': 1, 'nexign-systems.com': 1, 'int-sys.ru': 1, 'c.c': 1, 'serghj.hg': 1, 'alltel24.ru': 1, 'ehtehg.ee': 1, 'p-group.ru1': 1, 'ukr.ney': 1, 'toyota-motor.ru': 1, 'setka.io': 1, 'yahy.com': 1, 'esphere.ru': 1, 'vetmag.ru': 1, 'yande.ru': 1, 'post.ru': 1, 'e-mail.ru': 1, 'dfuhg.fu': 1, 'yahoo.pl': 1, 'sistema.ru': 1, 'dfdf.ru': 1, 'mail3tech.com': 1, 'cherkizovo.com': 1, 'ramblrer.ru': 1, 'heineken.com': 1, 'arnestcom.ru': 1, 'design.ru': 1, 'zhadanova.ru': 1, 'ggco.org': 1, 'yamal.gazprom-neft.ru': 1, 'burgaz.ru': 1, 'roche.com': 1, 'coca-cola.com': 1, 'nearmedic.ru': 1, 'toptal.com': 1, 'inboxkitten.com': 1, 'gimenei.ellink.ru': 1, 'rusfinance.ru': 1, 'nw.rt.ru': 1, 'profitero.com': 1, 'rusonyx.ru': 1, 'dk.ru': 1, 'dgcv24.cc': 1, 'the-village.ru': 1, 'comparex.ru': 1, 'mail.uk': 1, 'evmail.kom': 1, 'mtsbank.ru': 1, 'vm-72.ru': 1, 'corevalue.net': 1, '21mail.ru': 1, 'ihsm.eu': 1, 'expertsender.ru': 1, 'qw.gl': 1, 'targetcompany.ru': 1, 'monki.com': 1, 'sdvor.com': 1, 'wfaq.qdssg': 1, 'complex-spb.ru': 1, 'skyessng.ru': 1, 'maili.ru': 1, 'auxesisinfotech.com': 1, 'fgg.ru': 1, 'a2.fm': 1, 'tesddddt.ru': 1, 's1148.ru': 1, 'revealbot.com': 1, 'change.uz': 1, 't-l.ru': 1, 'maga.ru': 1, 'bk.ru222': 1, 'gvlk.pro': 1, 'slonmedia.com': 1, 'guerrillamail.com1': 1, 'puratos.com': 1, 'mamasletnn.ru': 1, 'rumbler.ru': 1, 'metok.ru': 1, 'raexpert.ru': 1, 'kb.ru': 1, 'lhg.ru': 1, 'gmail.comooopp': 1, 'gmail.ru1': 1, 'yinbox.ru': 1, 'miro.com': 1, 'snowqueen.ru': 1, 'gcorelabs.com': 1, 'gmail.соm': 1, 'conti.de': 1, 'qwerweqr.ru': 1, 'icoloud.com': 1, 'box.az': 1, 'luxtour.uz': 1, 'sberinsur.ru': 1, 'ariadatrainings.ru': 1, 'schindler.com': 1, '87rambler.ru': 1, 'lubogorod.ru': 1, 'amway.com': 1, 'rentsale.ru': 1, 'pwc.com': 1, 'virtesil1748.ru': 1, 'itool.ru': 1, 'hozleader.ru': 1, 'вк.ru': 1, 'progresi.ge': 1, 'gilsinp.ru': 1, 'primeshipping.ru': 1, 'qq.wq': 1, 'yanao.ru': 1, 'btikazan.ru': 1, 'gmqil.com': 1, 'gkl-kemerovo.ru': 1, 'tandex.ru': 1, 'meil.com': 1, 'sweet-epil.ru': 1, 'hotmail.xom': 1, 'yoola.com': 1, 'bk.com': 1, 'start.skyeng.ru': 1, 'tpphmao.ru': 1, 'gmail.com111': 1, 'gamal.com': 1, 'hackeru.com': 1, 'corplaw.pro': 1, 'tcd.ie': 1, '2004.com': 1, 'ibg.ge': 1, 'aqua-vend.ru': 1, 'fsjdkfjds.ru': 1, 'corp.kismia.com': 1, 'inbox.ru11': 1, 'yahoo.co.in': 1, 'ilarshe.ru': 1, 'kempinski.com': 1, 'playersagency.ru': 1, 'rogers.com': 1, 'medianation.ru': 1, 'mihalko.org': 1, 'brc.efko.ru': 1, 'cookie.od.ua': 1, 'gmail.c0m': 1, 'absoluttrade.ru': 1, 'nurbek.kz': 1, 'owenscorning.com': 1, 'msk.hlebprom.ru': 1, 'alkon-spb.ru': 1, 'dellin.ru': 1, 'icluod.com': 1, 'nxt.ru': 1, '8632.ru': 1, 'qq.gh': 1, 'topsoe.com': 1, 'nordigy.ru': 1, 'krka.biz': 1, 'abtassoc.com': 1, '2aevent.ru': 1, 'shaludin.ru': 1, 'power-m.ru': 1, 'sapo.pt': 1, 'yamdex.ru': 1, 'iponweb.net': 1, 'invitro.ru': 1, 'teva.ru': 1, 'lit.ru': 1, 'tadsan.com': 1, 'kpi.kz': 1, 'nestle.com': 1, 'qlean.ru': 1, 'rtlabs.ru': 1, 'hot.ee': 1, 'btes.ru': 1, 'mail2000.ru': 1, 'tesa.test': 1, 'ynduex.ru': 1, 'yandextest.by': 1, 'volkswagen-rus.ru': 1, 'adm.orel.ru': 1, 'solar-staff.com': 1, 'nagornova.ru': 1, 'prom.aero': 1, 'jjjj.ru': 1, 'chello.at': 1, 'asg.ru': 1, 'leadgid.ru': 1, 'petrotech.ru': 1, 'atomtest.com': 1, 'c.com': 1, 'trimble.com': 1, 'okhtinskaya.com': 1, 'grundfos.com': 1, 'alfarostov.ru': 1, 'kzgroup.ru': 1, 'sdfsdd4.ru': 1, 'ascit.ru': 1, 'easyten.ru': 1, 'mytona.com': 1, 'gruppa-est.ru': 1, 'ssmarty.com': 1, 'hotmail.fi': 1, 'sg-lab.ru': 1, 'fast-coin.com': 1, 'mail.rui': 1, 'skyeng89767676172538.ru': 1, 'petersmol.ru': 1, 'alpina.ru': 1, '1242.ru': 1, 'ffin.ru': 1, 'veramed.ru': 1, 'mail.tu': 1, 'alquilerventacr.com': 1, 'yahoo.com.au': 1, 'roskachestvo.gov.ru': 1, 't.ru': 1, 'toyota.ru': 1, 'live.it': 1, 'mosidea.ru': 1, 'test9.ru': 1, 'tin.it': 1, 'mt2015.com': 1, 'payu.ru': 1, 'eo.tensor.ru': 1, 'kosenko.pro': 1, 'yatest.ru': 1, 'workki.co': 1, 'prophet.com.ru': 1, 'dentro.ru': 1, 'ort.odessa.ua': 1, 'orion-express.ru': 1, 'mail.ryu': 1, 'me.co': 1, 'crmsol.ru': 1, 'utsrussia.ru': 1, 'turboread.ru': 1, 'aeroclub.ru': 1, 'skyway.kz': 1, '777gmail.com': 1, 'mail.ru\\u200b': 1, 'dgg1hh.ru': 1, 'nwytg.net': 1, 'paradise-star.com': 1, 'gam.com': 1, 'allianz.ru': 1, 'rambler-co.ru': 1, 'ng.ru': 1, 'yomail.info': 1, 'baby-club.ru': 1, '12mail.ru': 1, 'vkusnyrecept.ru': 1, 'tver-unproekt.ru': 1, 'sdfsd.ru': 1, 'tesli.com': 1, 'bc.ru': 1, 'dfdff.ru': 1, 'yandex.ru1245': 1, 'sabantuy.ru': 1, 'mohg.com': 1, 'gjkennel.com': 1, 'umail.ru': 1, 'r.r': 1, 'pfizer.com': 1, 'sgfjfgsh342shdfh234.ru': 1, 'msk.expertbank.com': 1, 'testtestsdfaftestsset.ru': 1, 'level.travel': 1, 'profcond.com': 1, 'mulobaev.ru': 1, 'de.hy': 1, 'gmail.com.ua': 1, 'sandvik.com': 1, 'dmail.com': 1, 'sereza.kom': 1, 'athens.kiev.ua': 1, 'ddd.ru': 1, 'telia.com': 1, 'airnote.ru': 1, 'proya.pro': 1, '2004qmail.com': 1, 'domain.com': 1, 'info.com': 1, 'gmail.com1111': 1, 'kk.vy': 1, 'upandup.biz': 1, 'berlin.com': 1, 'ffffff.ua': 1, 'n-mine.com': 1, 'hamza.ru': 1, 'fmlogistic.com': 1, 'sdfsdf.ru': 1, 'titititi.ti': 1, 'mail-desk.net': 1, 'mgts.ru': 1, 'barkland.ru': 1, 'moruzza.com': 1, 'myllynparas.ru': 1, 'externals.adidas.com': 1, 'globo.com': 1, 'hotmail.com1': 1, 'inviteotel.ru': 1, 'dd.dd': 1, 'konar.ru': 1, 'umail365.com': 1, 'valbrit.ru': 1, 'tmn.gazprom-neft.ru': 1, 'gail.ru': 1, 'ctp.aero': 1, 'kcell.kz': 1, 'kvant-company.ru': 1, 'inbox.eu': 1, 'beckman.com': 1, 'rtrn.ru': 1, 'lesaffre.ru': 1, 'bk.rru': 1, 'vtbforex.ru': 1, 'ya.lv': 1, 'potato-ru.com': 1, 'grlk.ru': 1, 'evgeniya-cherkasova.ru': 1, 'shoppingschool.ru': 1, 'b2broker.net': 1, 'secondcompany.nlsymbat': 1, 'goal.ru': 1, 'student.spbu.ru': 1, 'ant.click': 1, 'yandex.ru11': 1, 'may.ru': 1, 'intop.pro': 1, 'pscb.ru': 1, 'dgsdsg.gsd': 1, 'tutby.com': 1, 'valua.ry': 1, 'yahoo.com.ua': 1, 'tes2324t.ru': 1, 'naprostore.ru': 1, 'dfg.ru': 1, 'samtakoy.ru': 1, 'gradient.ru': 1, 'ro.ru2': 1, 'gpn.moscow': 1, 'sexrf.ru': 1, 'dropmail.me': 1, 'mail.kg': 1, 'depablo.ru': 1, '1gmail.ru': 1, 'socar-aqs.com': 1, 'zeelandia.ru': 1, 'narp.ru': 1, 'vd-technics.com': 1, 'tehkom-stroy.ru': 1, 'agency.kiev.ua': 1, 'test.su': 1, 'com.emaill.ru': 1, 'bssys.com': 1, 'potok.in': 1, 'gmx.at': 1, 'co-pilot.ru': 1, 'ab-bpa.ru': 1, 'medicalcase.ru': 1, 'elem.ru': 1, 'front.ru': 1, 'eandex.ru': 1, 'sjfdhjskdf.ru': 1, 'caprice-wostok.ru': 1, 'truckv.ru': 1, 'skbkontur.ru': 1, 'bankir.ru': 1, 'gou515.spb.ru': 1, 'school1454.ru': 1, 'profi.travel': 1, 'kk.zb': 1, 'as.sd': 1, 'gmali.com': 1, 'school1387.ru': 1, 'phygitalism.com': 1, '86med.ru': 1, 'qmrktng.com': 1, 'gemail.com': 1, 'ubik.ru': 1, 'ksoo.ru': 1, 'yarkotofey.ru': 1, 'vsk.ru': 1, 'sssc.ru': 1, 'mail.ruraskeinskype': 1, 'icloud.com2': 1, 'corp1.ru': 1, 'mail.list': 1, 'zodchie.ru': 1, 'uni-dubna.ru': 1, 'flobery.ru': 1, 'sdfsdfs.ru': 1, 'yeandex.ru': 1, 'wtrn.ru': 1, 'foxford.ru': 1, 'redzero.ru': 1, 'kabardin.com': 1, 'faberlic.com': 1, 'gmel.com': 1, 'email.cz': 1, 'konstantah.com': 1, 'energo74.ru': 1, 'mail.kz': 1, 'wef.wef': 1, 'nsl.cz': 1, 'sdelki.ru': 1, 'peleman.com': 1, 'stalogistic.com': 1, 'ya.by': 1, 'yanded.ru': 1, 'hozmir.com': 1, 'scentbird.com': 1, 'uestroy.ru': 1, 'test.er': 1, 'satissoft.ru': 1, '1guerrillamail.com': 1, 'sdhfshdfjks.ru': 1, 'weatherford.com': 1, 'bigmit.net': 1, '211.ru': 1, 'gmail.cam': 1, 'viay.ru': 1, 'rambler.ry': 1, 'myatom.ru': 1, 'areh.ru': 1, 'kolesa.kz': 1, 'gk-gw.ru': 1, 'ritter-sport.ru': 1, 'tokpb.ru': 1, 'asfsaf.rr': 1, 'svetal.ru': 1, 'sistersmodels.ru': 1, '2mail.ru': 1, 'domru.ru': 1, 'albvvp.ru': 1, 'sakarya.edu.tr': 1, 'pokemail.net': 1, 'nov.com': 1, 'comfy.ua': 1, 'exeplant.ru': 1, 'wifire.ru': 1, 'irinakigel.com': 1, 'shibkov.ru': 1, 'nlstar.com': 1, 'tdhlvz.ru': 1, 'uk.net': 1, 'k853.ru': 1, 'qlt.kz': 1, 'he.co': 1, 'inboks.ru': 1, 'andreystarkov.ru': 1, 'dabb.ru': 1, '10lic.ru': 1, 'live.com.pt': 1, 'valuement-group.com': 1, 'mosaicmedia.ru': 1, 'sfpo.ru': 1, 'renault.com': 1, 'akveo.com': 1, 'dmitrov.me': 1, 'onetwotrip.com': 1, 'pik-industry.ru': 1, 'hh.ru': 1, 'cbscao.ru': 1, 'eos2mail.com': 1, 'meat.comp.ru': 1, 'ramblet.ru': 1, 'mosgortur.ru': 1, '1511.ru': 1, 'sent.com': 1, 'unal.edu.co': 1, 'mail-guru.net': 1, 'smith-nephew.com': 1, 'ae.ayeaye.ae': 1, 'ttk.ru': 1, 'kntgroup.ru': 1, 'roistat.com': 1, 'aligntech.com': 1, 'activeplatform.com': 1, 'gim-2.ru': 1, 'acdem-school.ru': 1, 'ymail.com': 1, 'kk.vp': 1, 'grgrq.la': 1, 'gmail.net': 1, 'mikhaileliseev.com': 1, '31mail.ru': 1, 'henkel.com1': 1, 'statgrad.org': 1, 'asdasdasd.yy': 1, 'evotor.ru': 1, 'customs-academy.ru': 1, 'ex.ua': 1, 'sladunitsa.ru': 1, 'supastar.ru': 1, 'akyort.com': 1, 'usmf.md': 1, 'leeching.net': 1, 'investpartners.ru': 1, 'wfaq.qqqss': 1, 'nikitatolstov.com': 1, 'mail20.ru': 1, 'mundoautoparts.com': 1, 'mdtk.ru': 1, 'gma.c': 1, 'myrambler.ru': 1, 'gmajl.com': 1, 'bi.ru': 1, 'caser.es': 1, 'live.dk': 1, 's7.ru': 1, '99list.ru': 1, 'varyaredina2003': 1, 'kellogg.com': 1, 'qq.nn': 1, 'mbnrs.ru': 1, 'g.ru': 1, 'ladela.com': 1, 'avalongroup.kz': 1, 'maxxium.com': 1, 'qw.us': 1, 'sandrasky.ru': 1, 'programos.ru': 1, 'sick.ru': 1, 'zxcv.com': 1, 'gmail.com.com': 1, 'ivinco.com': 1, 'jmail.ru': 1, 'edu.hse.ru': 1, 'gmail.c': 1, 'nes.ru': 1, 'woodn.com': 1, 'sampo.ru': 1, 'narxoz.kz': 1, 'kustlt.ru': 1, 'tashir-m.ru': 1, 'patriciagarciadeparedes.es': 1, 'gmail.come': 1, 'stiujoieria.com': 1, 'sberbank.ru': 1, 'sch17.es': 1, 'yandex.tv': 1, 'com.ru': 1, 'coral-club.com': 1, 'lenta.ru1111': 1, 'rwth-aachen.de': 1, 'hsdf.ru': 1, 'kaltschool1.ru': 1, 'romashova.ru': 1, 'rusgeology.ru': 1, 'epam.com': 1, 'korp.mail.ru': 1, 'gazprombank.ru': 1, 'mnogomoloka.ru': 1, 'tzmosib.ru': 1, 'emeil.ru': 1, 'rockwool.com': 1, 'tavria-rus.ru': 1, 'ru.inditex.com': 1, 'vfbs.ru': 1, 'lineate.com': 1, 'dfsdfsdf.ru': 1, 'uhrenholt.ru': 1, 'shcoolmail.ru': 1, 'gmаil.com': 1, 'originshighschool.org': 1, 'mediadepartment.ru': 1, 'ledisharm.com': 1, 'deonik.ru': 1, 'tt.tt': 1, 'qq.yn': 1, 'vafina.com': 1, 'flyani.ru': 1, 'kia.ru': 1, 'bk.ri': 1, 'zorachka.com': 1, 'nso.ru': 1, 'edutatar.ru': 1, 'rikorgames.com': 1, 'ssss.ru': 1, 'panika.org': 1, 'kmtn.ru': 1, 'akrikhin.ru': 1, 'hlebprom.ru': 1, 'orlime.ru': 1, 'ilobster.it': 1, 'levi.com': 1, 'kb-arhipov.com': 1, 'group-ib.ru': 1, 'tteesttes.ry': 1, 'msk.etm.ru': 1, 'mail-hub.info': 1, 'usb-travel.com': 1, 'gazenergocom.ru': 1, 'gmaio.com': 1, 'yakushev.eu': 1, 'gnaik.com': 1, 'yаndex.ru': 1, 'do-student.ru': 1, 'ikloud.com': 1, 'hoteljurmala.com': 1, 'kapitan33.ru': 1, 'kvidex.ru': 1, 'ram33ler.ru': 1, 'yugs.ru': 1, 'kem.etagi.com': 1, 'sdfsdfsf.ru': 1, 'email.ry': 1, 'persona.ru': 1, 'gambler.ru': 1, 'com.mail': 1, 'g.com': 1, 'vettochka.com': 1, 'fh.ru': 1, 'smbcloudtech.ru': 1, 'eqvanta.com12': 1, 'hybrid.ai': 1, 'detmir.ru': 1, 'matvienko.com.ua': 1, 'пор.сом': 1, 'bataev.ru': 1, 'dm-mart.ru': 1, 'inbox.ry': 1, 'zusik.ru': 1, 'avallac.ru': 1, 'fere.ru': 1, 'mail15.com': 1, 'volganet.ru': 1, 'ontexglobal.com': 1, 'volgo.tk': 1, 'kolomeetz.ru': 1, 'degtiareva.com': 1, 'ast.nis.edu.kz': 1, 'bns-group.ru': 1, 'next-team.ru': 1, 'nasdaqomx.am': 1, 'mailinator.ru': 1, 'uzhva.ru': 1, 'iist.ru': 1, 'mediskin.rut': 1, 'icould.com': 1, 'technotecs.ru': 1, 'amshoes.ru': 1, 'kz.mareven.com': 1, 'bgr.com': 1, 'gmail.coo': 1, 'a-i.kz': 1, 'icloude.ru': 1, '851gmail.com': 1, 'grigul.ru': 1, 'lgks.ru': 1, 'yandex.ru3': 1, '1978gmail.ru': 1, 'ma8l.ru': 1, 'msc.com': 1, 'list.ru\\t': 1, 'digital-lab.ru': 1, 'kartseva.org': 1, 'dghfgjghj.ru': 1, 'privet.com': 1, 'quick-mail.club': 1, 'mir-dit.ru': 1, 'iqoption.com': 1, 'driveback.ru': 1}\n"
          ]
        }
      ]
    },
    {
      "cell_type": "code",
      "source": [
        "unic_domain = dict()\n",
        "\n",
        "for i in domains:\n",
        "    unic_domain[i] = domains.count(i)\n",
        "    \n",
        "    \n",
        "print(list(unic_domain.items())[:5])"
      ],
      "metadata": {
        "colab": {
          "base_uri": "https://localhost:8080/"
        },
        "id": "zWT67VrhZFhC",
        "outputId": "273de904-eb1d-427e-bf4d-d96a725ae0ee"
      },
      "execution_count": 71,
      "outputs": [
        {
          "output_type": "stream",
          "name": "stdout",
          "text": [
            "[('mail.ru', 16367), ('yandex.ru', 6245), ('gmail.com', 17715), ('i-free.com', 1), ('icloud.com', 743)]\n"
          ]
        }
      ]
    },
    {
      "cell_type": "markdown",
      "metadata": {
        "id": "mArtRXQuEsPE"
      },
      "source": [
        "## EXTRA \n",
        "\n",
        "Мы приготовили еще одно задание для тех, кто не хочет останавливаться. Оно чуть сложнее, чем предыдущие, но не требует никаких дополнительных знаний.  "
      ]
    },
    {
      "cell_type": "markdown",
      "metadata": {
        "id": "m1Q4MagXExGp"
      },
      "source": [
        "### Задание 8\n",
        "А теперь попробуй найти количество вхождений каждого домена (как в задании 7) только с использованием циклов и операторов, не применяя встроенные функции и методы. "
      ]
    },
    {
      "cell_type": "code",
      "metadata": {
        "id": "dwMB32E1Ew1y"
      },
      "source": [
        "# Hint: решение может быть очень коротким, до 6 строк\n"
      ],
      "execution_count": 52,
      "outputs": []
    },
    {
      "cell_type": "markdown",
      "metadata": {
        "id": "HwrlK2bFR-0v"
      },
      "source": [
        "# 🎉🎉🎉 Поздравляем, ты великолепен! "
      ]
    }
  ]
}