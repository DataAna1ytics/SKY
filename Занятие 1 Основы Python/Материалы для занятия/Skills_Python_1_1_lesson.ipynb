{
  "nbformat": 4,
  "nbformat_minor": 0,
  "metadata": {
    "kernelspec": {
      "display_name": "Python 3",
      "language": "python",
      "name": "python3"
    },
    "language_info": {
      "codemirror_mode": {
        "name": "ipython",
        "version": 3
      },
      "file_extension": ".py",
      "mimetype": "text/x-python",
      "name": "python",
      "nbconvert_exporter": "python",
      "pygments_lexer": "ipython3",
      "version": "3.8.5"
    },
    "colab": {
      "name": "Skills_Python_1.1_lesson.ipynb",
      "provenance": []
    }
  },
  "cells": [
    {
      "cell_type": "markdown",
      "metadata": {
        "id": "g5h2-1Gv1JyO"
      },
      "source": [
        "## Jupyter Notebook: навигация\n",
        "\n",
        "Основной элемент, отличающий ноутбук Jupyter от других IDE (сред разработки) — ячейки. Они бывают двух типов:\n",
        "\n",
        "1. ячейки с кодом (code cells)\n",
        "2. ячейки с текстом (markdown cells)\n",
        "\n",
        "    \n",
        "__Ячейки можно создавать, удалять, запускать, перемещать ввер-вниз.__"
      ]
    },
    {
      "cell_type": "markdown",
      "metadata": {
        "id": "z--LM87a1JyQ"
      },
      "source": [
        "- новая ячейка — кнопка <button class='fa fa-plus icon-plus btn btn-xs btn-default'></button>   или двойное нажатие клавиши `A`\n",
        "- удалить ячейку — кнопка <button class='fa fa-cut icon-cut btn btn-xs btn-default'></button> или двойное нажатие клавиши `D`\n",
        "- перемещение ячейки — `кнопки с вертикальными стрелками`\n",
        "- запустить ячейку — кнопка <button class='fa fa-play icon-play btn btn-xs btn-default'></button> Run или `SHIFT+ENTER` "
      ]
    },
    {
      "cell_type": "code",
      "metadata": {
        "colab": {
          "base_uri": "https://localhost:8080/"
        },
        "id": "k9JR6svL1JyR",
        "outputId": "5e90f9f1-7aeb-4cd7-fcf4-9ebd5d24359e"
      },
      "source": [
        "print('Hello, World') # ячейка с кодом"
      ],
      "execution_count": null,
      "outputs": [
        {
          "output_type": "stream",
          "text": [
            "Hello, World\n"
          ],
          "name": "stdout"
        }
      ]
    },
    {
      "cell_type": "markdown",
      "metadata": {
        "id": "p0Ug8zGU1JyR"
      },
      "source": [
        "## Переменные\n",
        "\n",
        "#### 1. Переменные можно объявлять и обращаться к ним. Лежать в переменной может что угодно."
      ]
    },
    {
      "cell_type": "code",
      "metadata": {
        "colab": {
          "base_uri": "https://localhost:8080/"
        },
        "id": "lJBKDepf1JyS",
        "outputId": "10e24024-fb7e-442d-9c93-c11ea1a48dd0"
      },
      "source": [
        "print('Hello,', 'Python')"
      ],
      "execution_count": null,
      "outputs": [
        {
          "output_type": "stream",
          "text": [
            "Hello, Python\n"
          ],
          "name": "stdout"
        }
      ]
    },
    {
      "cell_type": "code",
      "metadata": {
        "id": "qiipc1vz1JyS"
      },
      "source": [
        "who = 'Mom' # объявили переменную"
      ],
      "execution_count": null,
      "outputs": []
    },
    {
      "cell_type": "code",
      "metadata": {
        "colab": {
          "base_uri": "https://localhost:8080/"
        },
        "id": "VQGNdU711JyT",
        "outputId": "bfd3301c-ede5-4f23-f0a2-9fcde09e0ac4"
      },
      "source": [
        "print ('Hello,', who) # вызов Hello, Python с использованием переменной who"
      ],
      "execution_count": null,
      "outputs": [
        {
          "output_type": "stream",
          "text": [
            "Hello, Mom\n"
          ],
          "name": "stdout"
        }
      ]
    },
    {
      "cell_type": "markdown",
      "metadata": {
        "id": "PXlDasev1JyT"
      },
      "source": [
        "#### 2. Python выполняет код построчно, слева направо. Не получится использовать переменную раньше, чем она объявлена."
      ]
    },
    {
      "cell_type": "code",
      "metadata": {
        "id": "W6Y7FXjC1JyU"
      },
      "source": [
        "this_is_ok_var = 'Нормальная переменная'\n",
        "print(this_is_ok_var)\n"
      ],
      "execution_count": null,
      "outputs": []
    },
    {
      "cell_type": "code",
      "metadata": {
        "id": "ok3oEZly1JyU"
      },
      "source": [
        "this_is_not_ok_var = 'Теперь и эта переменная существует'\n",
        "print(this_is_not_ok_var)"
      ],
      "execution_count": null,
      "outputs": []
    },
    {
      "cell_type": "markdown",
      "metadata": {
        "id": "n7Xnu6ei1JyU"
      },
      "source": [
        "#### 3. Регистр в наименовании переменных — смыслоразличителен."
      ]
    },
    {
      "cell_type": "code",
      "metadata": {
        "id": "P-djD-Q51JyV"
      },
      "source": [
        "VAR1 = 'Одна из моих первых переменных'"
      ],
      "execution_count": null,
      "outputs": []
    },
    {
      "cell_type": "code",
      "metadata": {
        "id": "PAitJGRG1JyV"
      },
      "source": [
        "print(VAR1)"
      ],
      "execution_count": null,
      "outputs": []
    },
    {
      "cell_type": "code",
      "metadata": {
        "id": "yJAKkVhm1JyV"
      },
      "source": [
        "print(var1)"
      ],
      "execution_count": null,
      "outputs": []
    },
    {
      "cell_type": "markdown",
      "metadata": {
        "id": "_HFgwGl01JyV"
      },
      "source": [
        "Как думаете, сработает ли этот код?"
      ]
    },
    {
      "cell_type": "code",
      "metadata": {
        "id": "i7MLofja1JyV"
      },
      "source": [
        "a = 1  \n",
        "b = 2  \n",
        "c = 3\n",
        "print(a, b, c)"
      ],
      "execution_count": null,
      "outputs": []
    },
    {
      "cell_type": "markdown",
      "metadata": {
        "id": "XxXN4Yci1JyW"
      },
      "source": [
        "#### 3. Правила именования переменных:\n",
        "\n",
        "- имя переменной может состоять только из букв, цифр и знака подчёркивания\n",
        "- имя не может начинаться с цифры\n",
        "- имя не может содержать специальных символов `@`, `$`, `%`\n",
        "- имя не может начинаться с пробела"
      ]
    },
    {
      "cell_type": "code",
      "metadata": {
        "id": "_xZkEYbL1JyW"
      },
      "source": [
        "a # рабочее имя переменной, хотя и не очень понятное\n",
        "\n",
        "var1 # рабочее имя переменной\n",
        "\n",
        "var-1 # нельзя так назвать переменную, потому что дефис - это минус, и это спец символ\n",
        "\n",
        "1_var # нельзя так назвать переменную, потому что переменная не должна начинаться с цифры\n",
        "\n",
        "var_1 # а вот так уже рабочее имя переменной\n",
        "\n",
        "var1&var2 # нельзя использовать специальные символы, они даже подсвечиваются, чтобы мы не забыли об этом\n",
        "\n",
        "var1_and_var2 # а вот так уже рабочее имя переменной\n"
      ],
      "execution_count": null,
      "outputs": []
    },
    {
      "cell_type": "markdown",
      "metadata": {
        "id": "EMVRbNS21JyW"
      },
      "source": [
        "## Типы данных\n",
        "\n",
        "**1. Самые главные простые типы данных.**\n",
        "\n",
        "Их главная особенность в том, что внутри значения лежит один элемент."
      ]
    },
    {
      "cell_type": "code",
      "metadata": {
        "id": "bmEnLFem1JyX"
      },
      "source": [
        "#int — целые числа\n",
        "i1 = 1\n",
        "\n",
        "#float — дробные числа — их еще называют числами с плавающей точкой\n",
        "f1 = 1.\n",
        "\n",
        "#bool — булевые данные\n",
        "b1 = True\n",
        "b2 = False\n",
        "\n",
        "#str — строки\n",
        "s1 = 'Hello'\n",
        "s2 = \"Hello\"\n",
        "s3 = \"\"\"\n",
        "Несколько\n",
        "Строк\n",
        "     \"\"\""
      ],
      "execution_count": null,
      "outputs": []
    },
    {
      "cell_type": "markdown",
      "metadata": {
        "id": "b-Q878fQ1JyX"
      },
      "source": [
        "#### 2. Многострочные строки и комментарии."
      ]
    },
    {
      "cell_type": "code",
      "metadata": {
        "id": "fQqd7iHw1JyX"
      },
      "source": [
        "multiline_text = \"\"\"Интересно, будет ли работать срока, \n",
        "если написать ее с переносом строки, но разметить как обычную однострочную строку?\"\"\"\n",
        "\n",
        "print(multiline_text)\n",
        "\n",
        "# комментарий не считывается как часть кода"
      ],
      "execution_count": null,
      "outputs": []
    },
    {
      "cell_type": "markdown",
      "metadata": {
        "id": "g2jmYqwn1JyY"
      },
      "source": [
        "#### 3. Python может подсказать, какой тип данных лежит в переменной. \n",
        "\n",
        "Например, когда мы работаем с числами, мы их обычно складываем, умножаем, рассчитываем какие-то агрегированные метрики.\n",
        "\n"
      ]
    },
    {
      "cell_type": "code",
      "metadata": {
        "id": "jR1iPcIT1JyY"
      },
      "source": [
        "number_four = '4'"
      ],
      "execution_count": null,
      "outputs": []
    },
    {
      "cell_type": "markdown",
      "metadata": {
        "id": "6kcdxoz81JyY"
      },
      "source": [
        "Но так как Python это текстовый, а не графический интерфейс, иногда непонятно, с данными какого типа мы имеем дело. \n",
        "Для проверки того, какого типа данные перед нами, существует встроенная функция `type()`.\n"
      ]
    },
    {
      "cell_type": "code",
      "metadata": {
        "id": "caNRAhST1JyY"
      },
      "source": [
        "# Функция type() определяет тип переданного ей значения. Пример на 1:\n",
        "print(type(1))\n",
        "print(type(1.))\n",
        "print(type('1'))\n",
        "print(type(True))"
      ],
      "execution_count": null,
      "outputs": []
    },
    {
      "cell_type": "code",
      "metadata": {
        "id": "KcSli6O41JyZ"
      },
      "source": [
        "print(type(number_four))"
      ],
      "execution_count": null,
      "outputs": []
    },
    {
      "cell_type": "markdown",
      "metadata": {
        "id": "ibJMQ9eJ1JyZ"
      },
      "source": [
        "#### 4. Приведение типов \n",
        "\n",
        "К счастью, в Python есть специальные ***функции***, которые приводят данные к нужному нам типу. Вот они:\n",
        "\n",
        "\n",
        " - целые числа       — `int()`\n",
        " - дробные числа     —  `float()`\n",
        " - логические флаги   —  `bool()`\n",
        " - строки             —  `str()`\n"
      ]
    },
    {
      "cell_type": "code",
      "metadata": {
        "id": "7X5PleRy1JyZ"
      },
      "source": [
        "print(type(number_four))"
      ],
      "execution_count": null,
      "outputs": []
    },
    {
      "cell_type": "code",
      "metadata": {
        "id": "yqANBaV21JyZ"
      },
      "source": [
        "print(type(int(number_four)))"
      ],
      "execution_count": null,
      "outputs": []
    },
    {
      "cell_type": "code",
      "metadata": {
        "id": "mD28_sXk1Jya"
      },
      "source": [
        "# А что будет, если попробовать превратить эту переменную в число?\n",
        "\n",
        "lets_do_this = '4'\n",
        "print(int(lets_do_this))"
      ],
      "execution_count": null,
      "outputs": []
    },
    {
      "cell_type": "markdown",
      "metadata": {
        "id": "9sKdlv8T1Jya"
      },
      "source": [
        "Функции приведения к типам используются в реальной работе достаточно часто. Мы не всегда может знать заранее, в каком формате хранятся те или иные данные. Можно столкнуться с ситуацией, когда нам нужно что-то складывать или делить, и мы думаем, что данные представлены в виде чисел, но на самом деле в переменную записаны строки."
      ]
    },
    {
      "cell_type": "markdown",
      "metadata": {
        "id": "m_i1AkY31Jya"
      },
      "source": [
        "## Арифметические операторы \n",
        "\n",
        "#### 1. Что можно делать с числами:"
      ]
    },
    {
      "cell_type": "code",
      "metadata": {
        "id": "huLahkWo1Jya"
      },
      "source": [
        "print(2+12)\n",
        "print(2*3)\n",
        "print(121%3) # остаток от деления \n",
        "print(121//3) # целочисленное деление\n",
        "print(121/3) # деление с остатком\n",
        "print(2**6) # возведение в степень"
      ],
      "execution_count": null,
      "outputs": []
    },
    {
      "cell_type": "markdown",
      "metadata": {
        "id": "nFuNFDd_1Jya"
      },
      "source": [
        "#### 2. Работают по-разному со строками и числами. Начнем с чисел.\n",
        "\n",
        "Давайте посчитаем, сколько полных недель в 8 годах, два из которых високосные"
      ]
    },
    {
      "cell_type": "code",
      "metadata": {
        "id": "DwWIcSUO1Jyb"
      },
      "source": [
        "week_counter = (2*366 + 6*365)//7\n",
        "print(week_counter)"
      ],
      "execution_count": null,
      "outputs": []
    },
    {
      "cell_type": "markdown",
      "metadata": {
        "id": "SlEqyNgo1Jyb"
      },
      "source": [
        "А теперь давайте посмотрим как узнать обратное — сколько дней остаются вне полных недельных циклов?"
      ]
    },
    {
      "cell_type": "code",
      "metadata": {
        "id": "NXKl2uQs1Jyb"
      },
      "source": [
        "days_out_of_full_weeks = (2*366 + 6*365)%7\n",
        "print(days_out_of_full_weeks)"
      ],
      "execution_count": null,
      "outputs": []
    },
    {
      "cell_type": "markdown",
      "metadata": {
        "id": "Q8dYclXD1Jyb"
      },
      "source": [
        "#### 3. А что, если нужно извлечь корень?"
      ]
    },
    {
      "cell_type": "code",
      "metadata": {
        "id": "-H-oqBHV1Jyb"
      },
      "source": [
        "sqrt_from_2 = 2**0.5\n",
        "print(sqrt_from_2)"
      ],
      "execution_count": null,
      "outputs": []
    },
    {
      "cell_type": "markdown",
      "metadata": {
        "id": "YBR2mitI1Jyc"
      },
      "source": [
        "#### 4. Арифметические операторы и строки\n",
        "\n",
        "Как вы думаете, а что будет, если сложить две следующие переменные?"
      ]
    },
    {
      "cell_type": "code",
      "metadata": {
        "id": "3CWXKWSl1Jyc"
      },
      "source": [
        "first = '3'\n",
        "second = '5'\n",
        "result = first + second\n",
        "print(result)"
      ],
      "execution_count": null,
      "outputs": []
    },
    {
      "cell_type": "code",
      "metadata": {
        "id": "gRo6KYro1Jyc"
      },
      "source": [
        "name = 'Миша'"
      ],
      "execution_count": null,
      "outputs": []
    },
    {
      "cell_type": "markdown",
      "metadata": {
        "id": "H361k41J1Jyc"
      },
      "source": [
        "Попробуем умножить нашу строку на 3. Посмотрим, что получится:"
      ]
    },
    {
      "cell_type": "code",
      "metadata": {
        "id": "BO2_eGKj1Jyc"
      },
      "source": [
        "print(name * 3)"
      ],
      "execution_count": null,
      "outputs": []
    },
    {
      "cell_type": "markdown",
      "metadata": {
        "id": "BGmcAQl91Jyc"
      },
      "source": [
        "Попробуем возвести нашу переменную `name` в третью степень."
      ]
    },
    {
      "cell_type": "code",
      "metadata": {
        "id": "N7JPcET11Jyd"
      },
      "source": [
        "print(name ** 3)"
      ],
      "execution_count": null,
      "outputs": []
    },
    {
      "cell_type": "code",
      "metadata": {
        "id": "8qnKmRPE1Jyd"
      },
      "source": [
        "surname = 'Морозов'\n",
        "\n",
        "print(name + surname)"
      ],
      "execution_count": null,
      "outputs": []
    },
    {
      "cell_type": "markdown",
      "metadata": {
        "id": "PuMEpG041Jyd"
      },
      "source": [
        "\n",
        "## Операторы сравнения\n",
        "\n",
        "#### 1. Как можно сравнивать"
      ]
    },
    {
      "cell_type": "code",
      "metadata": {
        "id": "JcRAzJEy1Jyd"
      },
      "source": [
        "a = 2\n",
        "b = 4\n",
        "\n",
        "print(a == b) # равно\n",
        "print(a != b) # не равно \n",
        "print(a > b)\n",
        "print(a < b)\n",
        "print(a >= b) \n",
        "print(a <= b)"
      ],
      "execution_count": null,
      "outputs": []
    },
    {
      "cell_type": "markdown",
      "metadata": {
        "id": "6BTlDMDj1Jyd"
      },
      "source": [
        "#### 2. Что можно сравнить, а что нельзя "
      ]
    },
    {
      "cell_type": "code",
      "metadata": {
        "id": "HrvRIomk1Jyd"
      },
      "source": [
        "10 == 10.0"
      ],
      "execution_count": null,
      "outputs": []
    },
    {
      "cell_type": "code",
      "metadata": {
        "id": "80OBRA361Jye"
      },
      "source": [
        "10 == '10'"
      ],
      "execution_count": null,
      "outputs": []
    },
    {
      "cell_type": "code",
      "metadata": {
        "id": "23RZYPn71Jye"
      },
      "source": [
        "10 >= 'Привет'"
      ],
      "execution_count": null,
      "outputs": []
    },
    {
      "cell_type": "markdown",
      "metadata": {
        "id": "0OO_HL1R1Jye"
      },
      "source": [
        "#### 3. Практическое применение операторов сравнения\n",
        "\n",
        "Вспомним, что у нас в переменной `sqrt_from_2` записано дробное число.\n",
        "\n"
      ]
    },
    {
      "cell_type": "code",
      "metadata": {
        "id": "rb-Z6VGT1Jye"
      },
      "source": [
        "print(sqrt_from_2)"
      ],
      "execution_count": null,
      "outputs": []
    },
    {
      "cell_type": "markdown",
      "metadata": {
        "id": "OEyqZ6dw1Jye"
      },
      "source": [
        "Давайте повторим функции приведения к типам и усложним задачу, использовав сразу несколько функций приведения типов последовательно."
      ]
    },
    {
      "cell_type": "code",
      "metadata": {
        "id": "nOGokDVG1Jye"
      },
      "source": [
        "to_int = int(sqrt_from_2)\n",
        "print('Значение переменной to_int: ', to_int)\n",
        "\n",
        "to_str = str(sqrt_from_2)\n",
        "print('Значение переменной to_str: ', to_str)\n",
        "\n",
        "to_int_to_str = str(int(sqrt_from_2))\n",
        "print('Значение переменной to_int_to_str: ', to_int_to_str)"
      ],
      "execution_count": null,
      "outputs": []
    },
    {
      "cell_type": "markdown",
      "metadata": {
        "id": "hvmfJO4A1Jyf"
      },
      "source": [
        "Операторы сравнения удобно использовать для того, чтобы понять, соответветсвует ли значение в переменной нашим ожиданиям.\n",
        "\n",
        "Более того, само сравнение можно записать в переменную и использовать, например, для создания алертов, которые выводят какое-то сообщение в случае, если проверка показывает тот или иной результат."
      ]
    },
    {
      "cell_type": "code",
      "metadata": {
        "id": "yUC3Ljqh1Jyf"
      },
      "source": [
        "compare_to_var = to_str == to_int_to_str # положили в переменную разультат сравнения двух переменных\n",
        "\n",
        "print(compare_to_var)"
      ],
      "execution_count": null,
      "outputs": []
    },
    {
      "cell_type": "markdown",
      "metadata": {
        "id": "UuEbtJE21Jyf"
      },
      "source": [
        "<img style='float:left' src=\"https://cdn.skyeng.ru/resources/image/skills/python/lesson1-1/25.png\"/>"
      ]
    },
    {
      "cell_type": "markdown",
      "metadata": {
        "id": "TkKAErEu1Jyf"
      },
      "source": [
        "## Операторы присваивания\n",
        "\n",
        "<img style='float:left' src=\"https://res.cloudinary.com/djcwxgbfz/image/upload/v1611402764/skills/30.png\" width=\"500\"/> "
      ]
    },
    {
      "cell_type": "markdown",
      "metadata": {
        "id": "H8PONrX21Jyf"
      },
      "source": [
        "С самым распространенным оператором присваивания мы познакомились еще в самом начале лекции. \n",
        "\n",
        "Это оператор __`=`__\n",
        "\n",
        "Однако, это не единственный оператор присваивания, с которыми вы будете встречаться. Разберем, как работают остальные.\n"
      ]
    },
    {
      "cell_type": "code",
      "metadata": {
        "id": "4oPRg6tW1Jyf"
      },
      "source": [
        "# иногда нам регулярно нужно добавлять какие-то значения в одну переменную\n",
        "\n",
        "# например, количество учеников у учителя в Skyeng постоянно меняется, а мы хотим отслеживать актуальную нагрузку\n",
        "\n",
        "teacher_1 = 3\n",
        "print(teacher_1)\n",
        "teacher_1 = teacher_1 + 3\n",
        "print(teacher_1)\n",
        "\n",
        "# тот же результат даст оператор присваивания\n",
        "teacher_1 = 3\n",
        "print(teacher_1)\n",
        "teacher_1 += 3\n",
        "print(teacher_1)"
      ],
      "execution_count": null,
      "outputs": []
    },
    {
      "cell_type": "markdown",
      "metadata": {
        "id": "AMPFPWNA1Jyg"
      },
      "source": [
        "Операторы присваивания всегда переписывают то, что находится в переменной. Старое значение при использовании любого из операторов присваивания стирается.\n",
        "При работе с данными нам часто нужно сохранять значения, создавать что-то типа локальных копий.\n",
        "\n",
        "Запись в переменную значения другой переменной в Python — это нечто вроде создания \"бекапа\". Посмотрим, как это работает:\n"
      ]
    },
    {
      "cell_type": "code",
      "metadata": {
        "id": "Z7lpNz-i1Jyg"
      },
      "source": [
        "# динамика количества учеников у преподавателя в мае\n",
        "\n",
        "teacher_1 = 3\n",
        "teacher_1 +=2\n",
        "teacher_1 +=-1\n",
        "teacher_1_may = teacher_1 # присвоим в новую переменную количество учеников teacher_1\n",
        "\n",
        "print(teacher_1_may == teacher_1) # проверим, что значения равны"
      ],
      "execution_count": null,
      "outputs": []
    },
    {
      "cell_type": "code",
      "metadata": {
        "id": "mp8MyHWU1Jyg"
      },
      "source": [
        "# динамика количества учеников у преподавателя в июне\n",
        "teacher_1 +=2 \n",
        "teacher_1 -=4\n",
        "\n",
        "print(teacher_1) \n",
        "print(teacher_1_may) "
      ],
      "execution_count": null,
      "outputs": []
    },
    {
      "cell_type": "markdown",
      "metadata": {
        "id": "20_5HI0g1Jyg"
      },
      "source": [
        "<body>\n",
        "  <div style=\"padding: 24px; background-color: #ff7775; border-radius: 24px\">\n",
        "    <img\n",
        "      style=\"width: 56px; height: 56px; float: left\"\n",
        "      src=\"data:image/png;base64,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\"\n",
        "    />\n",
        "    <div\n",
        "      style=\"\n",
        "        font-size: 14px;\n",
        "        line-height: 26px;\n",
        "        font-family: Arial;\n",
        "        color: white;\n",
        "        margin-left: 84px;\n",
        "      \"\n",
        "    >\n",
        "      Запомним. Операторы присваивания всегда переписывают значение переменной.\n",
        "      Если нам нужно сохранить старые значения, их можно положить в отдельную\n",
        "      переменную, но обязательно перед запуском оператора присваивания.\n",
        "    </div>\n",
        "  </div>\n",
        "</body>\n",
        "\n"
      ]
    },
    {
      "cell_type": "code",
      "metadata": {
        "id": "W4fi1tHx1Jyh"
      },
      "source": [
        "# ожидаемо, все работает и со строками\n",
        "\n",
        "str_var = 'Недописанный'\n",
        "str_var += ' текст'\n",
        "print(str_var)"
      ],
      "execution_count": null,
      "outputs": []
    },
    {
      "cell_type": "markdown",
      "metadata": {
        "id": "aA9wvnkQ1Jyh"
      },
      "source": [
        "## Методы и функции работы со строками\n"
      ]
    },
    {
      "cell_type": "markdown",
      "metadata": {
        "id": "NcRBgAFb1Jyh"
      },
      "source": [
        "<div style=\"display: flex; width: 100%; font-family: Arial\">\n",
        "<div style=\"width: 100%; margin-left: 0px\">\n",
        "  <div style=\"font-size: 20px; line-height: 30px\">Методы</div>\n",
        "\n",
        "  <div\n",
        "    style=\"\n",
        "      font-size: 14px;\n",
        "      line-height: 20px;\n",
        "      color: rgba(0, 0, 0, 0.48);\n",
        "      margin-top: 16px;\n",
        "    \"\n",
        "  >\n",
        "   Специфичные для каждого типа данных команды, которые позволяют работать с данными этого типа. Вызываются с помощью точечной нотациии. Могут принимать на вход аргументы.\n",
        "  </div>\n",
        "</div>\n",
        "\n",
        "<div style=\"width: 100%; margin-left: 24px\">\n",
        "  <div style=\"font-size: 20px; line-height: 30px\">Функции</div>\n",
        "\n",
        "  <div\n",
        "    style=\"\n",
        "      font-size: 14px;\n",
        "      line-height: 20px;\n",
        "      color: rgba(0, 0, 0, 0.48);\n",
        "      margin-top: 16px;\n",
        "    \"\n",
        "  >\n",
        "    Существуют самостоятельно, не привязаны к типу данных. Вызываются с помощью указания названия функции, и передачи в скобках аргументов.\n",
        "  </div>\n",
        "</div>\n",
        "\n",
        "<div style=\"width: 100%; margin-left: 24px\">\n",
        "  <div style=\"font-size: 20px; line-height: 30px\">Аргументы</div>\n",
        "\n",
        "  <div\n",
        "    style=\"\n",
        "      font-size: 14px;\n",
        "      line-height: 20px;\n",
        "      color: rgba(0, 0, 0, 0.48);\n",
        "      margin-top: 16px;\n",
        "    \"\n",
        "  >\n",
        "    Некоторое значение, которое передается в функцию или метод.\n",
        "  </div>\n",
        "</div>\n",
        "</div>\n"
      ]
    },
    {
      "cell_type": "markdown",
      "metadata": {
        "id": "-6bJAF8M1Jyh"
      },
      "source": [
        "#### Полный список методов работы со строками можно посмотреть [вот тут]( https://pythonworld.ru/tipy-dannyx-v-python/stroki-funkcii-i-metody-strok.html \"список методов работы со строками\")"
      ]
    },
    {
      "cell_type": "markdown",
      "metadata": {
        "id": "Wka4gMpf1Jyi"
      },
      "source": [
        "\n",
        "\n",
        "### Топ-5 методов работы со строками:\n",
        "1. Функция длины строки\n",
        "2. Методы работы с регистром\n",
        "3. Срезы\n",
        "4. Поиск по строке\n",
        "5. Подсчет частоты вхождения подстроки"
      ]
    },
    {
      "cell_type": "markdown",
      "metadata": {
        "id": "PQ1Gr2Hi1Jyi"
      },
      "source": [
        "### Функция `len ()` — длина"
      ]
    },
    {
      "cell_type": "code",
      "metadata": {
        "id": "2YtMxC8H1Jyi",
        "outputId": "521eeb96-2987-49cb-921e-428d1d707e20"
      },
      "source": [
        "print(len('А'))"
      ],
      "execution_count": null,
      "outputs": [
        {
          "output_type": "stream",
          "text": [
            "1\n"
          ],
          "name": "stdout"
        }
      ]
    },
    {
      "cell_type": "code",
      "metadata": {
        "id": "DbybE4XC1Jyj",
        "outputId": "9213789b-483c-47cd-9334-0a79172f90b4"
      },
      "source": [
        "string_var = 'Python для анализа данных. За 2 месяца научитесь с помощью Python автоматизировать и ускорять получение данных. Их исследование и представление результатов.'\n",
        "len_of_str = len(string_var)\n",
        "print(len_of_str)"
      ],
      "execution_count": null,
      "outputs": [
        {
          "output_type": "stream",
          "text": [
            "156\n"
          ],
          "name": "stdout"
        }
      ]
    },
    {
      "cell_type": "markdown",
      "metadata": {
        "id": "4YXq_vzy1Jyj"
      },
      "source": [
        "### Методы работы с регистром\n",
        "\n",
        "Практически всегда, когда мы считаем частоты, ищем упоминаемость чего-то, сверяем почты или имена пользователей, нам необходимо приводить строки к одинаковому регистру.  \n",
        "\n",
        "Это базовая операция, которую лучше проводить всегда, когда тебе нужно посчитать количественные метрики, связанные с текстом."
      ]
    },
    {
      "cell_type": "code",
      "metadata": {
        "id": "UBji4IvZ1Jyk"
      },
      "source": [
        "S = 'Еще одна строка WiTH DIFFENENT CAPItalization'"
      ],
      "execution_count": null,
      "outputs": []
    },
    {
      "cell_type": "code",
      "metadata": {
        "id": "0kQkgjkL1Jyk"
      },
      "source": [
        "print(S.upper()) # приведем все к верхнему регистру"
      ],
      "execution_count": null,
      "outputs": []
    },
    {
      "cell_type": "code",
      "metadata": {
        "id": "cGEaUN8n1Jyk"
      },
      "source": [
        "print(S.lower()) # приведем все к нижнему регистру"
      ],
      "execution_count": null,
      "outputs": []
    },
    {
      "cell_type": "code",
      "metadata": {
        "id": "z3KaTJdK1Jyk"
      },
      "source": [
        "print(S.islower()) # проверим написана ли наша строка в нижнем регистре"
      ],
      "execution_count": null,
      "outputs": []
    },
    {
      "cell_type": "code",
      "metadata": {
        "id": "ShcjMuqb1Jyk"
      },
      "source": [
        "print(S)"
      ],
      "execution_count": null,
      "outputs": []
    },
    {
      "cell_type": "code",
      "metadata": {
        "id": "bZCWLEoB1Jyl"
      },
      "source": [
        "print(S.isupper()) # проверим написана ли наша строка в верхнем регистре"
      ],
      "execution_count": null,
      "outputs": []
    },
    {
      "cell_type": "code",
      "metadata": {
        "id": "sqiY2RYk1Jyl"
      },
      "source": [
        "print(S.upper().isupper())"
      ],
      "execution_count": null,
      "outputs": []
    },
    {
      "cell_type": "markdown",
      "metadata": {
        "id": "n63V6Y_N1Jyl"
      },
      "source": [
        "### Срезы\n",
        "\n",
        "#### 1. Синтаксис\n",
        "\n",
        "`string [start:stop:step]` - берёт срез строки начиная с символа номер `start`, до символа номер `stop` (не включая его), с шагом `step`. \n",
        "\n",
        "По умолчанию: \n",
        "- `start = 0`, \n",
        "- `stop = длина объекта`, \n",
        "- `step = 1`. \n",
        "\n",
        "Так как у нас есть значения параметров «по-умолчанию», любой из параметров можно опустить."
      ]
    },
    {
      "cell_type": "code",
      "metadata": {
        "id": "gr9SiaAc1Jyl",
        "outputId": "9d1a6c77-52f4-4d1f-dbd7-c0383e1e74ce",
        "colab": {
          "base_uri": "https://localhost:8080/",
          "height": 164
        }
      },
      "source": [
        "print(string_var) # выведем строку, чтобы она была у нас перед глазами"
      ],
      "execution_count": null,
      "outputs": [
        {
          "output_type": "error",
          "ename": "NameError",
          "evalue": "ignored",
          "traceback": [
            "\u001b[0;31m---------------------------------------------------------------------------\u001b[0m",
            "\u001b[0;31mNameError\u001b[0m                                 Traceback (most recent call last)",
            "\u001b[0;32m<ipython-input-1-1fa3a840bd34>\u001b[0m in \u001b[0;36m<module>\u001b[0;34m()\u001b[0m\n\u001b[0;32m----> 1\u001b[0;31m \u001b[0mprint\u001b[0m\u001b[0;34m(\u001b[0m\u001b[0mstring_var\u001b[0m\u001b[0;34m)\u001b[0m \u001b[0;31m# выведем строку, чтобы она была у нас перед глазами\u001b[0m\u001b[0;34m\u001b[0m\u001b[0;34m\u001b[0m\u001b[0m\n\u001b[0m",
            "\u001b[0;31mNameError\u001b[0m: name 'string_var' is not defined"
          ]
        }
      ]
    },
    {
      "cell_type": "code",
      "metadata": {
        "id": "o-2TskGT1Jyl"
      },
      "source": [
        "print(string_var[0]) # выведем первый элемент строки"
      ],
      "execution_count": null,
      "outputs": []
    },
    {
      "cell_type": "code",
      "metadata": {
        "id": "yx4jo4CK1Jym"
      },
      "source": [
        "print(string_var[1]) # выведем второй элемент строки"
      ],
      "execution_count": null,
      "outputs": []
    },
    {
      "cell_type": "code",
      "metadata": {
        "id": "pAhuNVld1Jym"
      },
      "source": [
        "print(string_var[155]) # выведем последний (или первый с конца) элемент строки"
      ],
      "execution_count": null,
      "outputs": []
    },
    {
      "cell_type": "code",
      "metadata": {
        "id": "wjWDItzF1Jym"
      },
      "source": [
        "# или то же самое\n",
        "\n",
        "print(string_var[-1]) "
      ],
      "execution_count": null,
      "outputs": []
    },
    {
      "cell_type": "markdown",
      "metadata": {
        "id": "BOtcexfM1Jym"
      },
      "source": [
        "Срезы отлично подходят для того, чтобы забрать из строки какую-то её часть, или, как говорят разработчики, подстроку"
      ]
    },
    {
      "cell_type": "code",
      "metadata": {
        "id": "PkTc2KMV1Jyn"
      },
      "source": [
        "print(string_var[0:6])"
      ],
      "execution_count": null,
      "outputs": []
    },
    {
      "cell_type": "markdown",
      "metadata": {
        "id": "rDsh9I5d1Jyn"
      },
      "source": [
        "#### 2. Срезы, как и все в Python, прекрасно работают с переменными. Вы можете передать в срез не число, а значение переменной."
      ]
    },
    {
      "cell_type": "code",
      "metadata": {
        "id": "dJcJK6EO1Jyn",
        "outputId": "160a340e-0157-46cf-bf80-5a36a7206da3",
        "colab": {
          "base_uri": "https://localhost:8080/",
          "height": 181
        }
      },
      "source": [
        "one = 1\n",
        "print(string_var[one])"
      ],
      "execution_count": null,
      "outputs": [
        {
          "output_type": "error",
          "ename": "NameError",
          "evalue": "ignored",
          "traceback": [
            "\u001b[0;31m---------------------------------------------------------------------------\u001b[0m",
            "\u001b[0;31mNameError\u001b[0m                                 Traceback (most recent call last)",
            "\u001b[0;32m<ipython-input-2-dfc27cc88958>\u001b[0m in \u001b[0;36m<module>\u001b[0;34m()\u001b[0m\n\u001b[1;32m      1\u001b[0m \u001b[0mone\u001b[0m \u001b[0;34m=\u001b[0m \u001b[0;36m1\u001b[0m\u001b[0;34m\u001b[0m\u001b[0;34m\u001b[0m\u001b[0m\n\u001b[0;32m----> 2\u001b[0;31m \u001b[0mprint\u001b[0m\u001b[0;34m(\u001b[0m\u001b[0mstring_var\u001b[0m\u001b[0;34m[\u001b[0m\u001b[0mone\u001b[0m\u001b[0;34m]\u001b[0m\u001b[0;34m)\u001b[0m\u001b[0;34m\u001b[0m\u001b[0;34m\u001b[0m\u001b[0m\n\u001b[0m",
            "\u001b[0;31mNameError\u001b[0m: name 'string_var' is not defined"
          ]
        }
      ]
    },
    {
      "cell_type": "markdown",
      "metadata": {
        "id": "6KATMvWW1Jyn"
      },
      "source": [
        "Вспомним, что в переменной `len_of_str`  лежит длина нашей строки, и используем её, чтобы вывести строку без 10 последних символов"
      ]
    },
    {
      "cell_type": "code",
      "metadata": {
        "id": "iicw2Nga1Jyn",
        "outputId": "671821db-fc7e-4086-b4d5-dba7cd0a5925",
        "colab": {
          "base_uri": "https://localhost:8080/",
          "height": 164
        }
      },
      "source": [
        "print(string_var[0:len_of_str-10]) # выведет строку без последних 10 символов с помощью отрицательного индекса среза"
      ],
      "execution_count": null,
      "outputs": [
        {
          "output_type": "error",
          "ename": "NameError",
          "evalue": "ignored",
          "traceback": [
            "\u001b[0;31m---------------------------------------------------------------------------\u001b[0m",
            "\u001b[0;31mNameError\u001b[0m                                 Traceback (most recent call last)",
            "\u001b[0;32m<ipython-input-3-c6768a2a2009>\u001b[0m in \u001b[0;36m<module>\u001b[0;34m()\u001b[0m\n\u001b[0;32m----> 1\u001b[0;31m \u001b[0mprint\u001b[0m\u001b[0;34m(\u001b[0m\u001b[0mstring_var\u001b[0m\u001b[0;34m[\u001b[0m\u001b[0;36m0\u001b[0m\u001b[0;34m:\u001b[0m\u001b[0mlen_of_str\u001b[0m\u001b[0;34m-\u001b[0m\u001b[0;36m10\u001b[0m\u001b[0;34m]\u001b[0m\u001b[0;34m)\u001b[0m \u001b[0;31m# выведет строку без последних 10 символов с помощью отрицательного индекса среза\u001b[0m\u001b[0;34m\u001b[0m\u001b[0;34m\u001b[0m\u001b[0m\n\u001b[0m",
            "\u001b[0;31mNameError\u001b[0m: name 'string_var' is not defined"
          ]
        }
      ]
    },
    {
      "cell_type": "code",
      "metadata": {
        "id": "CWmo6gsZ1Jyn"
      },
      "source": [
        "print(string_var[0:-10]) # выведет строку без последних 10 символов с помощью отрицательного индекса среза"
      ],
      "execution_count": null,
      "outputs": []
    },
    {
      "cell_type": "code",
      "metadata": {
        "id": "h7NrSZ5t1Jyo"
      },
      "source": [
        "print(string_var[0:-10:2])"
      ],
      "execution_count": null,
      "outputs": []
    },
    {
      "cell_type": "markdown",
      "metadata": {
        "id": "nvpNNWxF1Jyo"
      },
      "source": [
        "### Поиск `find()`\n",
        "\n",
        "#### 1. Срезы идеально подходят для выделения нужной информации из неструктурированного текста. \n",
        "\n",
        "Поиск имейлов, ключевых слов в скобках или кавычках, интернет-адресов, идущих подряд чисел. Все это отлично реализуется через срезы.\n",
        "\n",
        "Поиск — главный помощник срезов. В паре они работают идеально."
      ]
    },
    {
      "cell_type": "code",
      "metadata": {
        "id": "lV7Wn3jW1Jyo"
      },
      "source": [
        "dot_index = string_var.find('.', 0) # найдем индекс первой точки в нашей строке\n",
        "second_dot = string_var.find('.', dot_index+1) # найдем вторую точку, зная где расположена первая\n",
        "print(dot_index)\n",
        "print(second_dot)"
      ],
      "execution_count": null,
      "outputs": []
    },
    {
      "cell_type": "code",
      "metadata": {
        "id": "1v5fYZqz1Jyo"
      },
      "source": [
        "print(string_var[0:dot_index]) # выведем с помощью срезов первое предложение нашей строки"
      ],
      "execution_count": null,
      "outputs": []
    },
    {
      "cell_type": "code",
      "metadata": {
        "id": "gkwNPkW_1Jyo"
      },
      "source": [
        "print(string_var[dot_index+1:second_dot]) # выведем с помощью срезов второе предложение нашей строки"
      ],
      "execution_count": null,
      "outputs": []
    },
    {
      "cell_type": "markdown",
      "metadata": {
        "id": "OCmHTBhZ1Jyo"
      },
      "source": [
        "#### 2. `rfind()`"
      ]
    },
    {
      "cell_type": "markdown",
      "metadata": {
        "id": "pQIylfaz1Jyo"
      },
      "source": [
        "У `find()` есть дружественный метод `rfind()`, который ищет то же первое вхождение, но не с начала строки, а с конца."
      ]
    },
    {
      "cell_type": "code",
      "metadata": {
        "id": "hDGTRi8H1Jyp"
      },
      "source": [
        "print(string_var.rfind('.',0))"
      ],
      "execution_count": null,
      "outputs": []
    },
    {
      "cell_type": "markdown",
      "metadata": {
        "id": "plFOQayg1Jyp"
      },
      "source": [
        "### Подсчет количества вхождений `count( )`\n",
        "\n",
        "С помощью этого метода можно посчитать, как часто всречается подстрока в исследуемой строке. Например, нам нужно понять, сколько в принципе предложений в нашей строке или сколько слов."
      ]
    },
    {
      "cell_type": "code",
      "metadata": {
        "id": "NCr6nkmW1Jyp"
      },
      "source": [
        "print(string_var)"
      ],
      "execution_count": null,
      "outputs": []
    },
    {
      "cell_type": "code",
      "metadata": {
        "id": "VofoUT-E1Jyp"
      },
      "source": [
        "print(string_var.count('.')) # предположим, что после каждого предложения стоит точка"
      ],
      "execution_count": null,
      "outputs": []
    },
    {
      "cell_type": "code",
      "metadata": {
        "id": "CqR8Y_fr1Jyp"
      },
      "source": [
        "print(string_var.count(' ')) # количество слов примерно равно количеству пробелов"
      ],
      "execution_count": null,
      "outputs": []
    },
    {
      "cell_type": "markdown",
      "metadata": {
        "id": "9oyFybr81Jyp"
      },
      "source": [
        "### Работа с файлами на минималках"
      ]
    },
    {
      "cell_type": "markdown",
      "metadata": {
        "id": "PfgjCkro1Jyp"
      },
      "source": [
        "Python позволяет открывать и читать документы прямо из кода.\n",
        "\n",
        "Проще всего в Python открываются текстовые файлы. При этом в них могут быть:\n",
        "- как просто тексты\n",
        "- так и, например, SQL-скрипты\n",
        "- или код на том же Python, который в дальнейшем может быть извлечен из текста и использован далее уже как выполняемый код."
      ]
    },
    {
      "cell_type": "markdown",
      "metadata": {
        "id": "Q259-eCQ1Jyq"
      },
      "source": [
        "#### 1. Откроем модуль, в котором в переменную `war_and_peace_in_str` записана \"Война и мир\".\n",
        "\n",
        "Присваиваем ей имя `war_and_peace`."
      ]
    },
    {
      "cell_type": "code",
      "source": [
        "from war_and_peace_module import war_and_peace_in_str as war_and_peace"
      ],
      "metadata": {
        "id": "LtIseQ6xa9nm"
      },
      "execution_count": null,
      "outputs": []
    },
    {
      "cell_type": "code",
      "metadata": {
        "id": "a6m_EUOV1Jyq"
      },
      "source": [
        "print(war_and_peace[:1000])"
      ],
      "execution_count": null,
      "outputs": []
    },
    {
      "cell_type": "markdown",
      "metadata": {
        "id": "JeNIMTx01Jyq"
      },
      "source": [
        "#### 2. Посчитаем сколько символов в нашей книге."
      ]
    },
    {
      "cell_type": "code",
      "metadata": {
        "id": "AyxdEnQC1Jyq"
      },
      "source": [
        "len(war_and_peace) "
      ],
      "execution_count": null,
      "outputs": []
    },
    {
      "cell_type": "markdown",
      "metadata": {
        "id": "mxaub40u1Jyq"
      },
      "source": [
        "#### 3. Поищем сколько в книге пробелов, чтобы понять, сколько примерно в ней слов."
      ]
    },
    {
      "cell_type": "code",
      "metadata": {
        "id": "ctpU5tuX1Jyq"
      },
      "source": [
        "whitespace = ' '\n",
        "war_and_peace.count(whitespace) "
      ],
      "execution_count": null,
      "outputs": []
    },
    {
      "cell_type": "markdown",
      "metadata": {
        "id": "MO2DPJJ71Jyr"
      },
      "source": [
        "#### 4. Как Толстой чаще называл Курагина: Курагин или Анатоль?"
      ]
    },
    {
      "cell_type": "code",
      "metadata": {
        "id": "h9rHO1Cn1Jyr"
      },
      "source": [
        "war_and_peace.lower().count('курагин') "
      ],
      "execution_count": null,
      "outputs": []
    },
    {
      "cell_type": "code",
      "metadata": {
        "id": "_Yb_b41M1Jyr"
      },
      "source": [
        "war_and_peace.lower().count('анатоль')"
      ],
      "execution_count": null,
      "outputs": []
    },
    {
      "cell_type": "markdown",
      "metadata": {
        "id": "RmaRK0nm1Jyr"
      },
      "source": [
        "#### 5. А кого чаще упоминают в книге: Болконского или Безухова?"
      ]
    },
    {
      "cell_type": "code",
      "metadata": {
        "id": "5un8x6n31Jyr"
      },
      "source": [
        "war_and_peace.lower().count('болконск') > war_and_peace.lower().count('безухов') "
      ],
      "execution_count": null,
      "outputs": []
    },
    {
      "cell_type": "code",
      "metadata": {
        "id": "RZtCRq4U1Jyr"
      },
      "source": [
        "#Вспомним, что в Войне и Мир как минимум 2 Болконских\n",
        "war_and_peace.lower().count('болконск')/2 > war_and_peace.lower().count('безухов')"
      ],
      "execution_count": null,
      "outputs": []
    },
    {
      "cell_type": "markdown",
      "metadata": {
        "id": "RxiWY2Nq1Jys"
      },
      "source": [
        "#### 6. Кого чаще упоминают в **первой части** Войны и Мира: Пьера или Наташу?\n",
        "\n",
        "Подсказка: вторая часть начинается с фразы \"ЧАСТЬ ВТОРАЯ\"\n",
        "\n",
        "Как это выяснить?\n",
        "\n",
        "1. С помощью `find()` находим индекс начала второй части, предварительно опустив регистр, чтобы точно не ошибиться с ним\n",
        "2. С помощью среза обращаемся только к данным первой части `[0:индекс начала второй части]`\n",
        "3. С помощью `count()` считаем количество наташ и пьеров **в первой части** и сравниваем их, как мы уже делали это в предыдущих ячейках"
      ]
    },
    {
      "cell_type": "code",
      "metadata": {
        "id": "y4gRrOj41Jys"
      },
      "source": [
        "second_part_index = war_and_peace.upper().find('ЧАСТЬ ВТОРАЯ')\n",
        "lower_first_part = war_and_peace[0:second_part_index].lower()\n",
        "lower_first_part.count('наташ') > lower_first_part.count('пьер')"
      ],
      "execution_count": null,
      "outputs": []
    },
    {
      "cell_type": "markdown",
      "metadata": {
        "id": "Us3y5X2A1Jys"
      },
      "source": [
        "<body>\n",
        "  <div\n",
        "    style=\"\n",
        "      padding-top: 298px;\n",
        "      padding-bottom: 298px;\n",
        "      background-color: black;\n",
        "      border-radius: 24px;\n",
        "    \"\n",
        "  >\n",
        "    <div style=\"text-align: center\">\n",
        "      <div\n",
        "        style=\"\n",
        "          font-size: 72px;\n",
        "          line-height: 80px;\n",
        "          font-family: Arial;\n",
        "          color: white;\n",
        "        \"\n",
        "      >\n",
        "        Спасибо за внимание\n",
        "      </div>\n",
        "    </div>\n",
        "  </div>\n",
        "</body>\n"
      ]
    }
  ]
}