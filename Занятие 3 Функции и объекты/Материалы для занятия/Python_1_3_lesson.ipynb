{
  "nbformat": 4,
  "nbformat_minor": 0,
  "metadata": {
    "kernelspec": {
      "display_name": "Python 3",
      "language": "python",
      "name": "python3"
    },
    "language_info": {
      "codemirror_mode": {
        "name": "ipython",
        "version": 3
      },
      "file_extension": ".py",
      "mimetype": "text/x-python",
      "name": "python",
      "nbconvert_exporter": "python",
      "pygments_lexer": "ipython3",
      "version": "3.8.5"
    },
    "colab": {
      "name": "Python_1.3_lesson.ipynb",
      "provenance": []
    }
  },
  "cells": [
    {
      "cell_type": "markdown",
      "metadata": {
        "id": "BJ2UA98Xv8aP"
      },
      "source": [
        "\n",
        "\n",
        "    "
      ]
    },
    {
      "cell_type": "markdown",
      "metadata": {
        "id": "6EaEZgsdv8aT"
      },
      "source": [
        "\n",
        "    \n",
        "# Функции"
      ]
    },
    {
      "cell_type": "markdown",
      "metadata": {
        "id": "1W2FHsVav8aV"
      },
      "source": [
        "Вы уже знакомы с некоторыми встроенными в Python функциями, например:"
      ]
    },
    {
      "cell_type": "code",
      "metadata": {
        "id": "ipuzLIzgv8aV"
      },
      "source": [
        "print() # выводит на экран, переданные в нее в качестве аргументов переменные, разделенные запятой.\n",
        "len()   # подсчитывает количество элементов в итерируемом типе данных.\n",
        "int()   # приводит переданный в нее аргумент к типу \"целое число\".\n",
        "str()   # приводит переданный в нее аргумент к типу \"строка\".\n",
        "type()  # возвращает тип переданного в нее аргумента.\n",
        "round() # округляет число, принимая два аргумента 1 — число, 2 — сколько знаков после запятой оставить. "
      ],
      "execution_count": null,
      "outputs": []
    },
    {
      "cell_type": "code",
      "metadata": {
        "id": "70RfeFWwv8aW"
      },
      "source": [
        "type(round)"
      ],
      "execution_count": null,
      "outputs": []
    },
    {
      "cell_type": "code",
      "metadata": {
        "id": "J8LgxTxKv8aW"
      },
      "source": [
        "round(12.445,1) "
      ],
      "execution_count": null,
      "outputs": []
    },
    {
      "cell_type": "markdown",
      "metadata": {
        "id": "DqBdboEav8aW"
      },
      "source": [
        "#### Круто, что есть готовые функции, но в нашей работе тоже есть популярные операции, которые мы используем в каждой задаче:\n",
        "\n",
        "- достать почту из строки или домен из почты\n",
        "- проверить, какие значения в списке выше какого-то порога, и положить их в другой список\n",
        "- очистить телефон от лишних символов\n",
        "\n",
        "#### Функции позволяют упаковать часто используемый код в одно имя и быстро использовать там, где это необходимо."
      ]
    },
    {
      "cell_type": "markdown",
      "metadata": {
        "id": "pjmSEthgv8aW"
      },
      "source": [
        "\n",
        "    \n",
        "## Do not repeat yourseft"
      ]
    },
    {
      "cell_type": "markdown",
      "metadata": {
        "id": "HJpHPnccv8aX"
      },
      "source": [
        "Мы уже пользовались встроенной функцией  `len()`, чтобы определять длину строчки или количество элементов в списке.\n",
        "\n",
        "И это было легко, быстро и удобно. Если бы у нас не было функции `len()`, каждый раз, когда нам нужно было бы посчитать длину чего-то, нам приходилось писать нечто вроде вот такой конструкции:"
      ]
    },
    {
      "cell_type": "code",
      "metadata": {
        "id": "3d0NAwgUv8aX"
      },
      "source": [
        "data = 'Текст, длину которого нужно посчитать'\n",
        "len_of_data = 0\n",
        "for item in data:\n",
        "    len_of_data += 1\n",
        "\n",
        "print(len_of_data)\n",
        "print(len(data))"
      ],
      "execution_count": null,
      "outputs": []
    },
    {
      "cell_type": "markdown",
      "metadata": {
        "id": "rH6x4GSSv8aX"
      },
      "source": [
        "Функции оборачивают операции в короткие простые \"контейнеры\". Один раз определив функцию, мы получаем возможность использовать ее логику многократно, не копируя блоки кода и не повторяя себя. **Do not repeat yourself**"
      ]
    },
    {
      "cell_type": "markdown",
      "metadata": {
        "id": "N7XOFcL3v8aX"
      },
      "source": [
        "## Базовый синтаксис функций"
      ]
    },
    {
      "cell_type": "markdown",
      "metadata": {
        "id": "WFAAwDjdv8aY"
      },
      "source": [
        "<img style='float:left' src=\"https://res.cloudinary.com/djcwxgbfz/image/upload/v1606822352/skills/func.png\" width=\"700\"/>"
      ]
    },
    {
      "cell_type": "code",
      "metadata": {
        "id": "r-GY28gnv8aY"
      },
      "source": [
        "def my_function(x): \n",
        "    instuction = x*2 \n",
        "    return instuction \n",
        "\n",
        "my_function(10) # вот как это работает"
      ],
      "execution_count": null,
      "outputs": []
    },
    {
      "cell_type": "markdown",
      "metadata": {
        "id": "84GBuHcTv8aY"
      },
      "source": [
        "##  return"
      ]
    },
    {
      "cell_type": "markdown",
      "metadata": {
        "id": "Ro8Dfb40v8aY"
      },
      "source": [
        "- оператор, прерывающий выполнение функции и возвращающий то, что указано после него\n",
        "\n",
        "- удобно использовать в условных конструкциях внутри функций\n",
        "\n",
        "- все инструкции после оператра return выполняться не будут"
      ]
    },
    {
      "cell_type": "markdown",
      "metadata": {
        "id": "SGS13wC9v8aY"
      },
      "source": [
        "## Частые ошибки"
      ]
    },
    {
      "cell_type": "markdown",
      "metadata": {
        "id": "LwkW_ZXfv8aZ"
      },
      "source": [
        "<div style=\"padding: 24px; background-color: #ff7775; border-radius: 24px; display: flex; align-items: center; justify-content: flex-start;\">\n",
        "  <img\n",
        "    style=\"width: 56px; height: 56px; margin: 0;\"\n",
        "    src=\"data:image/png;base64,iVBORw0KGgoAAAANSUhEUgAAAHAAAABwCAYAAADG4PRLAAAACXBIWXMAABYlAAAWJQFJUiTwAAAAAXNSR0IArs4c6QAAAARnQU1BAACxjwv8YQUAAAadSURBVHgB7Z29UhtXFMf/ooIO0uGGNemSwjBJScZiJukyCX4CiyeweQLDE9g8AXKZuDBuE88gJinDQBGntJYioQyd6dbn7F7BallJe/dLe+6e38zxCrR40P455577eToQSBAEy3TxyDbMdc1cPXPLsrE41wnzyS7JLvh1p9O5gEA6EIARbIfsEVkXkXBVcGHslGxAovpoOI0VkETr0uUxIuGqEmwWLOaA7B2JOYAyHfY0shdkw6B5DMleknlQxqGH0iU7CeRwQraDtkMPoUd2HshlSNZD26APvRM0M0zmZRjMSchak5ggSkxeIMokXcQn264ze11ADQRRcvKSXp7AXfEYj4y98SioKdmp3AON1x3hrpPdFnyyA/LGPiqkMg9MeJ2H9uGRsSdy12MZFVGJB5rw0Vbh0vBRUdtYugeSeE/pcg4VL45Hxt2l0vuOpQpIvyBnmH3cH0hWomfy1jyj0igthJr27jmULOxTOD1ACZQiIKfNdOlBsaFPIu6iIIUFVPEKUVjEQgKqeKVQSMTcSYxpjHtQitIz+UMucgloxNuHUhbP82an1iHU9GXeQqmCHoXT1zY/YCWgGWHhTrr286qBF1tt2ozYZBbQjOfpCEv1+IhEvM5ys00byDHag1I1HqJnnYlMHmhmm4+g1Ml2lpVwMwXUmYW54SNDKM0SQjV0zgcPGULpVA803jeEMk+mhtJZArJ4HprO2V/Am1+tfgTP9oDVVQiAl/hvT3pzYgg1iYsHV1lchBC60yaCp7WBpU48KoWYOFaaKqA471v5Ao7jTVo4PMkD3fe+JTEhdMSztG/eE9DEWw+us7gEYWyYNbZjpHlgqtJKI7gXGccENP2+LqSxsoKW0E0uEk56oK4qaz5jGiUF/BltQLbHPo1/cSugaSA9KE3HiyczcQ+Uu2VYXpegKN3Ri7iAjyEV2y6BvC5EktumLhTQZJ/zOsqjfuR77MYoGx15YBeKNMImbySg3PA5Qs7sQlmEEXMh/oVolsS3a7aETueOgDa4MXsRtoML9E+7xHMLjz3QgyKVDRbQDQ9sz4B2nJZ6oDtir7GAa1CkEnqgGzuN2teNYBwSUP74Zi7cEdAGd8RebqeA7kw/Lddy3KRSHe4I2M5+oEMC2uBQwsMCZtqL7RTudDmu2ymgO1xrGyibUEAfilRCAS/RNtzxVl89UDaXHT0DRjRP2ANFFj5UQvyOWSD6PxRxdIgFcxKQeqE8Qs1G/cBTKNIYE1A9UB6h04UnNTnXDt7cAB/+pk9kPtKDB8BXX8MxHvLBsLdHbZGIfJir/CWG738H/vwjEjEOd96//wH45ls4wAWJt8kv4mOh7yCdN79EAibFY9gb+Tw1fl8+tzlLXMABJMMH3p2dzb6PBfz4EcI5Hr24FdAcaehDKjae9f43CMaPHz+ZnE6yOvK+MVxd3SUsWfjvCoIZa+qSAr6CRD59srodN5b3N4sxjcYENKMyA0ijPauyB8maEmkz8qXUtasVPnnXZov1+jqEcpj8xj0BTQMpb2Rm67vs98rsC3Lycpz85qQ1MYeQxtYWjbisZrtPpoCpkXHioediDjyPw5kodye4T5gGi/fjTxAIe9/DtDemCSi3Shl31P/5QN2Ff6NFvDwWyu3e+pcQyi4J2E97Y1bZAa7Y0oUyTyZ6HzNrXai8jNQ9tqe9OVVAk5HKS2jcoT+rlmCW4ldaN3A++IjK7vjTbpq5tN6MzhSud65Yc5ClkmemvREaSmvncFLWmURLsDYPHxYlWLUIcrOwLoJstb3M/Md7UKpi10Y8xnp/oInN2j8sn4O0wepZWIXQOBROeWJRy/SUA4u3jxzkFpAhEftIFKJQrHlN4vWQk0ICMipiIQqJxxQWkFERc1FYPKaUQw7ML6KJTXYOyxCPKe2UCtMIq4iz4YSltCpxpYTQOGYimLdsa2d/HO6k72UdIstK6QIyZsSGJ4M9KIyPDDMLeajkoB/zi/LuGR0Aj57BZhXiMZV4YBxzCgbXfvXQLnxEQ2MDVEjlR22ZmM/LAmTuu8jHyOsGqJjKPTBOC9rGAaIsc4CaqPWwu3BLcLTCimf4fbiDT/aEPtt2neLNHW4feQFxIJfzIGrj2w09hB2yk0AOJ0GsELFioIfCFZpfBc30yiHZfmBKnzaFWpMYG4LoL5xHdbjQ4bxOz+BdWrwjdtDUtq2xAsYJouy1a+wRqhOUBTs11+OsC4vmiQgB0wiiwpUeIjHXzOvlhMW5xt354L6xS3NlwXwJgiX5DOKo7GA1f2i0AAAAAElFTkSuQmCC\"\n",
        "  />\n",
        "  <div style=\"font-size: 18px; line-height: 26px; font-family: Arial; color: white; margin-left: 32px;margin-top:16px;\">\n",
        "      Нельзя вызвать функцию до ее определения\n",
        "  </div>\n",
        "</div>"
      ]
    },
    {
      "cell_type": "code",
      "metadata": {
        "id": "-DHMUsJJv8aZ"
      },
      "source": [
        "text = 'Привет как дела'\n",
        "\n",
        "def first_word(s):\n",
        "    return s[0:s.find(' ')]\n",
        "\n",
        "first_word(text)\n",
        "last_word(text)\n",
        "\n",
        "def last_word(s):\n",
        "    last_space = s.rfind(' ')+1\n",
        "    last_word = s[last_space:]\n",
        "    return last_word"
      ],
      "execution_count": null,
      "outputs": []
    },
    {
      "cell_type": "markdown",
      "metadata": {
        "id": "xXGMHA3gv8aZ"
      },
      "source": [
        "<div style=\"padding: 24px; background-color: #ff7775; border-radius: 24px; display: flex; align-items: center; justify-content: flex-start;\">\n",
        "  <img\n",
        "    style=\"width: 56px; height: 56px; margin: 0;\"\n",
        "    src=\"data:image/png;base64,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\"\n",
        "  />\n",
        "  <div style=\"font-size: 18px; line-height: 26px; font-family: Arial; color: white; margin-left: 32px;margin-top:16px;\">\n",
        "      Функция без команды return ничего не возвращает\n",
        "  </div>\n",
        "</div>"
      ]
    },
    {
      "cell_type": "markdown",
      "metadata": {
        "id": "agYcysI8v8aa"
      },
      "source": [
        "И это уже ошибка неверных ожиданий. Для некоторых функций не обязательно возвращать что-то, просто нужно помнить об этом."
      ]
    },
    {
      "cell_type": "code",
      "metadata": {
        "id": "0579ZLHiv8aa"
      },
      "source": [
        "x = 10\n",
        "\n",
        "def some_func(x):\n",
        "    x+=2\n",
        "    print(x)\n",
        "\n",
        "some_func(x)\n",
        "print(x)"
      ],
      "execution_count": null,
      "outputs": []
    },
    {
      "cell_type": "code",
      "metadata": {
        "id": "nLyJ7u2xv8aa"
      },
      "source": [
        "print(some_func(x))"
      ],
      "execution_count": null,
      "outputs": []
    },
    {
      "cell_type": "markdown",
      "metadata": {
        "id": "-mzCgTtAv8aa"
      },
      "source": [
        "### Задача\n",
        "\n",
        "Определим функцию, которая будет проверять, есть ли в переданном списке пропуски значений `None`"
      ]
    },
    {
      "cell_type": "code",
      "metadata": {
        "id": "zgLA4kyev8ab"
      },
      "source": [
        "def missing_checker(lst):\n",
        "    for i in lst:\n",
        "        if i is None:\n",
        "            return 'Есть пустые значения' # как только будет найдено первое пустое значение, функция прекратит выполняться\n",
        "    return 'Пустых значений нет'"
      ],
      "execution_count": null,
      "outputs": []
    },
    {
      "cell_type": "code",
      "metadata": {
        "id": "wGs7rHUBv8ab"
      },
      "source": [
        "some_list = [1,45,65, None, 43, 23,99]\n",
        "missing_checker(some_list)"
      ],
      "execution_count": null,
      "outputs": []
    },
    {
      "cell_type": "code",
      "metadata": {
        "id": "EW4xZqWHv8ab"
      },
      "source": [
        "# если функция не доходит до удовлетворения условия, ведущего к первому return, она пропускает и переходит к следующему\n",
        "\n",
        "some_list = [1,45,65, 43, 23,99]\n",
        "missing_checker(some_list)"
      ],
      "execution_count": null,
      "outputs": []
    },
    {
      "cell_type": "markdown",
      "metadata": {
        "id": "HceLclFEv8ab"
      },
      "source": [
        "**Напишем 3 функции, которые точно пригодятся нам в будущем:**\n",
        "\n",
        "- достает почту из строки\n",
        "- очищает от лишних символов номера телефонов\n",
        "- удаляет все значения из списка ниже определенной границы"
      ]
    },
    {
      "cell_type": "markdown",
      "metadata": {
        "id": "a1hrfYgUv8ac"
      },
      "source": [
        "Начнем с почты. На прошлом занятии мы писали код, который находит в почте e-mail. Вот он:"
      ]
    },
    {
      "cell_type": "code",
      "metadata": {
        "id": "jasYk3Zyv8ac"
      },
      "source": [
        "comment =  'клиент misha@exam.com готов к оплате'\n",
        "list_comment = comment.split(' ') # методом split() разбиваем строку\n",
        "mail = ''                         # создаем переменную, в которую мы запишем ответ\n",
        "for word in list_comment:         # пробегаем по всем элементам нашего списка\n",
        "    if word.find('@') > 0:        # если в элементе находится символ @\n",
        "        mail = word               # то записываем этот элемент в переменную mail\n",
        "\n",
        "print(mail) "
      ],
      "execution_count": null,
      "outputs": []
    },
    {
      "cell_type": "markdown",
      "metadata": {
        "id": "JdxdsUgUv8ac"
      },
      "source": [
        "Как выглядит **функция**, которая вынимает почты из строки:"
      ]
    },
    {
      "cell_type": "code",
      "metadata": {
        "id": "pW9ZTZ-uv8ac"
      },
      "source": [
        "def email_finder(string):             # определим функцию, она принимает на вход 1 аргумент — строку\n",
        "    list_of_words = string.split(' ') # разобьем то, что функция получила на вход на слова\n",
        "    for word in list_of_words:        # проитерируем список со словами\n",
        "        if word.find('@') > 0:        # если в слове есть символ @ \n",
        "            return word               # заканчиваем выполнение функции и возвращаем это слово\n",
        "    return 'Почт нет'                  # если же функция отработала до конца, и не нашла @ — возвращаем сообщение \"Почт нет\""
      ],
      "execution_count": null,
      "outputs": []
    },
    {
      "cell_type": "code",
      "metadata": {
        "id": "t3APOH0wv8ad"
      },
      "source": [
        "# запустим функцию\n",
        "\n",
        "email_finder('клиент misha@exam.com готов к оплате')"
      ],
      "execution_count": null,
      "outputs": []
    },
    {
      "cell_type": "code",
      "metadata": {
        "id": "YHShgiUUv8ad"
      },
      "source": [
        "email_finder(\"Строка без почт\")"
      ],
      "execution_count": null,
      "outputs": []
    },
    {
      "cell_type": "markdown",
      "metadata": {
        "id": "r-SidChtv8ad"
      },
      "source": [
        "Теперь у нас есть функция, которую удобно использовать, например, при переборе значений словаря"
      ]
    },
    {
      "cell_type": "code",
      "metadata": {
        "id": "Tke7aNCKv8ad"
      },
      "source": [
        "crm_info =  {\n",
        "('id:',86609):'клиент example@example.com готов к оплате',\n",
        "('id:',12588):'учение настроен позвитивно, positive_one@positiv.ru',\n",
        "('id:',19085):'only_mail@positiv.ru',\n",
        "('id:',42956):'от учебы отказался. negative@somemail.ru',\n",
        "('id:',38821):'our own app testing test@test.ru',\n",
        "('id:',47860):'повторная заявка от пользователя itsmeagail@spam.com',\n",
        "('id:',92172):''\n",
        "}\n",
        "\n",
        "for key, value in crm_info.items():\n",
        "    crm_info[key] = email_finder(value) # перезаписываем значения словаря по ключу. Кладем туда результат функции"
      ],
      "execution_count": null,
      "outputs": []
    },
    {
      "cell_type": "code",
      "metadata": {
        "scrolled": true,
        "id": "fKp-P7Cqv8ae"
      },
      "source": [
        "crm_info"
      ],
      "execution_count": null,
      "outputs": []
    },
    {
      "cell_type": "markdown",
      "metadata": {
        "id": "J7kiX-Suv8ae"
      },
      "source": [
        "### Задача \n",
        "\n",
        "Напишем код, который чистит номер телефона от всех символов, кроме цифр"
      ]
    },
    {
      "cell_type": "code",
      "metadata": {
        "id": "-xmMFf5qv8ae"
      },
      "source": [
        "phone = '+7(921)421-18-99'    # номер телефона\n",
        "clear_phone = ''              # создаем пустую строку, куда будем записывать только цифры\n",
        "for digit in phone:           # итерируем посимвольно нашу строку\n",
        "    if digit in '1234567890': # если символ из номера телефона входит в строку '1234567890'\n",
        "        clear_phone += digit  # то добавляем этот символ в строку, где только цифры\n",
        "phone = clear_phone           # переписываем значение переменной phone, пишем туда только цифры\n",
        "print(phone)"
      ],
      "execution_count": null,
      "outputs": []
    },
    {
      "cell_type": "markdown",
      "metadata": {
        "id": "vjEajWoYv8ae"
      },
      "source": [
        "Превратим код в функцию"
      ]
    },
    {
      "cell_type": "code",
      "metadata": {
        "id": "v8rz2Uw5v8ae"
      },
      "source": [
        "def phone_cleaner(tel):\n",
        "    clear_phone = ''\n",
        "    for digit in tel:\n",
        "        if digit in '1234567890':\n",
        "            clear_phone += digit\n",
        "    return clear_phone"
      ],
      "execution_count": null,
      "outputs": []
    },
    {
      "cell_type": "code",
      "metadata": {
        "id": "lJp_OHtDv8af"
      },
      "source": [
        "#проверим что функия работает\n",
        "\n",
        "phone_cleaner('+7(987)843-45-82')"
      ],
      "execution_count": null,
      "outputs": []
    },
    {
      "cell_type": "markdown",
      "metadata": {
        "id": "U7C8GtWgv8af"
      },
      "source": [
        "Используем нашу функцию для обработки списка с телефонами"
      ]
    },
    {
      "cell_type": "code",
      "metadata": {
        "id": "tSRla4ppv8af"
      },
      "source": [
        "from phones_numbers import phone_list #подключаемся к данным"
      ],
      "execution_count": null,
      "outputs": []
    },
    {
      "cell_type": "code",
      "metadata": {
        "id": "vCEzBQMzv8af"
      },
      "source": [
        "new_phone_list = []\n",
        "for phone in phone_list: \n",
        "    new_phone = phone_cleaner(phone)\n",
        "    new_phone_list.append(new_phone)"
      ],
      "execution_count": null,
      "outputs": []
    },
    {
      "cell_type": "markdown",
      "metadata": {
        "id": "RGNeb4gBv8af"
      },
      "source": [
        "### Ошибка! \n",
        "\n",
        "В нашем списке один из элементов на str, а int. \n"
      ]
    },
    {
      "cell_type": "code",
      "metadata": {
        "id": "Kxh8-BWwv8ag"
      },
      "source": [
        "phone_list"
      ],
      "execution_count": null,
      "outputs": []
    },
    {
      "cell_type": "code",
      "metadata": {
        "id": "xljWPGdYv8ag"
      },
      "source": [
        "# посмотрим, как исправляется функция\n",
        "\n",
        "def phone_cleaner(phone):           \n",
        "    clear_phone_result = ''        \n",
        "    for digit in str(phone):             \n",
        "        if digit in '1234567890':   \n",
        "             clear_phone_result += digit \n",
        "    return clear_phone_result       "
      ],
      "execution_count": null,
      "outputs": []
    },
    {
      "cell_type": "markdown",
      "metadata": {
        "id": "LuNskXqov8ag"
      },
      "source": [
        "Проверим, что на этот раз все работает"
      ]
    },
    {
      "cell_type": "code",
      "metadata": {
        "id": "JC0vbmyVv8ag"
      },
      "source": [
        "new_phone_list = []\n",
        "for phone in phone_list: \n",
        "    new_phone = phone_cleaner(phone)\n",
        "    new_phone_list.append(new_phone)\n",
        "new_phone_list"
      ],
      "execution_count": null,
      "outputs": []
    },
    {
      "cell_type": "markdown",
      "metadata": {
        "id": "4qWvFkh9v8ag"
      },
      "source": [
        "Мы разобрались, как исправлять код, превращая его в функцию, но с нуля писать функции не сложнее. Даже легче!\n",
        "\n",
        "Напишем функцию, которая принимает на вход список и возвращает другой список, в котором только значения выше определенного порога. Эта функция будет принимать два аргумента: список и пороговое число."
      ]
    },
    {
      "cell_type": "markdown",
      "metadata": {
        "id": "MQuFLrxJv8ag"
      },
      "source": [
        "### Как это сделать?\n",
        "\n",
        "1. определим функцию `list_checker` и зададим ей через запятую два аргумента `lst` и `threshold`\n",
        "\n",
        "2. создадим `new_list`, куда будем складывать новый список\n",
        "\n",
        "3. для каждого `value` в списке\n",
        "\n",
        "4. если `value > threshold`\n",
        "\n",
        "5. добавляем в `new_list` с помощью `append(value)`\n",
        "\n",
        "5. возвращаем с помощью `return` наполненный `new_list`"
      ]
    },
    {
      "cell_type": "code",
      "metadata": {
        "id": "dTcIHw50v8ag"
      },
      "source": [
        "def list_checker (lst,threshold):\n",
        "    new_list = []\n",
        "    for value in lst:\n",
        "        if value > threshold:\n",
        "            new_list.append(value)  \n",
        "    return new_list"
      ],
      "execution_count": null,
      "outputs": []
    },
    {
      "cell_type": "markdown",
      "metadata": {
        "id": "8Cd04FFVv8ah"
      },
      "source": [
        "Проверим, что наша функция работает"
      ]
    },
    {
      "cell_type": "code",
      "metadata": {
        "id": "C73co7w0v8ah"
      },
      "source": [
        "some_list = [1,54,6,34,661,393]\n",
        "\n",
        "list_checker(some_list,100) #хотим посмотреть все значения больше 100"
      ],
      "execution_count": null,
      "outputs": []
    },
    {
      "cell_type": "markdown",
      "metadata": {
        "id": "k59lFEqxv8ah"
      },
      "source": [
        "На прошлом занятии мы в цикле перебирали платежи и искали те, которые больше 8000 рублей, чтобы посчитать сумму, мы делали это вот такой конструкцией"
      ]
    },
    {
      "cell_type": "code",
      "metadata": {
        "id": "WZ6mpW1-v8ah"
      },
      "source": [
        "could_be = 0\n",
        "for i in payments:\n",
        "    if i >= 8000:\n",
        "        could_be += i\n",
        "        \n",
        "could_be"
      ],
      "execution_count": null,
      "outputs": []
    },
    {
      "cell_type": "markdown",
      "metadata": {
        "id": "1A7RR1HQv8ah"
      },
      "source": [
        "С функциями все куда проще. И, что важно, функции универсальны.\n",
        "\n",
        "Давайте подключимся к данным и посчитаем сумму покупок больше 8000 рублей, используя нашу новую функцию."
      ]
    },
    {
      "cell_type": "markdown",
      "metadata": {
        "id": "V5Y_SMPwv8ah"
      },
      "source": [
        "### Как это сделать?\n",
        "1. Подключаемся к данным \n",
        "\n",
        "2. Вызываем функцию `list_checker`\n",
        "\n",
        "3. Передем ей два аргумента (имя списка `payments`, ограничение суммы)\n",
        "\n",
        "4. Считаем сумму результата функции с помощью `sum`"
      ]
    },
    {
      "cell_type": "code",
      "metadata": {
        "id": "8uCk1mYBv8ai"
      },
      "source": [
        "from payments_module import payments_list as payments #подключаемся к данным"
      ],
      "execution_count": null,
      "outputs": []
    },
    {
      "cell_type": "code",
      "metadata": {
        "id": "x66U3d62v8ai"
      },
      "source": [
        "sum(list_checker(payments, 8000))"
      ],
      "execution_count": null,
      "outputs": []
    },
    {
      "cell_type": "markdown",
      "metadata": {
        "id": "XA3AV0_5v8ai"
      },
      "source": [
        "### Именованные и позиционные аргументы"
      ]
    },
    {
      "cell_type": "markdown",
      "metadata": {
        "id": "7Q4Im2p-v8ai"
      },
      "source": [
        "Мы научились определять функции и передавать в них сразу несколько аргументов. При этом, когда мы передаем аргументы, важно соблюдать порядок аргументов. Иначе функция будет выполнена неверно. \n",
        "\n",
        "Например, функция `list_checker` принимает на вход 2 аргумента. `lst` и `threshold`. Первым аргументом передается список, вторым — граница.\n",
        "\n",
        "Если мы попробуем вызвать функцию, передав аргументы в неправильном порядке, то получим ошибку."
      ]
    },
    {
      "cell_type": "code",
      "metadata": {
        "id": "EX1vR-ywv8ai"
      },
      "source": [
        "some_new_list = [23,2,1,90]\n",
        "border = 2\n",
        "list_checker(border,some_new_list) "
      ],
      "execution_count": null,
      "outputs": []
    },
    {
      "cell_type": "markdown",
      "metadata": {
        "id": "V8YsiNGLv8ai"
      },
      "source": [
        "Так происходит, поскольку Python ожидает, что мы будем передавать переменные именно в том порядке, в котором мы указали их при определении функции.\n",
        "\n",
        "Аргументы, которые мы передаем расставляя их в правильном порядке, называются **позиционные аргументы**. \n",
        "\n",
        "В некоторых функциях, особенно во встроенных, для обработки больших массивов данных, с которыми мы познакомимся на следующем занятии, аргументов может быть очень много. Запоминать правильный порядок аргументов сложно и неудобно. Чтобы решить эту проблему, аргументы можно передавать с помощью их имен.\n",
        "\n",
        "#### Очень удобно,  что Python выводит в ошибке код нашей функции, в котором мы можем посмотреть имена аргументов, которые нужно передать функции."
      ]
    },
    {
      "cell_type": "code",
      "metadata": {
        "id": "bIF5nuWYv8ai"
      },
      "source": [
        "list_checker(threshold=border,\n",
        "             lst=some_new_list)"
      ],
      "execution_count": null,
      "outputs": []
    },
    {
      "cell_type": "markdown",
      "metadata": {
        "id": "gghMg2Iev8aj"
      },
      "source": [
        "Мы указали, что переменную `border` нужно воспринимать как именованный аргумент `threshold`, переменную `some_new_list` — как именнованный аргумент `lst`, и функция заработала! "
      ]
    },
    {
      "cell_type": "markdown",
      "metadata": {
        "id": "cYDqAzdnv8aj"
      },
      "source": [
        "### Значения именнованных аргументов по умолчанию.\n",
        "\n",
        "Функция `round()` принимает два аргумента, но у второго есть значение по умолчанию  равное 0\n"
      ]
    },
    {
      "cell_type": "code",
      "metadata": {
        "id": "1_PyiwXHv8aj"
      },
      "source": [
        "round(12.5234234) "
      ],
      "execution_count": null,
      "outputs": []
    },
    {
      "cell_type": "markdown",
      "metadata": {
        "id": "O3WhCI_qv8aj"
      },
      "source": [
        "Определим функцию, которая возвращает последнее слово, разделяя строку по символам"
      ]
    },
    {
      "cell_type": "code",
      "metadata": {
        "id": "YTkkVl_av8aj"
      },
      "source": [
        "def last_part(text, symbol='/'): # по умолчанию, функция делит строку по /\n",
        "    splited_text = text.split(symbol)\n",
        "    last_one = splited_text[-1]\n",
        "    return last_one"
      ],
      "execution_count": null,
      "outputs": []
    },
    {
      "cell_type": "code",
      "metadata": {
        "id": "IxVDIwsrv8aj"
      },
      "source": [
        "path = 'http://localhost:8888/notebooks/Downloads/Skills'\n",
        "last_part(path)"
      ],
      "execution_count": null,
      "outputs": []
    },
    {
      "cell_type": "code",
      "metadata": {
        "scrolled": true,
        "id": "jlJvX161v8ak"
      },
      "source": [
        "last_part(path,':') # но мы можем и вручную передать аргумент"
      ],
      "execution_count": null,
      "outputs": []
    },
    {
      "cell_type": "markdown",
      "metadata": {
        "id": "tZqGco35v8ak"
      },
      "source": [
        "### Задача\n",
        "\n",
        "Мы хотим написать функцию, которая на вход принимает список цен с указанной валютой, проверяет валюту и возвращает список с ценами в рублях\n",
        "\n",
        "### Как это сделать?\n",
        "\n",
        "1. Подготовимся\n",
        "\n",
        "    - Подключимся к данным\n",
        "    - Проверим, в каком фрмате к нам пришли данные\n",
        "    - Определим словарь с курсами валют по отношению к рублю\n",
        "\n",
        "\n",
        "2. Начнем писать функцию\n",
        "\n",
        "    - Определим функцию, которая на вход получает два аргумента: список и словарь с курсами валют\n",
        "    \n",
        "    - Создадим список `prices_in_rub`, который будем наполнять сконвертированными ценами\n",
        "    \n",
        "    \n",
        "3. Напишем внутри функции цикл, который переводит все цены в рубли с помощью нашего словаря\n",
        "\n",
        "    - Пройдемся по элементам списка с ценами\n",
        "    - Определим курс валюты, обращаясь к значению из словаря по ключу, который мы возьмем из второго элемента списка с ценами\n",
        "    - Каждый элемент умножим на курс валюты, чтобы узнать его цену в рублях\n",
        "    \n",
        "    - В список `prices_in_rub` с помощью метода `append` положим новое значение\n",
        "    \n",
        "    \n",
        "4. Вернем с помощью `return` новый список"
      ]
    },
    {
      "cell_type": "markdown",
      "metadata": {
        "id": "GbaW4i8fv8ak"
      },
      "source": [
        "Пройдем поэтапно вместе эту задачу"
      ]
    },
    {
      "cell_type": "markdown",
      "metadata": {
        "id": "X_qPSJWnv8ak"
      },
      "source": [
        "### Подготовимся"
      ]
    },
    {
      "cell_type": "code",
      "metadata": {
        "id": "-OZVypvHv8ak"
      },
      "source": [
        "from prices_module import prices_in_list as prices # подключаемся к данным"
      ],
      "execution_count": null,
      "outputs": []
    },
    {
      "cell_type": "markdown",
      "metadata": {
        "id": "xX-PZpT5v8ak"
      },
      "source": [
        "Смотрим первые 10 элементов"
      ]
    },
    {
      "cell_type": "code",
      "metadata": {
        "id": "Ij65HITZv8ak"
      },
      "source": [
        "prices[:10] "
      ],
      "execution_count": null,
      "outputs": []
    },
    {
      "cell_type": "markdown",
      "metadata": {
        "id": "oG5Q0ps3v8al"
      },
      "source": [
        "Определяем словарь `rate_dict` с курсами валют по отношению к рублю"
      ]
    },
    {
      "cell_type": "code",
      "metadata": {
        "id": "fKrqIwEev8al"
      },
      "source": [
        "rate_dict =  {\n",
        "        \"GBP\": 99.432,\n",
        "        \"USD\": 76.123,\n",
        "        \"EUR\": 82.44,\n",
        "        \"RUR\": 1\n",
        "            }"
      ],
      "execution_count": null,
      "outputs": []
    },
    {
      "cell_type": "markdown",
      "metadata": {
        "id": "SpRmQKChv8al"
      },
      "source": [
        "### Начнем писать функцию"
      ]
    },
    {
      "cell_type": "code",
      "metadata": {
        "id": "9zTDLZa5v8al"
      },
      "source": [
        "def price_converter(lst,rates): # функция на вход получает список и словарь с курсами валют\n",
        "    prices_in_rub = [] # список, который будем наполнять сконвертированными ценами\n",
        "    "
      ],
      "execution_count": null,
      "outputs": []
    },
    {
      "cell_type": "markdown",
      "metadata": {
        "id": "51Gx1DZnv8al"
      },
      "source": [
        "### Напишем внутри функции цикл\n",
        "\n",
        "Он переведет все цены в рубли с помощью нашего словаря.\n",
        "\n",
        "1.  получим из словаря курс из значения, передавая в качестве ключа валюту из наших списков в `element[1]`\n",
        "2.  перемножим цену на курс валюты, в которой она выставлена\n",
        "3.  добавим цену в рублях в список `prices_in_rub`"
      ]
    },
    {
      "cell_type": "code",
      "metadata": {
        "id": "Q6OafPl8v8al"
      },
      "source": [
        "def price_converter(lst,rates): \n",
        "    prices_in_rub = [] \n",
        "    for element in lst:\n",
        "        rate_value = rates[element[1]] # достали из element[1] курс \n",
        "        this_price_in_rub = element[0]*rate_value # перемножили цену на курс валюты\n",
        "        prices_in_rub.append(this_price_in_rub) # добавили цену в рублях в список prices_in_rub"
      ],
      "execution_count": null,
      "outputs": []
    },
    {
      "cell_type": "markdown",
      "metadata": {
        "id": "SastoAbiv8al"
      },
      "source": [
        "### Вернем с помощью return новый список"
      ]
    },
    {
      "cell_type": "code",
      "metadata": {
        "id": "op7oeTkWv8am"
      },
      "source": [
        "def price_converter(lst,rates): \n",
        "    prices_in_rub = [] \n",
        "    for element in lst: \n",
        "        rate_value = rates[element[1]] \n",
        "        this_price_in_rub = element[0]*rate_value \n",
        "        prices_in_rub.append(this_price_in_rub)\n",
        "    return prices_in_rub                     "
      ],
      "execution_count": null,
      "outputs": []
    },
    {
      "cell_type": "markdown",
      "metadata": {
        "id": "Y05wqyWGv8am"
      },
      "source": [
        "### Наконец можем вызвать функцию!"
      ]
    },
    {
      "cell_type": "code",
      "metadata": {
        "id": "MTPFnV5Kv8am"
      },
      "source": [
        "price_converter(prices,rate_dict)"
      ],
      "execution_count": null,
      "outputs": []
    },
    {
      "cell_type": "markdown",
      "metadata": {
        "id": "gAYgFLxMv8am"
      },
      "source": [
        "## Области видимости"
      ]
    },
    {
      "cell_type": "markdown",
      "metadata": {
        "id": "nQ90-au7v8am"
      },
      "source": [
        " - **Глобальная область видимости**  —  весь код и все переменные, написанные **без пробелов в начале строки**. \n",
        " \n",
        " \n",
        " - **Локальная область видимости**  —  код, написанный **в теле функции**. Обратиться к переменной, созданной в локальной области видимости, можно только оттуда, в глобальной области видимости такой переменной существовать не будет\n",
        "\n",
        "\n",
        " - аргументы \"затаскивают\" переменные в локальную область видимости\n",
        " \n",
        "\n",
        " - **return** позволяет вывести что-то из локальной области видимости"
      ]
    },
    {
      "cell_type": "code",
      "metadata": {
        "id": "3Xhegmeav8am"
      },
      "source": [
        "from prices_module import prices_in_list as prices\n",
        "\n",
        "rate_dict =  {\n",
        "        \"GBP\": 99.432,\n",
        "        \"USD\": 76.123,\n",
        "        \"EUR\": 82.44,\n",
        "        \"RUR\": 1\n",
        "            }\n",
        "\n",
        "def price_converter(lst,rates): \n",
        "    prices_in_rub = [] \n",
        "    for element in lst: \n",
        "        rate_value = rate_dict[element[1]] \n",
        "        this_price_in_rub = element[0]*rate_value \n",
        "        prices_in_rub.append(this_price_in_rub) \n",
        "    return prices_in_rub        # вернем список с ценами в рублях\n",
        "\n",
        "price_converter(prices,rate_dict)"
      ],
      "execution_count": null,
      "outputs": []
    },
    {
      "cell_type": "markdown",
      "metadata": {
        "id": "WOVX6zc7v8am"
      },
      "source": [
        "Обратите внимание: переменной `prices_in_rub` в глобальной области видимости нет"
      ]
    },
    {
      "cell_type": "code",
      "metadata": {
        "scrolled": true,
        "id": "1ExMbDFXv8an"
      },
      "source": [
        "prices_in_rub"
      ],
      "execution_count": null,
      "outputs": []
    },
    {
      "cell_type": "markdown",
      "metadata": {
        "id": "Yqy1okTYv8an"
      },
      "source": [
        "# Модули\n",
        "\n",
        "\n",
        "Функции позволяют нам не копировать лишний раз код, а особенность python в том, что большое сообщество позволяет не делать с нуля целую кучу работы. Один из инструментов реиспользования готового кода — это **модули или библиотеки.**\n"
      ]
    },
    {
      "cell_type": "markdown",
      "metadata": {
        "id": "Ar0XDvLWv8an"
      },
      "source": [
        "**Стандартная библиотека** — это набор модулей, встроенных в Python."
      ]
    },
    {
      "cell_type": "markdown",
      "metadata": {
        "id": "4AlIocxlv8an"
      },
      "source": [
        "Внутри библиотеки может лежать что угодно:\n",
        "\n",
        " - функции\n",
        " - переменные (например, строки)\n",
        " - объекты\n"
      ]
    },
    {
      "cell_type": "markdown",
      "metadata": {
        "id": "lM-Da20uv8an"
      },
      "source": [
        "## Модуль / библиотека string\n",
        "\n",
        "Библиотека, в которой хранится набор строковых переменных, содержащих в себе какие-то символы. Например, в ней есть строка со всеми видами пробелов, цифр, служебных символов и т.д."
      ]
    },
    {
      "cell_type": "code",
      "metadata": {
        "id": "ki8ybfp8v8an"
      },
      "source": [
        "import string # можно импортировать всю библиотеку"
      ],
      "execution_count": null,
      "outputs": []
    },
    {
      "cell_type": "code",
      "metadata": {
        "id": "bY-lHEASv8an"
      },
      "source": [
        "help(string) # посмотрим, что она умеет"
      ],
      "execution_count": null,
      "outputs": []
    },
    {
      "cell_type": "markdown",
      "metadata": {
        "id": "7Vhsj72Fv8ao"
      },
      "source": [
        "Чтобы не писать вручную строку с цифрами '1234567890', можно импортировать ее из библиотеки string"
      ]
    },
    {
      "cell_type": "code",
      "metadata": {
        "id": "dxTiY1H2v8ao"
      },
      "source": [
        "print(string.digits) "
      ],
      "execution_count": null,
      "outputs": []
    },
    {
      "cell_type": "code",
      "metadata": {
        "id": "oqvwCz93v8ao"
      },
      "source": [
        "print(digits) # ничего не получится"
      ],
      "execution_count": null,
      "outputs": []
    },
    {
      "cell_type": "markdown",
      "metadata": {
        "id": "hOFDH2Gmv8ao"
      },
      "source": [
        "Если хотим обращаться напрямую к элементу библиотеки, нужно импортировать его отдельно"
      ]
    },
    {
      "cell_type": "code",
      "metadata": {
        "id": "79NiXRBXv8ao"
      },
      "source": [
        "from string import digits"
      ],
      "execution_count": null,
      "outputs": []
    },
    {
      "cell_type": "code",
      "metadata": {
        "id": "7bj0GVR9v8ao"
      },
      "source": [
        "print(digits)"
      ],
      "execution_count": null,
      "outputs": []
    },
    {
      "cell_type": "code",
      "metadata": {
        "id": "LClkTYYiv8ao"
      },
      "source": [
        "def phone_cleaner(phone):      # определяем функцию и аргумент\n",
        "    clear_phone_result = ''    # создаем внутри функции переменную \n",
        "    for digit in phone:        # итерируем посимвольно то, что передано в качестве аргумента в функцию\n",
        "        if digit in digits:    # если символ входит в строку '1234567890'\n",
        "            clear_phone_result += digit # то добавляем этот символ в строку, где только цифры\n",
        "    return clear_phone_result\n"
      ],
      "execution_count": null,
      "outputs": []
    },
    {
      "cell_type": "code",
      "metadata": {
        "id": "SC3-8Dr9v8ap"
      },
      "source": [
        "\n",
        "\n"
      ],
      "execution_count": null,
      "outputs": []
    },
    {
      "cell_type": "code",
      "metadata": {
        "id": "vXybTTv4v8ap"
      },
      "source": [
        ""
      ],
      "execution_count": null,
      "outputs": []
    },
    {
      "cell_type": "code",
      "metadata": {
        "id": "xFYWZl-cv8ap"
      },
      "source": [
        ""
      ],
      "execution_count": null,
      "outputs": []
    },
    {
      "cell_type": "markdown",
      "metadata": {
        "id": "6gnMDMHXv8ap"
      },
      "source": [
        "## Модуль / библиотека  datetime"
      ]
    },
    {
      "cell_type": "markdown",
      "metadata": {
        "id": "tHU-wT-8v8ap"
      },
      "source": [
        "**При работе с данными, постоянно приходится сталкиваться с датами.**\n",
        "\n",
        "- сравнивать даты между собой, чтобы оценить, какие события произошли раньше\n",
        "- считать разницу между датами или временем, например, чтобы определить, сколько времени проходит между действиями пользователей\n",
        "\n",
        "**Работать с данными как со строками страшно неудобно**\n",
        "\n",
        "- придется писать сложные конструкции\n",
        "- искать в строке нечто похожее на название месяца\n",
        "- складывать месяц куда-то\n",
        "- писать сложные операции сложения и вычитания... \n",
        "\n",
        "**К счастью, для всего этого есть готовый модуль стандартной библиотеки datetime**\n",
        "\n",
        "Давайте импортируем его и посмотрим, что в нем есть"
      ]
    },
    {
      "cell_type": "code",
      "metadata": {
        "id": "XatQOL1Uv8ap"
      },
      "source": [
        "import datetime\n",
        "help(datetime)"
      ],
      "execution_count": null,
      "outputs": []
    },
    {
      "cell_type": "markdown",
      "metadata": {
        "id": "J6KSIOTov8ap"
      },
      "source": [
        "**Внутри этой библиотеки лежат объекты**\n"
      ]
    },
    {
      "cell_type": "markdown",
      "metadata": {
        "id": "Z-84jnciv8ap"
      },
      "source": [
        "\n",
        "    \n",
        "## Объекты. Что это такое, как этим пользоваться"
      ]
    },
    {
      "cell_type": "markdown",
      "metadata": {
        "id": "CNDRXG7Cv8aq"
      },
      "source": [
        "Объекты бывают абсолютно разными, но все их объединяет 2 базовые вещи: у объектов есть свойства и методы"
      ]
    },
    {
      "cell_type": "markdown",
      "metadata": {
        "id": "dNqjAimjv8aq"
      },
      "source": [
        "**Все в python является объектами/классами объектов.** \n",
        "\n",
        "\n",
        "Каждый класс объектов представляет собой отдельный, уникальный тип данных со своими методами и правилами:\n",
        "\n",
        "- строки и числа по-разному работают с арифметическими операторами\n",
        "- не все строковые методы применимы к спискам и словарям\n",
        "- не все типы данных индексируются и упорядочены\n",
        "- не все типы данных можно изменять\n"
      ]
    },
    {
      "cell_type": "code",
      "metadata": {
        "id": "piTuh9eHv8aq"
      },
      "source": [
        "list.append()\n",
        "str.find()"
      ],
      "execution_count": null,
      "outputs": []
    },
    {
      "cell_type": "markdown",
      "metadata": {
        "id": "0JufheF8v8aq"
      },
      "source": [
        "<div style=\"padding: 24px; background-color: #ff7775; border-radius: 24px; display: flex; align-items: center; justify-content: flex-start;\">\n",
        "  <img\n",
        "    style=\"width: 56px; height: 56px; margin: 0;\"\n",
        "    src=\"data:image/png;base64,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\"\n",
        "  />\n",
        "  <div style=\"font-size: 18px; line-height: 26px; font-family: Arial; color: white; margin-left: 32px;margin-top:16px;\">\n",
        "      Методы и атрибуты определяются для каждого конкретного объекта или класса объектов\n",
        "  </div>\n",
        "</div>\n",
        "      \n",
        " "
      ]
    },
    {
      "cell_type": "markdown",
      "metadata": {
        "id": "BplokeQkv8aq"
      },
      "source": [
        "## Объекты библиотеки datetime:\n",
        "\n",
        "- Дата и время  —  **datetime**\n",
        "- Дата  —  **date**\n",
        "- Временной отрезок  —  **timedelta**\n"
      ]
    },
    {
      "cell_type": "code",
      "metadata": {
        "id": "V-8LjK0yv8aq"
      },
      "source": [
        "help(datetime.datetime) # посмотрим подсказку по объекту datetime"
      ],
      "execution_count": null,
      "outputs": []
    },
    {
      "cell_type": "markdown",
      "metadata": {
        "id": "ag-2OvBXv8ar"
      },
      "source": [
        "### `datetime.now()` \n",
        "\n",
        "Получение текущей даты и времени"
      ]
    },
    {
      "cell_type": "code",
      "metadata": {
        "id": "0BE50Sjhv8ar"
      },
      "source": [
        "now = datetime.datetime.now()\n",
        "now"
      ],
      "execution_count": null,
      "outputs": []
    },
    {
      "cell_type": "code",
      "metadata": {
        "id": "ocxpLj3Fv8ar"
      },
      "source": [
        "print(now) # выведет в более привычном формате"
      ],
      "execution_count": null,
      "outputs": []
    },
    {
      "cell_type": "markdown",
      "metadata": {
        "id": "Fzk23eadv8ar"
      },
      "source": [
        "### `date.today()`\n",
        "\n",
        "Получение текущей даты"
      ]
    },
    {
      "cell_type": "code",
      "metadata": {
        "scrolled": true,
        "id": "mW14GoEav8ar"
      },
      "source": [
        "day = datetime.date.today()\n",
        "print(day)\n",
        "day"
      ],
      "execution_count": null,
      "outputs": []
    },
    {
      "cell_type": "markdown",
      "metadata": {
        "id": "7IQIn2R-v8ar"
      },
      "source": [
        "### Упростим конструкцию, импортировав сразу нужные объекты"
      ]
    },
    {
      "cell_type": "code",
      "metadata": {
        "id": "L0GdF4dJv8as"
      },
      "source": [
        "from datetime import date\n",
        "from datetime import datetime"
      ],
      "execution_count": null,
      "outputs": []
    },
    {
      "cell_type": "code",
      "metadata": {
        "id": "FRRU6OlUv8as"
      },
      "source": [
        "# и даже так, в одну строку, через запятую\n",
        "\n",
        "from datetime import datetime, date\n",
        "print(datetime.now())\n",
        "print(date.today())"
      ],
      "execution_count": null,
      "outputs": []
    },
    {
      "cell_type": "markdown",
      "metadata": {
        "id": "RQiUJO4Uv8as"
      },
      "source": [
        "### Задача\n",
        "\n",
        "Чтобы мониторить скорость обработки заявок, мы хотим отслеживать заявки, которые были сделаны больше недели назад, но не перешли в статус \"обработано\".\n",
        "\n",
        "Здесь нам пригодятся еще несколько методов объекта `datetime ` библиотеки  `datetime `"
      ]
    },
    {
      "cell_type": "markdown",
      "metadata": {
        "id": "Jimt8-CBv8as"
      },
      "source": [
        "### `datetime.strptime()`"
      ]
    },
    {
      "cell_type": "markdown",
      "metadata": {
        "id": "I_mYB3lHv8as"
      },
      "source": [
        "Нужен, когда мы получаем дату в строковом формате, а хотим работать с ней как с датой.\n",
        "\n",
        "Мы передаем методу два аргумента \n",
        "\n",
        "1. строку, которую хотим перевести в формат `datetime`\n",
        "2. описание этой строки, и что в ней лежит в формате\n",
        "\n",
        "    - `%d` - день месяца с 1 по 31\n",
        "    \n",
        "    - `%m` - месяц с 1 по 12\n",
        "    \n",
        "    - `%Y` - год в формате 1998\n",
        "    \n",
        "    - `%H` - час в формате 0-24\n",
        "    \n",
        "    - `%M` - минуты\n",
        "    \n",
        "    - `%S` - секунды\n",
        "    \n",
        "    \n",
        "Положим в переменную строку, в которой будет дата заявки, с которой мы работаем"
      ]
    },
    {
      "cell_type": "code",
      "metadata": {
        "id": "kOdswy7Yv8as"
      },
      "source": [
        "request_date = \"01/02/2021 13:00\"\n",
        "type(request_date)"
      ],
      "execution_count": null,
      "outputs": []
    },
    {
      "cell_type": "markdown",
      "metadata": {
        "id": "O7ohnvsXv8at"
      },
      "source": [
        "Приведем строку к формату datetime"
      ]
    },
    {
      "cell_type": "code",
      "metadata": {
        "id": "hiUi0l-6v8at"
      },
      "source": [
        "request_date = datetime.strptime(request_date,\"%d/%m/%Y %H:%M\") \n",
        "print(request_date)\n",
        "print(type(request_date))"
      ],
      "execution_count": null,
      "outputs": []
    },
    {
      "cell_type": "markdown",
      "metadata": {
        "id": "zI1v04UMv8at"
      },
      "source": [
        "**Теперь у нас есть дата в виде \"даты\", а не в виде строчки**"
      ]
    },
    {
      "cell_type": "markdown",
      "metadata": {
        "id": "7jAXxHH0v8at"
      },
      "source": [
        "Посмотрим, сколько времени прошло между текущим моментом и завкой"
      ]
    },
    {
      "cell_type": "code",
      "metadata": {
        "id": "XLnep8BDv8at"
      },
      "source": [
        "delta = now - request_date # арифметические операторы и здесь работают\n",
        "print(delta)"
      ],
      "execution_count": null,
      "outputs": []
    },
    {
      "cell_type": "markdown",
      "metadata": {
        "id": "s-PWisEbv8at"
      },
      "source": [
        "Но если мы захотим выяснить, больше недели прошло с какого-то момента или нет, столкнемся с нетривиальной задачей"
      ]
    },
    {
      "cell_type": "code",
      "metadata": {
        "id": "6hG0FcQQv8at"
      },
      "source": [
        "delta >= 7 # нельзя сравнивать с int"
      ],
      "execution_count": null,
      "outputs": []
    },
    {
      "cell_type": "code",
      "metadata": {
        "id": "kvuJtai2v8au"
      },
      "source": [
        "type(delta) # посмотрим, что лежит в переменной"
      ],
      "execution_count": null,
      "outputs": []
    },
    {
      "cell_type": "markdown",
      "metadata": {
        "id": "X6YH7WPvv8au"
      },
      "source": [
        "### `timedelta`\n",
        "\n",
        "Временной отрезок\n",
        "\n",
        "Может исчисляться во всех логичных единицах измерениях времени:\n",
        " - часы (hours)\n",
        " - минуты (minutes)\n",
        " - месяцы (months)\n",
        " - недели (weeks)\n",
        " -  и т.д."
      ]
    },
    {
      "cell_type": "code",
      "metadata": {
        "id": "ZqP6mfGXv8au"
      },
      "source": [
        "from datetime import timedelta\n",
        "\n",
        "one_day = timedelta(hours = 24) \n",
        "november = timedelta(days = 31)\n",
        "one_year = timedelta(days = 365)\n",
        "one_python_course = timedelta(weeks = 10, hours = 2)"
      ],
      "execution_count": null,
      "outputs": []
    },
    {
      "cell_type": "markdown",
      "metadata": {
        "id": "E0nXeFiwv8au"
      },
      "source": [
        "**Сравним между собой две переменные `timedelta`**\n",
        "\n",
        "Заведем переменную, в которой сохраним временной отрезок недели"
      ]
    },
    {
      "cell_type": "code",
      "metadata": {
        "id": "bA5rtKVBv8au"
      },
      "source": [
        "days_in_week = timedelta(days = 7) "
      ],
      "execution_count": null,
      "outputs": []
    },
    {
      "cell_type": "code",
      "metadata": {
        "id": "sn3wDX4Nv8au"
      },
      "source": [
        "delta >= days_in_week"
      ],
      "execution_count": null,
      "outputs": []
    },
    {
      "cell_type": "markdown",
      "metadata": {
        "id": "Wwngop5gv8au"
      },
      "source": [
        "### Задача\n",
        "\n",
        "Напишем функцию, которая возвращает заявки, пришедщие сегодня"
      ]
    },
    {
      "cell_type": "code",
      "metadata": {
        "id": "B1ucjHZrv8av"
      },
      "source": [
        "from orders_data import orders as order_info #загрузим данные о заявках"
      ],
      "execution_count": null,
      "outputs": []
    },
    {
      "cell_type": "code",
      "metadata": {
        "id": "ESeIr1plv8av"
      },
      "source": [
        "order_info # посмотрим, в каком формате нам приходят данные"
      ],
      "execution_count": null,
      "outputs": []
    },
    {
      "cell_type": "markdown",
      "metadata": {
        "id": "pzht6yNMv8av"
      },
      "source": [
        "В этой задаче нам пригодится не только переводить дату в формат  `datetime`, но и наоборот возвращать в формат строки, удобной для отчетности\n",
        "\n",
        "###  `.strftime()`\n",
        "\n",
        "Если мы хотим задать удобный нам формат времени и даты, есть метод .strftime, который форматирует даты в нужном формате в строку, это пригодится для формирования автоматических отчетов, например.\n",
        "\n",
        "   - `%d` - день месяца с 1 по 31\n",
        "   - `%m` - месяц с 1 по 12\n",
        "   - `%Y` - год в формате 1998\n",
        "   - `%H` - час в формате 0-24\n",
        "   - `%M` - минуты\n",
        "   - `%S` - секунды"
      ]
    },
    {
      "cell_type": "markdown",
      "metadata": {
        "id": "bCJQjCgLv8av"
      },
      "source": [
        "Форматов времени очень много, все их мы добавили в шпаргалку к занятию.\n",
        "\n",
        "Например, можно вывести дату вот так."
      ]
    },
    {
      "cell_type": "code",
      "metadata": {
        "id": "NnMaPlRJv8av"
      },
      "source": [
        "now.strftime(\"%A, %e. %B %y. %I:%M%p\")"
      ],
      "execution_count": null,
      "outputs": []
    },
    {
      "cell_type": "markdown",
      "metadata": {
        "id": "ruzo7iWIv8av"
      },
      "source": [
        "Мы готовы писать функцию, которая достанет все сегодняшние заявки"
      ]
    },
    {
      "cell_type": "code",
      "metadata": {
        "id": "WNtbQidXv8av"
      },
      "source": [
        "def today_order(order_dict):\n",
        "    new_dict = dict()                               # словарь, который будем возвращать\n",
        "    now = datetime.now()                            # переменная с текущей датой now\n",
        "    now_in_str = datetime.strftime(now, '%d.%m.%Y') # строка с датой для репортинга\n",
        "   \n",
        "    for key,value in order_dict.items():            # проверяем все заявки на дату заявки\n",
        "        if datetime.strptime(value,'%Y-%m-%d %H:%M').date() == now.date():\n",
        "            new_dict[key] = value\n",
        "    \n",
        "    return 'Заявки за {0}\\n {1}'.format(now_in_str, new_dict) # возвращаем форматированную строку"
      ],
      "execution_count": null,
      "outputs": []
    },
    {
      "cell_type": "code",
      "metadata": {
        "id": "e18f5XMJv8aw"
      },
      "source": [
        "print(today_order(order_info))# печатаем результат функции"
      ],
      "execution_count": null,
      "outputs": []
    },
    {
      "cell_type": "markdown",
      "metadata": {
        "id": "q91DmfB9v8aw"
      },
      "source": [
        "Отлично, все получилось!"
      ]
    },
    {
      "cell_type": "markdown",
      "metadata": {
        "id": "ex-9hvbLv8aw"
      },
      "source": [
        "<body>\n",
        "  <div\n",
        "    style=\"\n",
        "      padding-top: 298px;\n",
        "      padding-bottom: 298px;\n",
        "      background-color: black;\n",
        "      border-radius: 24px;\n",
        "    \"\n",
        "  >\n",
        "    <div style=\"text-align: center\">\n",
        "      <div\n",
        "        style=\"\n",
        "          font-size: 72px;\n",
        "          line-height: 80px;\n",
        "          font-family: Arial;\n",
        "          color: white;\n",
        "        \"\n",
        "      >\n",
        "        Спасибо за внимание\n",
        "      </div>\n",
        "    </div>\n",
        "  </div>\n",
        "</body>\n"
      ]
    }
  ]
}